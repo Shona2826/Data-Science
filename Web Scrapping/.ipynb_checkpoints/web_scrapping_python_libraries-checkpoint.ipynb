{
 "cells": [
  {
   "cell_type": "markdown",
   "metadata": {},
   "source": [
    "<h3>Python libraries for web-scraping:</h3><br>1. Requests<br>2.Beautiful Soup<br>3.Selenium<br>4.Scrapy"
   ]
  },
  {
   "cell_type": "markdown",
   "metadata": {},
   "source": [
    "<h3>Requests:</h3>As a preparation step to parsing, we can use Requests to download HTML and other files from the internet."
   ]
  },
  {
   "cell_type": "code",
   "execution_count": 45,
   "metadata": {},
   "outputs": [],
   "source": [
    "import requests"
   ]
  },
  {
   "cell_type": "code",
   "execution_count": 46,
   "metadata": {},
   "outputs": [
    {
     "data": {
      "text/plain": [
       "'[{\"id\":\"9878234577\",\"type\":\"CreateEvent\",\"actor\":{\"id\":34464582,\"login\":\"ecustyuanzhen\",\"display_login\":\"ecustyuanzhen\",\"gravatar_id\":\"\",\"url\":\"https://api.github.com/users/ecustyuanzhen\",\"avatar_url\":\"https://avatars.githubusercontent.com/u/34464582?\"},\"repo\":{\"id\":192367525,\"name\":\"ecustyuanzhen/socket\",\"url\":\"https://api.github.com/repos/ecustyuanzhen/socket\"},\"payload\":{\"ref\":\"develop\",\"ref_type\":\"branch\",\"master_branch\":\"master\",\"description\":null,\"pusher_type\":\"user\"},\"public\":true,\"created_at\":\"2019-06-24T07:01:32Z\"},{\"id\":\"9878234572\",\"type\":\"PushEvent\",\"actor\":{\"id\":40064494,\"login\":\"254-Ninja\",\"display_login\":\"254-Ninja\",\"gravatar_id\":\"\",\"url\":\"https://api.github.com/users/254-Ninja\",\"avatar_url\":\"https://avatars.githubusercontent.com/u/40064494?\"},\"repo\":{\"id\":177241675,\"name\":\"254-Ninja/Database\",\"url\":\"https://api.github.com/repos/254-Ninja/Database\"},\"payload\":{\"push_id\":3745056964,\"size\":1,\"distinct_size\":1,\"ref\":\"refs/heads/master\",\"head\":\"8b19fd57a65b8a8365bc3a9defd8220291cada99\",\"before\":\"e40a276a2a22ffc8c80d4cbd9e5d0703e70caa85\",\"commits\":[{\"sha\":\"8b19fd57a65b8a8365bc3a9defd8220291cada99\",\"author\":{\"email\":\"muthomidenis62@gmail.com\",\"name\":\"perfect-code-ninja\"},\"message\":\"myclass\",\"distinct\":true,\"url\":\"https://api.github.com/repos/254-Ninja/Database/commits/8b19fd57a65b8a8365bc3a9defd8220291cada99\"}]},\"public\":true,\"created_at\":\"2019-06-24T07:01:32Z\"},{\"id\":\"9878234569\",\"type\":\"PushEvent\",\"actor\":{\"id\":52150706,\"login\":\"sadinrain\",\"display_login\":\"sadinrain\",\"gravatar_id\":\"\",\"url\":\"https://api.github.com/users/sadinrain\",\"avatar_url\":\"https://avatars.githubusercontent.com/u/52150706?\"},\"repo\":{\"id\":193451254,\"name\":\"sadinrain/caouse-work\",\"url\":\"https://api.github.com/repos/sadinrain/caouse-work\"},\"payload\":{\"push_id\":3745056965,\"size\":1,\"distinct_size\":1,\"ref\":\"refs/heads/master\",\"head\":\"b6ce1e6e23a138ab6dbefe933d8861707607a5df\",\"before\":\"2d4f53d877af2dcacf319c0e2c8de94ac0c67d51\",\"commits\":[{\"sha\":\"b6ce1e6e23a138ab6dbefe933d8861707607a5df\",\"author\":{\"email\":\"52150706+sadinrain@users.noreply.github.com\",\"name\":\"sadinrain\"},\"message\":\"Rename 2018213047 to 2018213047_01\",\"distinct\":true,\"url\":\"https://api.github.com/repos/sadinrain/caouse-work/commits/b6ce1e6e23a138ab6dbefe933d8861707607a5df\"}]},\"public\":true,\"created_at\":\"2019-06-24T07:01:32Z\"},{\"id\":\"9878234570\",\"type\":\"CreateEvent\",\"actor\":{\"id\":27856297,\"login\":\"dependabot-preview[bot]\",\"display_login\":\"dependabot-preview\",\"gravatar_id\":\"\",\"url\":\"https://api.github.com/users/dependabot-preview[bot]\",\"avatar_url\":\"https://avatars.githubusercontent.com/u/27856297?\"},\"repo\":{\"id\":161133695,\"name\":\"goblin-laboratory/react-player\",\"url\":\"https://api.github.com/repos/goblin-laboratory/react-player\"},\"payload\":{\"ref\":\"dependabot/npm_and_yarn/eslint-plugin-react-7.14.0\",\"ref_type\":\"branch\",\"master_branch\":\"master\",\"description\":\"基于 react hooks 的 video 播放组件，结构简单，代码简洁，扩展方便。\",\"pusher_type\":\"user\"},\"public\":true,\"created_at\":\"2019-06-24T07:01:32Z\",\"org\":{\"id\":41275647,\"login\":\"goblin-laboratory\",\"gravatar_id\":\"\",\"url\":\"https://api.github.com/orgs/goblin-laboratory\",\"avatar_url\":\"https://avatars.githubusercontent.com/u/41275647?\"}},{\"id\":\"9878234566\",\"type\":\"PushEvent\",\"actor\":{\"id\":13102741,\"login\":\"ShunichiTanaka\",\"display_login\":\"ShunichiTanaka\",\"gravatar_id\":\"\",\"url\":\"https://api.github.com/users/ShunichiTanaka\",\"avatar_url\":\"https://avatars.githubusercontent.com/u/13102741?\"},\"repo\":{\"id\":192636009,\"name\":\"ShunichiTanaka/road_to_pythonist\",\"url\":\"https://api.github.com/repos/ShunichiTanaka/road_to_pythonist\"},\"payload\":{\"push_id\":3745056960,\"size\":1,\"distinct_size\":1,\"ref\":\"refs/heads/master\",\"head\":\"943e384e219ce93d10b79f1cea99f69c70ff6239\",\"before\":\"a8fab99c22b87c4ca8649bf05d7b5b7d5e5dceb1\",\"commits\":[{\"sha\":\"943e384e219ce93d10b79f1cea99f69c70ff6239\",\"author\":{\"email\":\"shunichi.tanaka@livesense.jp\",\"name\":\"shunichi.tanaka\"},\"message\":\"github側で表示エラーのため修正\",\"distinct\":true,\"url\":\"https://api.github.com/repos/ShunichiTanaka/road_to_pythonist/commits/943e384e219ce93d10b79f1cea99f69c70ff6239\"}]},\"public\":true,\"created_at\":\"2019-06-24T07:01:32Z\"},{\"id\":\"9878234559\",\"type\":\"CreateEvent\",\"actor\":{\"id\":47388737,\"login\":\"git2e\",\"display_login\":\"git2e\",\"gravatar_id\":\"\",\"url\":\"https://api.github.com/users/git2e\",\"avatar_url\":\"https://avatars.githubusercontent.com/u/47388737?\"},\"repo\":{\"id\":193451903,\"name\":\"git2e/46dbcbec-dc64-44d5-8e9e-768f333567d1\",\"url\":\"https://api.github.com/repos/git2e/46dbcbec-dc64-44d5-8e9e-768f333567d1\"},\"payload\":{\"ref\":\"test-branch\",\"ref_type\":\"branch\",\"master_branch\":\"master\",\"description\":\"repo description\",\"pusher_type\":\"user\"},\"public\":true,\"created_at\":\"2019-06-24T07:01:32Z\"},{\"id\":\"9878234550\",\"type\":\"PushEvent\",\"actor\":{\"id\":40586421,\"login\":\"himobi\",\"display_login\":\"himobi\",\"gravatar_id\":\"\",\"url\":\"https://api.github.com/users/himobi\",\"avatar_url\":\"https://avatars.githubusercontent.com/u/40586421?\"},\"repo\":{\"id\":138676186,\"name\":\"himobi/hotspot\",\"url\":\"https://api.github.com/repos/himobi/hotspot\"},\"payload\":{\"push_id\":3745056949,\"size\":1,\"distinct_size\":1,\"ref\":\"refs/heads/master\",\"head\":\"407ae1d5cbde75fdb186429836116bd1edf44caf\",\"before\":\"7b3761678473e568332f6e2070c4a2b8f773a14f\",\"commits\":[{\"sha\":\"407ae1d5cbde75fdb186429836116bd1edf44caf\",\"author\":{\"email\":\"40586421+himobi@users.noreply.github.com\",\"name\":\"himobi\"},\"message\":\"thank you\",\"distinct\":true,\"url\":\"https://api.github.com/repos/himobi/hotspot/commits/407ae1d5cbde75fdb186429836116bd1edf44caf\"}]},\"public\":true,\"created_at\":\"2019-06-24T07:01:32Z\"},{\"id\":\"9878234545\",\"type\":\"PushEvent\",\"actor\":{\"id\":43435632,\"login\":\"Pisav\",\"display_login\":\"Pisav\",\"gravatar_id\":\"\",\"url\":\"https://api.github.com/users/Pisav\",\"avatar_url\":\"https://avatars.githubusercontent.com/u/43435632?\"},\"repo\":{\"id\":186119651,\"name\":\"Pisav/eigen-thema\",\"url\":\"https://api.github.com/repos/Pisav/eigen-thema\"},\"payload\":{\"push_id\":3745056947,\"size\":1,\"distinct_size\":1,\"ref\":\"refs/heads/master\",\"head\":\"abf08c0460358e51422f08db288557b54d07bfce\",\"before\":\"e4be2750f15202ad92518684a0f697b230817729\",\"commits\":[{\"sha\":\"abf08c0460358e51422f08db288557b54d07bfce\",\"author\":{\"email\":\"27266@ma-web.nl\",\"name\":\"Vadim Pisa\"},\"message\":\"Delete header.php\",\"distinct\":true,\"url\":\"https://api.github.com/repos/Pisav/eigen-thema/commits/abf08c0460358e51422f08db288557b54d07bfce\"}]},\"public\":true,\"created_at\":\"2019-06-24T07:01:32Z\"},{\"id\":\"9878234544\",\"type\":\"PushEvent\",\"actor\":{\"id\":22785016,\"login\":\"milinovici\",\"display_login\":\"milinovici\",\"gravatar_id\":\"\",\"url\":\"https://api.github.com/users/milinovici\",\"avatar_url\":\"https://avatars.githubusercontent.com/u/22785016?\"},\"repo\":{\"id\":158367960,\"name\":\"jspubiasi/jspub\",\"url\":\"https://api.github.com/repos/jspubiasi/jspub\"},\"payload\":{\"push_id\":3745056945,\"size\":1,\"distinct_size\":1,\"ref\":\"refs/heads/devjspub4\",\"head\":\"efec8ab9f12fcc552833ed8f7c16d0ee20399569\",\"before\":\"835184fbfb97a236f864d54628009e4d06502d1c\",\"commits\":[{\"sha\":\"efec8ab9f12fcc552833ed8f7c16d0ee20399569\",\"author\":{\"email\":\"vlad.milinovici@tss-yonder.com\",\"name\":\"Vlad Ionut Milinovici\"},\"message\":\"Changed text order. Added images.\",\"distinct\":true,\"url\":\"https://api.github.com/repos/jspubiasi/jspub/commits/efec8ab9f12fcc552833ed8f7c16d0ee20399569\"}]},\"public\":true,\"created_at\":\"2019-06-24T07:01:32Z\"},{\"id\":\"9878234546\",\"type\":\"PullRequestEvent\",\"actor\":{\"id\":27856297,\"login\":\"dependabot-preview[bot]\",\"display_login\":\"dependabot-preview\",\"gravatar_id\":\"\",\"url\":\"https://api.github.com/users/dependabot-preview[bot]\",\"avatar_url\":\"https://avatars.githubusercontent.com/u/27856297?\"},\"repo\":{\"id\":187775372,\"name\":\"typeskrift/dayjs-utils\",\"url\":\"https://api.github.com/repos/typeskrift/dayjs-utils\"},\"payload\":{\"action\":\"opened\",\"number\":13,\"pull_request\":{\"url\":\"https://api.github.com/repos/typeskrift/dayjs-utils/pulls/13\",\"id\":290997845,\"node_id\":\"MDExOlB1bGxSZXF1ZXN0MjkwOTk3ODQ1\",\"html_url\":\"https://github.com/typeskrift/dayjs-utils/pull/13\",\"diff_url\":\"https://github.com/typeskrift/dayjs-utils/pull/13.diff\",\"patch_url\":\"https://github.com/typeskrift/dayjs-utils/pull/13.patch\",\"issue_url\":\"https://api.github.com/repos/typeskrift/dayjs-utils/issues/13\",\"number\":13,\"state\":\"open\",\"locked\":false,\"title\":\"Bump @types/node from 12.0.8 to 12.0.10\",\"user\":{\"login\":\"dependabot-preview[bot]\",\"id\":27856297,\"node_id\":\"MDM6Qm90Mjc4NTYyOTc=\",\"avatar_url\":\"https://avatars3.githubusercontent.com/in/2141?v=4\",\"gravatar_id\":\"\",\"url\":\"https://api.github.com/users/dependabot-preview%5Bbot%5D\",\"html_url\":\"https://github.com/apps/dependabot-preview\",\"followers_url\":\"https://api.github.com/users/dependabot-preview%5Bbot%5D/followers\",\"following_url\":\"https://api.github.com/users/dependabot-preview%5Bbot%5D/following{/other_user}\",\"gists_url\":\"https://api.github.com/users/dependabot-preview%5Bbot%5D/gists{/gist_id}\",\"starred_url\":\"https://api.github.com/users/dependabot-preview%5Bbot%5D/starred{/owner}{/repo}\",\"subscriptions_url\":\"https://api.github.com/users/dependabot-preview%5Bbot%5D/subscriptions\",\"organizations_url\":\"https://api.github.com/users/dependabot-preview%5Bbot%5D/orgs\",\"repos_url\":\"https://api.github.com/users/dependabot-preview%5Bbot%5D/repos\",\"events_url\":\"https://api.github.com/users/dependabot-preview%5Bbot%5D/events{/privacy}\",\"received_events_url\":\"https://api.github.com/users/dependabot-preview%5Bbot%5D/received_events\",\"type\":\"Bot\",\"site_admin\":false},\"body\":\"Bumps [@types/node](https://github.com/DefinitelyTyped/DefinitelyTyped/tree/HEAD/types/node) from 12.0.8 to 12.0.10.\\\\n<details>\\\\n<summary>Commits</summary>\\\\n\\\\n- See full diff in [compare view](https://github.com/DefinitelyTyped/DefinitelyTyped/commits/HEAD/types/node)\\\\n</details>\\\\n<br />\\\\n\\\\n[![Dependabot compatibility score](https://api.dependabot.com/badges/compatibility_score?dependency-name=@types/node&package-manager=npm_and_yarn&previous-version=12.0.8&new-version=12.0.10)](https://dependabot.com/compatibility-score.html?dependency-name=@types/node&package-manager=npm_and_yarn&previous-version=12.0.8&new-version=12.0.10)\\\\n\\\\nDependabot will resolve any conflicts with this PR as long as you don\\'t alter it yourself. You can also trigger a rebase manually by commenting `@dependabot rebase`.\\\\n\\\\n[//]: # (dependabot-automerge-start)\\\\n[//]: # (dependabot-automerge-end)\\\\n\\\\n---\\\\n\\\\n<details>\\\\n<summary>Dependabot commands and options</summary>\\\\n<br />\\\\n\\\\nYou can trigger Dependabot actions by commenting on this PR:\\\\n- `@dependabot rebase` will rebase this PR\\\\n- `@dependabot recreate` will recreate this PR, overwriting any edits that have been made to it\\\\n- `@dependabot merge` will merge this PR after your CI passes on it\\\\n- `@dependabot squash and merge` will squash and merge this PR after your CI passes on it\\\\n- `@dependabot cancel merge` will cancel a previously requested merge and block automerging\\\\n- `@dependabot reopen` will reopen this PR if it is closed\\\\n- `@dependabot ignore this [patch|minor|major] version` will close this PR and stop Dependabot creating any more for this minor/major version (unless you reopen the PR or upgrade to it yourself)\\\\n- `@dependabot ignore this dependency` will close this PR and stop Dependabot creating any more for this dependency (unless you reopen the PR or upgrade to it yourself)\\\\n- `@dependabot use these labels` will set the current labels as the default for future PRs for this repo and language\\\\n- `@dependabot use these reviewers` will set the current reviewers as the default for future PRs for this repo and language\\\\n- `@dependabot use these assignees` will set the current assignees as the default for future PRs for this repo and language\\\\n- `@dependabot use this milestone` will set the current milestone as the default for future PRs for this repo and language\\\\n- `@dependabot badge me` will comment on this PR with code to add a \\\\\"Dependabot enabled\\\\\" badge to your readme\\\\n\\\\nAdditionally, you can set the following in your Dependabot [dashboard](https://app.dependabot.com):\\\\n- Update frequency (including time of day and day of week)\\\\n- Pull request limits (per update run and/or open at any time)\\\\n- Out-of-range updates (receive only lockfile updates, if desired)\\\\n- Security updates (receive only security updates, if desired)\\\\n\\\\nFinally, you can contact us by mentioning @dependabot.\\\\n\\\\n</details>\",\"created_at\":\"2019-06-24T07:01:32Z\",\"updated_at\":\"2019-06-24T07:01:32Z\",\"closed_at\":null,\"merged_at\":null,\"merge_commit_sha\":null,\"assignee\":null,\"assignees\":[],\"requested_reviewers\":[],\"requested_teams\":[],\"labels\":[],\"milestone\":null,\"commits_url\":\"https://api.github.com/repos/typeskrift/dayjs-utils/pulls/13/commits\",\"review_comments_url\":\"https://api.github.com/repos/typeskrift/dayjs-utils/pulls/13/comments\",\"review_comment_url\":\"https://api.github.com/repos/typeskrift/dayjs-utils/pulls/comments{/number}\",\"comments_url\":\"https://api.github.com/repos/typeskrift/dayjs-utils/issues/13/comments\",\"statuses_url\":\"https://api.github.com/repos/typeskrift/dayjs-utils/statuses/c49385efbb7e32240b2fcd7756ce2280a18965fd\",\"head\":{\"label\":\"typeskrift:dependabot/npm_and_yarn/@types/node-12.0.10\",\"ref\":\"dependabot/npm_and_yarn/@types/node-12.0.10\",\"sha\":\"c49385efbb7e32240b2fcd7756ce2280a18965fd\",\"user\":{\"login\":\"typeskrift\",\"id\":51363366,\"node_id\":\"MDEyOk9yZ2FuaXphdGlvbjUxMzYzMzY2\",\"avatar_url\":\"https://avatars2.githubusercontent.com/u/51363366?v=4\",\"gravatar_id\":\"\",\"url\":\"https://api.github.com/users/typeskrift\",\"html_url\":\"https://github.com/typeskrift\",\"followers_url\":\"https://api.github.com/users/typeskrift/followers\",\"following_url\":\"https://api.github.com/users/typeskrift/following{/other_user}\",\"gists_url\":\"https://api.github.com/users/typeskrift/gists{/gist_id}\",\"starred_url\":\"https://api.github.com/users/typeskrift/starred{/owner}{/repo}\",\"subscriptions_url\":\"https://api.github.com/users/typeskrift/subscriptions\",\"organizations_url\":\"https://api.github.com/users/typeskrift/orgs\",\"repos_url\":\"https://api.github.com/users/typeskrift/repos\",\"events_url\":\"https://api.github.com/users/typeskrift/events{/privacy}\",\"received_events_url\":\"https://api.github.com/users/typeskrift/received_events\",\"type\":\"Organization\",\"site_admin\":false},\"repo\":{\"id\":187775372,\"node_id\":\"MDEwOlJlcG9zaXRvcnkxODc3NzUzNzI=\",\"name\":\"dayjs-utils\",\"full_name\":\"typeskrift/dayjs-utils\",\"private\":false,\"owner\":{\"login\":\"typeskrift\",\"id\":51363366,\"node_id\":\"MDEyOk9yZ2FuaXphdGlvbjUxMzYzMzY2\",\"avatar_url\":\"https://avatars2.githubusercontent.com/u/51363366?v=4\",\"gravatar_id\":\"\",\"url\":\"https://api.github.com/users/typeskrift\",\"html_url\":\"https://github.com/typeskrift\",\"followers_url\":\"https://api.github.com/users/typeskrift/followers\",\"following_url\":\"https://api.github.com/users/typeskrift/following{/other_user}\",\"gists_url\":\"https://api.github.com/users/typeskrift/gists{/gist_id}\",\"starred_url\":\"https://api.github.com/users/typeskrift/starred{/owner}{/repo}\",\"subscriptions_url\":\"https://api.github.com/users/typeskrift/subscriptions\",\"organizations_url\":\"https://api.github.com/users/typeskrift/orgs\",\"repos_url\":\"https://api.github.com/users/typeskrift/repos\",\"events_url\":\"https://api.github.com/users/typeskrift/events{/privacy}\",\"received_events_url\":\"https://api.github.com/users/typeskrift/received_events\",\"type\":\"Organization\",\"site_admin\":false},\"html_url\":\"https://github.com/typeskrift/dayjs-utils\",\"description\":\"day.js plugin to provide convenient helpers for a less verbose API.\",\"fork\":false,\"url\":\"https://api.github.com/repos/typeskrift/dayjs-utils\",\"forks_url\":\"https://api.github.com/repos/typeskrift/dayjs-utils/forks\",\"keys_url\":\"https://api.github.com/repos/typeskrift/dayjs-utils/keys{/key_id}\",\"collaborators_url\":\"https://api.github.com/repos/typeskrift/dayjs-utils/collaborators{/collaborator}\",\"teams_url\":\"https://api.github.com/repos/typeskrift/dayjs-utils/teams\",\"hooks_url\":\"https://api.github.com/repos/typeskrift/dayjs-utils/hooks\",\"issue_events_url\":\"https://api.github.com/repos/typeskrift/dayjs-utils/issues/events{/number}\",\"events_url\":\"https://api.github.com/repos/typeskrift/dayjs-utils/events\",\"assignees_url\":\"https://api.github.com/repos/typeskrift/dayjs-utils/assignees{/user}\",\"branches_url\":\"https://api.github.com/repos/typeskrift/dayjs-utils/branches{/branch}\",\"tags_url\":\"https://api.github.com/repos/typeskrift/dayjs-utils/tags\",\"blobs_url\":\"https://api.github.com/repos/typeskrift/dayjs-utils/git/blobs{/sha}\",\"git_tags_url\":\"https://api.github.com/repos/typeskrift/dayjs-utils/git/tags{/sha}\",\"git_refs_url\":\"https://api.github.com/repos/typeskrift/dayjs-utils/git/refs{/sha}\",\"trees_url\":\"https://api.github.com/repos/typeskrift/dayjs-utils/git/trees{/sha}\",\"statuses_url\":\"https://api.github.com/repos/typeskrift/dayjs-utils/statuses/{sha}\",\"languages_url\":\"https://api.github.com/repos/typeskrift/dayjs-utils/languages\",\"stargazers_url\":\"https://api.github.com/repos/typeskrift/dayjs-utils/stargazers\",\"contributors_url\":\"https://api.github.com/repos/typeskrift/dayjs-utils/contributors\",\"subscribers_url\":\"https://api.github.com/repos/typeskrift/dayjs-utils/subscribers\",\"subscription_url\":\"https://api.github.com/repos/typeskrift/dayjs-utils/subscription\",\"commits_url\":\"https://api.github.com/repos/typeskrift/dayjs-utils/commits{/sha}\",\"git_commits_url\":\"https://api.github.com/repos/typeskrift/dayjs-utils/git/commits{/sha}\",\"comments_url\":\"https://api.github.com/repos/typeskrift/dayjs-utils/comments{/number}\",\"issue_comment_url\":\"https://api.github.com/repos/typeskrift/dayjs-utils/issues/comments{/number}\",\"contents_url\":\"https://api.github.com/repos/typeskrift/dayjs-utils/contents/{+path}\",\"compare_url\":\"https://api.github.com/repos/typeskrift/dayjs-utils/compare/{base}...{head}\",\"merges_url\":\"https://api.github.com/repos/typeskrift/dayjs-utils/merges\",\"archive_url\":\"https://api.github.com/repos/typeskrift/dayjs-utils/{archive_format}{/ref}\",\"downloads_url\":\"https://api.github.com/repos/typeskrift/dayjs-utils/downloads\",\"issues_url\":\"https://api.github.com/repos/typeskrift/dayjs-utils/issues{/number}\",\"pulls_url\":\"https://api.github.com/repos/typeskrift/dayjs-utils/pulls{/number}\",\"milestones_url\":\"https://api.github.com/repos/typeskrift/dayjs-utils/milestones{/number}\",\"notifications_url\":\"https://api.github.com/repos/typeskrift/dayjs-utils/notifications{?since,all,participating}\",\"labels_url\":\"https://api.github.com/repos/typeskrift/dayjs-utils/labels{/name}\",\"releases_url\":\"https://api.github.com/repos/typeskrift/dayjs-utils/releases{/id}\",\"deployments_url\":\"https://api.github.com/repos/typeskrift/dayjs-utils/deployments\",\"created_at\":\"2019-05-21T06:30:15Z\",\"updated_at\":\"2019-06-18T07:19:15Z\",\"pushed_at\":\"2019-06-24T07:01:31Z\",\"git_url\":\"git://github.com/typeskrift/dayjs-utils.git\",\"ssh_url\":\"git@github.com:typeskrift/dayjs-utils.git\",\"clone_url\":\"https://github.com/typeskrift/dayjs-utils.git\",\"svn_url\":\"https://github.com/typeskrift/dayjs-utils\",\"homepage\":\"https://github.com/iamkun/dayjs\",\"size\":874,\"stargazers_count\":0,\"watchers_count\":0,\"language\":\"TypeScript\",\"has_issues\":true,\"has_projects\":true,\"has_downloads\":true,\"has_wiki\":true,\"has_pages\":false,\"forks_count\":0,\"mirror_url\":null,\"archived\":false,\"disabled\":false,\"open_issues_count\":2,\"license\":{\"key\":\"mpl-2.0\",\"name\":\"Mozilla Public License 2.0\",\"spdx_id\":\"MPL-2.0\",\"url\":\"https://api.github.com/licenses/mpl-2.0\",\"node_id\":\"MDc6TGljZW5zZTE0\"},\"forks\":0,\"open_issues\":2,\"watchers\":0,\"default_branch\":\"master\"}},\"base\":{\"label\":\"typeskrift:master\",\"ref\":\"master\",\"sha\":\"d4a86e264e360576b3bf0bb6400579589e8237f4\",\"user\":{\"login\":\"typeskrift\",\"id\":51363366,\"node_id\":\"MDEyOk9yZ2FuaXphdGlvbjUxMzYzMzY2\",\"avatar_url\":\"https://avatars2.githubusercontent.com/u/51363366?v=4\",\"gravatar_id\":\"\",\"url\":\"https://api.github.com/users/typeskrift\",\"html_url\":\"https://github.com/typeskrift\",\"followers_url\":\"https://api.github.com/users/typeskrift/followers\",\"following_url\":\"https://api.github.com/users/typeskrift/following{/other_user}\",\"gists_url\":\"https://api.github.com/users/typeskrift/gists{/gist_id}\",\"starred_url\":\"https://api.github.com/users/typeskrift/starred{/owner}{/repo}\",\"subscriptions_url\":\"https://api.github.com/users/typeskrift/subscriptions\",\"organizations_url\":\"https://api.github.com/users/typeskrift/orgs\",\"repos_url\":\"https://api.github.com/users/typeskrift/repos\",\"events_url\":\"https://api.github.com/users/typeskrift/events{/privacy}\",\"received_events_url\":\"https://api.github.com/users/typeskrift/received_events\",\"type\":\"Organization\",\"site_admin\":false},\"repo\":{\"id\":187775372,\"node_id\":\"MDEwOlJlcG9zaXRvcnkxODc3NzUzNzI=\",\"name\":\"dayjs-utils\",\"full_name\":\"typeskrift/dayjs-utils\",\"private\":false,\"owner\":{\"login\":\"typeskrift\",\"id\":51363366,\"node_id\":\"MDEyOk9yZ2FuaXphdGlvbjUxMzYzMzY2\",\"avatar_url\":\"https://avatars2.githubusercontent.com/u/51363366?v=4\",\"gravatar_id\":\"\",\"url\":\"https://api.github.com/users/typeskrift\",\"html_url\":\"https://github.com/typeskrift\",\"followers_url\":\"https://api.github.com/users/typeskrift/followers\",\"following_url\":\"https://api.github.com/users/typeskrift/following{/other_user}\",\"gists_url\":\"https://api.github.com/users/typeskrift/gists{/gist_id}\",\"starred_url\":\"https://api.github.com/users/typeskrift/starred{/owner}{/repo}\",\"subscriptions_url\":\"https://api.github.com/users/typeskrift/subscriptions\",\"organizations_url\":\"https://api.github.com/users/typeskrift/orgs\",\"repos_url\":\"https://api.github.com/users/typeskrift/repos\",\"events_url\":\"https://api.github.com/users/typeskrift/events{/privacy}\",\"received_events_url\":\"https://api.github.com/users/typeskrift/received_events\",\"type\":\"Organization\",\"site_admin\":false},\"html_url\":\"https://github.com/typeskrift/dayjs-utils\",\"description\":\"day.js plugin to provide convenient helpers for a less verbose API.\",\"fork\":false,\"url\":\"https://api.github.com/repos/typeskrift/dayjs-utils\",\"forks_url\":\"https://api.github.com/repos/typeskrift/dayjs-utils/forks\",\"keys_url\":\"https://api.github.com/repos/typeskrift/dayjs-utils/keys{/key_id}\",\"collaborators_url\":\"https://api.github.com/repos/typeskrift/dayjs-utils/collaborators{/collaborator}\",\"teams_url\":\"https://api.github.com/repos/typeskrift/dayjs-utils/teams\",\"hooks_url\":\"https://api.github.com/repos/typeskrift/dayjs-utils/hooks\",\"issue_events_url\":\"https://api.github.com/repos/typeskrift/dayjs-utils/issues/events{/number}\",\"events_url\":\"https://api.github.com/repos/typeskrift/dayjs-utils/events\",\"assignees_url\":\"https://api.github.com/repos/typeskrift/dayjs-utils/assignees{/user}\",\"branches_url\":\"https://api.github.com/repos/typeskrift/dayjs-utils/branches{/branch}\",\"tags_url\":\"https://api.github.com/repos/typeskrift/dayjs-utils/tags\",\"blobs_url\":\"https://api.github.com/repos/typeskrift/dayjs-utils/git/blobs{/sha}\",\"git_tags_url\":\"https://api.github.com/repos/typeskrift/dayjs-utils/git/tags{/sha}\",\"git_refs_url\":\"https://api.github.com/repos/typeskrift/dayjs-utils/git/refs{/sha}\",\"trees_url\":\"https://api.github.com/repos/typeskrift/dayjs-utils/git/trees{/sha}\",\"statuses_url\":\"https://api.github.com/repos/typeskrift/dayjs-utils/statuses/{sha}\",\"languages_url\":\"https://api.github.com/repos/typeskrift/dayjs-utils/languages\",\"stargazers_url\":\"https://api.github.com/repos/typeskrift/dayjs-utils/stargazers\",\"contributors_url\":\"https://api.github.com/repos/typeskrift/dayjs-utils/contributors\",\"subscribers_url\":\"https://api.github.com/repos/typeskrift/dayjs-utils/subscribers\",\"subscription_url\":\"https://api.github.com/repos/typeskrift/dayjs-utils/subscription\",\"commits_url\":\"https://api.github.com/repos/typeskrift/dayjs-utils/commits{/sha}\",\"git_commits_url\":\"https://api.github.com/repos/typeskrift/dayjs-utils/git/commits{/sha}\",\"comments_url\":\"https://api.github.com/repos/typeskrift/dayjs-utils/comments{/number}\",\"issue_comment_url\":\"https://api.github.com/repos/typeskrift/dayjs-utils/issues/comments{/number}\",\"contents_url\":\"https://api.github.com/repos/typeskrift/dayjs-utils/contents/{+path}\",\"compare_url\":\"https://api.github.com/repos/typeskrift/dayjs-utils/compare/{base}...{head}\",\"merges_url\":\"https://api.github.com/repos/typeskrift/dayjs-utils/merges\",\"archive_url\":\"https://api.github.com/repos/typeskrift/dayjs-utils/{archive_format}{/ref}\",\"downloads_url\":\"https://api.github.com/repos/typeskrift/dayjs-utils/downloads\",\"issues_url\":\"https://api.github.com/repos/typeskrift/dayjs-utils/issues{/number}\",\"pulls_url\":\"https://api.github.com/repos/typeskrift/dayjs-utils/pulls{/number}\",\"milestones_url\":\"https://api.github.com/repos/typeskrift/dayjs-utils/milestones{/number}\",\"notifications_url\":\"https://api.github.com/repos/typeskrift/dayjs-utils/notifications{?since,all,participating}\",\"labels_url\":\"https://api.github.com/repos/typeskrift/dayjs-utils/labels{/name}\",\"releases_url\":\"https://api.github.com/repos/typeskrift/dayjs-utils/releases{/id}\",\"deployments_url\":\"https://api.github.com/repos/typeskrift/dayjs-utils/deployments\",\"created_at\":\"2019-05-21T06:30:15Z\",\"updated_at\":\"2019-06-18T07:19:15Z\",\"pushed_at\":\"2019-06-24T07:01:31Z\",\"git_url\":\"git://github.com/typeskrift/dayjs-utils.git\",\"ssh_url\":\"git@github.com:typeskrift/dayjs-utils.git\",\"clone_url\":\"https://github.com/typeskrift/dayjs-utils.git\",\"svn_url\":\"https://github.com/typeskrift/dayjs-utils\",\"homepage\":\"https://github.com/iamkun/dayjs\",\"size\":874,\"stargazers_count\":0,\"watchers_count\":0,\"language\":\"TypeScript\",\"has_issues\":true,\"has_projects\":true,\"has_downloads\":true,\"has_wiki\":true,\"has_pages\":false,\"forks_count\":0,\"mirror_url\":null,\"archived\":false,\"disabled\":false,\"open_issues_count\":2,\"license\":{\"key\":\"mpl-2.0\",\"name\":\"Mozilla Public License 2.0\",\"spdx_id\":\"MPL-2.0\",\"url\":\"https://api.github.com/licenses/mpl-2.0\",\"node_id\":\"MDc6TGljZW5zZTE0\"},\"forks\":0,\"open_issues\":2,\"watchers\":0,\"default_branch\":\"master\"}},\"_links\":{\"self\":{\"href\":\"https://api.github.com/repos/typeskrift/dayjs-utils/pulls/13\"},\"html\":{\"href\":\"https://github.com/typeskrift/dayjs-utils/pull/13\"},\"issue\":{\"href\":\"https://api.github.com/repos/typeskrift/dayjs-utils/issues/13\"},\"comments\":{\"href\":\"https://api.github.com/repos/typeskrift/dayjs-utils/issues/13/comments\"},\"review_comments\":{\"href\":\"https://api.github.com/repos/typeskrift/dayjs-utils/pulls/13/comments\"},\"review_comment\":{\"href\":\"https://api.github.com/repos/typeskrift/dayjs-utils/pulls/comments{/number}\"},\"commits\":{\"href\":\"https://api.github.com/repos/typeskrift/dayjs-utils/pulls/13/commits\"},\"statuses\":{\"href\":\"https://api.github.com/repos/typeskrift/dayjs-utils/statuses/c49385efbb7e32240b2fcd7756ce2280a18965fd\"}},\"author_association\":\"CONTRIBUTOR\",\"merged\":false,\"mergeable\":null,\"rebaseable\":null,\"mergeable_state\":\"unknown\",\"merged_by\":null,\"comments\":0,\"review_comments\":0,\"maintainer_can_modify\":false,\"commits\":1,\"additions\":3,\"deletions\":3,\"changed_files\":1}},\"public\":true,\"created_at\":\"2019-06-24T07:01:32Z\",\"org\":{\"id\":51363366,\"login\":\"typeskrift\",\"gravatar_id\":\"\",\"url\":\"https://api.github.com/orgs/typeskrift\",\"avatar_url\":\"https://avatars.githubusercontent.com/u/51363366?\"}},{\"id\":\"9878234542\",\"type\":\"PullRequestEvent\",\"actor\":{\"id\":16553272,\"login\":\"blackinno\",\"display_login\":\"blackinno\",\"gravatar_id\":\"\",\"url\":\"https://api.github.com/users/blackinno\",\"avatar_url\":\"https://avatars.githubusercontent.com/u/16553272?\"},\"repo\":{\"id\":177146791,\"name\":\"mesg-foundation/atd\",\"url\":\"https://api.github.com/repos/mesg-foundation/atd\"},\"payload\":{\"action\":\"opened\",\"number\":37,\"pull_request\":{\"url\":\"https://api.github.com/repos/mesg-foundation/atd/pulls/37\",\"id\":290997843,\"node_id\":\"MDExOlB1bGxSZXF1ZXN0MjkwOTk3ODQz\",\"html_url\":\"https://github.com/mesg-foundation/atd/pull/37\",\"diff_url\":\"https://github.com/mesg-foundation/atd/pull/37.diff\",\"patch_url\":\"https://github.com/mesg-foundation/atd/pull/37.patch\",\"issue_url\":\"https://api.github.com/repos/mesg-foundation/atd/issues/37\",\"number\":37,\"state\":\"open\",\"locked\":false,\"title\":\"Change favicon and rename website\",\"user\":{\"login\":\"blackinno\",\"id\":16553272,\"node_id\":\"MDQ6VXNlcjE2NTUzMjcy\",\"avatar_url\":\"https://avatars1.githubusercontent.com/u/16553272?v=4\",\"gravatar_id\":\"\",\"url\":\"https://api.github.com/users/blackinno\",\"html_url\":\"https://github.com/blackinno\",\"followers_url\":\"https://api.github.com/users/blackinno/followers\",\"following_url\":\"https://api.github.com/users/blackinno/following{/other_user}\",\"gists_url\":\"https://api.github.com/users/blackinno/gists{/gist_id}\",\"starred_url\":\"https://api.github.com/users/blackinno/starred{/owner}{/repo}\",\"subscriptions_url\":\"https://api.github.com/users/blackinno/subscriptions\",\"organizations_url\":\"https://api.github.com/users/blackinno/orgs\",\"repos_url\":\"https://api.github.com/users/blackinno/repos\",\"events_url\":\"https://api.github.com/users/blackinno/events{/privacy}\",\"received_events_url\":\"https://api.github.com/users/blackinno/received_events\",\"type\":\"User\",\"site_admin\":false},\"body\":\"- Change the favicon website. Closes https://github.com/mesg-foundation/atd/issues/32\\\\r\\\\n- Rename website. Closes https://github.com/mesg-foundation/atd/issues/33\",\"created_at\":\"2019-06-24T07:01:32Z\",\"updated_at\":\"2019-06-24T07:01:32Z\",\"closed_at\":null,\"merged_at\":null,\"merge_commit_sha\":null,\"assignee\":null,\"assignees\":[],\"requested_reviewers\":[{\"login\":\"antho1404\",\"id\":1783126,\"node_id\":\"MDQ6VXNlcjE3ODMxMjY=\",\"avatar_url\":\"https://avatars2.githubusercontent.com/u/1783126?v=4\",\"gravatar_id\":\"\",\"url\":\"https://api.github.com/users/antho1404\",\"html_url\":\"https://github.com/antho1404\",\"followers_url\":\"https://api.github.com/users/antho1404/followers\",\"following_url\":\"https://api.github.com/users/antho1404/following{/other_user}\",\"gists_url\":\"https://api.github.com/users/antho1404/gists{/gist_id}\",\"starred_url\":\"https://api.github.com/users/antho1404/starred{/owner}{/repo}\",\"subscriptions_url\":\"https://api.github.com/users/antho1404/subscriptions\",\"organizations_url\":\"https://api.github.com/users/antho1404/orgs\",\"repos_url\":\"https://api.github.com/users/antho1404/repos\",\"events_url\":\"https://api.github.com/users/antho1404/events{/privacy}\",\"received_events_url\":\"https://api.github.com/users/antho1404/received_events\",\"type\":\"User\",\"site_admin\":false},{\"login\":\"NicolasMahe\",\"id\":5823445,\"node_id\":\"MDQ6VXNlcjU4MjM0NDU=\",\"avatar_url\":\"https://avatars1.githubusercontent.com/u/5823445?v=4\",\"gravatar_id\":\"\",\"url\":\"https://api.github.com/users/NicolasMahe\",\"html_url\":\"https://github.com/NicolasMahe\",\"followers_url\":\"https://api.github.com/users/NicolasMahe/followers\",\"following_url\":\"https://api.github.com/users/NicolasMahe/following{/other_user}\",\"gists_url\":\"https://api.github.com/users/NicolasMahe/gists{/gist_id}\",\"starred_url\":\"https://api.github.com/users/NicolasMahe/starred{/owner}{/repo}\",\"subscriptions_url\":\"https://api.github.com/users/NicolasMahe/subscriptions\",\"organizations_url\":\"https://api.github.com/users/NicolasMahe/orgs\",\"repos_url\":\"https://api.github.com/users/NicolasMahe/repos\",\"events_url\":\"https://api.github.com/users/NicolasMahe/events{/privacy}\",\"received_events_url\":\"https://api.github.com/users/NicolasMahe/received_events\",\"type\":\"User\",\"site_admin\":false}],\"requested_teams\":[],\"labels\":[],\"milestone\":null,\"commits_url\":\"https://api.github.com/repos/mesg-foundation/atd/pulls/37/commits\",\"review_comments_url\":\"https://api.github.com/repos/mesg-foundation/atd/pulls/37/comments\",\"review_comment_url\":\"https://api.github.com/repos/mesg-foundation/atd/pulls/comments{/number}\",\"comments_url\":\"https://api.github.com/repos/mesg-foundation/atd/issues/37/comments\",\"statuses_url\":\"https://api.github.com/repos/mesg-foundation/atd/statuses/408cb2c37f500e493cf348a6f873a37c8f143a83\",\"head\":{\"label\":\"mesg-foundation:renew-favicon-name\",\"ref\":\"renew-favicon-name\",\"sha\":\"408cb2c37f500e493cf348a6f873a37c8f143a83\",\"user\":{\"login\":\"mesg-foundation\",\"id\":34158802,\"node_id\":\"MDEyOk9yZ2FuaXphdGlvbjM0MTU4ODAy\",\"avatar_url\":\"https://avatars1.githubusercontent.com/u/34158802?v=4\",\"gravatar_id\":\"\",\"url\":\"https://api.github.com/users/mesg-foundation\",\"html_url\":\"https://github.com/mesg-foundation\",\"followers_url\":\"https://api.github.com/users/mesg-foundation/followers\",\"following_url\":\"https://api.github.com/users/mesg-foundation/following{/other_user}\",\"gists_url\":\"https://api.github.com/users/mesg-foundation/gists{/gist_id}\",\"starred_url\":\"https://api.github.com/users/mesg-foundation/starred{/owner}{/repo}\",\"subscriptions_url\":\"https://api.github.com/users/mesg-foundation/subscriptions\",\"organizations_url\":\"https://api.github.com/users/mesg-foundation/orgs\",\"repos_url\":\"https://api.github.com/users/mesg-foundation/repos\",\"events_url\":\"https://api.github.com/users/mesg-foundation/events{/privacy}\",\"received_events_url\":\"https://api.github.com/users/mesg-foundation/received_events\",\"type\":\"Organization\",\"site_admin\":false},\"repo\":{\"id\":177146791,\"node_id\":\"MDEwOlJlcG9zaXRvcnkxNzcxNDY3OTE=\",\"name\":\"atd\",\"full_name\":\"mesg-foundation/atd\",\"private\":false,\"owner\":{\"login\":\"mesg-foundation\",\"id\":34158802,\"node_id\":\"MDEyOk9yZ2FuaXphdGlvbjM0MTU4ODAy\",\"avatar_url\":\"https://avatars1.githubusercontent.com/u/34158802?v=4\",\"gravatar_id\":\"\",\"url\":\"https://api.github.com/users/mesg-foundation\",\"html_url\":\"https://github.com/mesg-foundation\",\"followers_url\":\"https://api.github.com/users/mesg-foundation/followers\",\"following_url\":\"https://api.github.com/users/mesg-foundation/following{/other_user}\",\"gists_url\":\"https://api.github.com/users/mesg-foundation/gists{/gist_id}\",\"starred_url\":\"https://api.github.com/users/mesg-foundation/starred{/owner}{/repo}\",\"subscriptions_url\":\"https://api.github.com/users/mesg-foundation/subscriptions\",\"organizations_url\":\"https://api.github.com/users/mesg-foundation/orgs\",\"repos_url\":\"https://api.github.com/users/mesg-foundation/repos\",\"events_url\":\"https://api.github.com/users/mesg-foundation/events{/privacy}\",\"received_events_url\":\"https://api.github.com/users/mesg-foundation/received_events\",\"type\":\"Organization\",\"site_admin\":false},\"html_url\":\"https://github.com/mesg-foundation/atd\",\"description\":\"Algorithmic Token Distribution smart contracts and website\",\"fork\":false,\"url\":\"https://api.github.com/repos/mesg-foundation/atd\",\"forks_url\":\"https://api.github.com/repos/mesg-foundation/atd/forks\",\"keys_url\":\"https://api.github.com/repos/mesg-foundation/atd/keys{/key_id}\",\"collaborators_url\":\"https://api.github.com/repos/mesg-foundation/atd/collaborators{/collaborator}\",\"teams_url\":\"https://api.github.com/repos/mesg-foundation/atd/teams\",\"hooks_url\":\"https://api.github.com/repos/mesg-foundation/atd/hooks\",\"issue_events_url\":\"https://api.github.com/repos/mesg-foundation/atd/issues/events{/number}\",\"events_url\":\"https://api.github.com/repos/mesg-foundation/atd/events\",\"assignees_url\":\"https://api.github.com/repos/mesg-foundation/atd/assignees{/user}\",\"branches_url\":\"https://api.github.com/repos/mesg-foundation/atd/branches{/branch}\",\"tags_url\":\"https://api.github.com/repos/mesg-foundation/atd/tags\",\"blobs_url\":\"https://api.github.com/repos/mesg-foundation/atd/git/blobs{/sha}\",\"git_tags_url\":\"https://api.github.com/repos/mesg-foundation/atd/git/tags{/sha}\",\"git_refs_url\":\"https://api.github.com/repos/mesg-foundation/atd/git/refs{/sha}\",\"trees_url\":\"https://api.github.com/repos/mesg-foundation/atd/git/trees{/sha}\",\"statuses_url\":\"https://api.github.com/repos/mesg-foundation/atd/statuses/{sha}\",\"languages_url\":\"https://api.github.com/repos/mesg-foundation/atd/languages\",\"stargazers_url\":\"https://api.github.com/repos/mesg-foundation/atd/stargazers\",\"contributors_url\":\"https://api.github.com/repos/mesg-foundation/atd/contributors\",\"subscribers_url\":\"https://api.github.com/repos/mesg-foundation/atd/subscribers\",\"subscription_url\":\"https://api.github.com/repos/mesg-foundation/atd/subscription\",\"commits_url\":\"https://api.github.com/repos/mesg-foundation/atd/commits{/sha}\",\"git_commits_url\":\"https://api.github.com/repos/mesg-foundation/atd/git/commits{/sha}\",\"comments_url\":\"https://api.github.com/repos/mesg-foundation/atd/comments{/number}\",\"issue_comment_url\":\"https://api.github.com/repos/mesg-foundation/atd/issues/comments{/number}\",\"contents_url\":\"https://api.github.com/repos/mesg-foundation/atd/contents/{+path}\",\"compare_url\":\"https://api.github.com/repos/mesg-foundation/atd/compare/{base}...{head}\",\"merges_url\":\"https://api.github.com/repos/mesg-foundation/atd/merges\",\"archive_url\":\"https://api.github.com/repos/mesg-foundation/atd/{archive_format}{/ref}\",\"downloads_url\":\"https://api.github.com/repos/mesg-foundation/atd/downloads\",\"issues_url\":\"https://api.github.com/repos/mesg-foundation/atd/issues{/number}\",\"pulls_url\":\"https://api.github.com/repos/mesg-foundation/atd/pulls{/number}\",\"milestones_url\":\"https://api.github.com/repos/mesg-foundation/atd/milestones{/number}\",\"notifications_url\":\"https://api.github.com/repos/mesg-foundation/atd/notifications{?since,all,participating}\",\"labels_url\":\"https://api.github.com/repos/mesg-foundation/atd/labels{/name}\",\"releases_url\":\"https://api.github.com/repos/mesg-foundation/atd/releases{/id}\",\"deployments_url\":\"https://api.github.com/repos/mesg-foundation/atd/deployments\",\"created_at\":\"2019-03-22T13:39:44Z\",\"updated_at\":\"2019-06-18T05:24:45Z\",\"pushed_at\":\"2019-06-24T06:56:29Z\",\"git_url\":\"git://github.com/mesg-foundation/atd.git\",\"ssh_url\":\"git@github.com:mesg-foundation/atd.git\",\"clone_url\":\"https://github.com/mesg-foundation/atd.git\",\"svn_url\":\"https://github.com/mesg-foundation/atd\",\"homepage\":\"https://atd.mesg.com\",\"size\":1904,\"stargazers_count\":0,\"watchers_count\":0,\"language\":\"JavaScript\",\"has_issues\":true,\"has_projects\":true,\"has_downloads\":true,\"has_wiki\":true,\"has_pages\":false,\"forks_count\":0,\"mirror_url\":null,\"archived\":false,\"disabled\":false,\"open_issues_count\":13,\"license\":{\"key\":\"apache-2.0\",\"name\":\"Apache License 2.0\",\"spdx_id\":\"Apache-2.0\",\"url\":\"https://api.github.com/licenses/apache-2.0\",\"node_id\":\"MDc6TGljZW5zZTI=\"},\"forks\":0,\"open_issues\":13,\"watchers\":0,\"default_branch\":\"master\"}},\"base\":{\"label\":\"mesg-foundation:master\",\"ref\":\"master\",\"sha\":\"4ebc25ee1ac3a0dca917177a7d046160a4763092\",\"user\":{\"login\":\"mesg-foundation\",\"id\":34158802,\"node_id\":\"MDEyOk9yZ2FuaXphdGlvbjM0MTU4ODAy\",\"avatar_url\":\"https://avatars1.githubusercontent.com/u/34158802?v=4\",\"gravatar_id\":\"\",\"url\":\"https://api.github.com/users/mesg-foundation\",\"html_url\":\"https://github.com/mesg-foundation\",\"followers_url\":\"https://api.github.com/users/mesg-foundation/followers\",\"following_url\":\"https://api.github.com/users/mesg-foundation/following{/other_user}\",\"gists_url\":\"https://api.github.com/users/mesg-foundation/gists{/gist_id}\",\"starred_url\":\"https://api.github.com/users/mesg-foundation/starred{/owner}{/repo}\",\"subscriptions_url\":\"https://api.github.com/users/mesg-foundation/subscriptions\",\"organizations_url\":\"https://api.github.com/users/mesg-foundation/orgs\",\"repos_url\":\"https://api.github.com/users/mesg-foundation/repos\",\"events_url\":\"https://api.github.com/users/mesg-foundation/events{/privacy}\",\"received_events_url\":\"https://api.github.com/users/mesg-foundation/received_events\",\"type\":\"Organization\",\"site_admin\":false},\"repo\":{\"id\":177146791,\"node_id\":\"MDEwOlJlcG9zaXRvcnkxNzcxNDY3OTE=\",\"name\":\"atd\",\"full_name\":\"mesg-foundation/atd\",\"private\":false,\"owner\":{\"login\":\"mesg-foundation\",\"id\":34158802,\"node_id\":\"MDEyOk9yZ2FuaXphdGlvbjM0MTU4ODAy\",\"avatar_url\":\"https://avatars1.githubusercontent.com/u/34158802?v=4\",\"gravatar_id\":\"\",\"url\":\"https://api.github.com/users/mesg-foundation\",\"html_url\":\"https://github.com/mesg-foundation\",\"followers_url\":\"https://api.github.com/users/mesg-foundation/followers\",\"following_url\":\"https://api.github.com/users/mesg-foundation/following{/other_user}\",\"gists_url\":\"https://api.github.com/users/mesg-foundation/gists{/gist_id}\",\"starred_url\":\"https://api.github.com/users/mesg-foundation/starred{/owner}{/repo}\",\"subscriptions_url\":\"https://api.github.com/users/mesg-foundation/subscriptions\",\"organizations_url\":\"https://api.github.com/users/mesg-foundation/orgs\",\"repos_url\":\"https://api.github.com/users/mesg-foundation/repos\",\"events_url\":\"https://api.github.com/users/mesg-foundation/events{/privacy}\",\"received_events_url\":\"https://api.github.com/users/mesg-foundation/received_events\",\"type\":\"Organization\",\"site_admin\":false},\"html_url\":\"https://github.com/mesg-foundation/atd\",\"description\":\"Algorithmic Token Distribution smart contracts and website\",\"fork\":false,\"url\":\"https://api.github.com/repos/mesg-foundation/atd\",\"forks_url\":\"https://api.github.com/repos/mesg-foundation/atd/forks\",\"keys_url\":\"https://api.github.com/repos/mesg-foundation/atd/keys{/key_id}\",\"collaborators_url\":\"https://api.github.com/repos/mesg-foundation/atd/collaborators{/collaborator}\",\"teams_url\":\"https://api.github.com/repos/mesg-foundation/atd/teams\",\"hooks_url\":\"https://api.github.com/repos/mesg-foundation/atd/hooks\",\"issue_events_url\":\"https://api.github.com/repos/mesg-foundation/atd/issues/events{/number}\",\"events_url\":\"https://api.github.com/repos/mesg-foundation/atd/events\",\"assignees_url\":\"https://api.github.com/repos/mesg-foundation/atd/assignees{/user}\",\"branches_url\":\"https://api.github.com/repos/mesg-foundation/atd/branches{/branch}\",\"tags_url\":\"https://api.github.com/repos/mesg-foundation/atd/tags\",\"blobs_url\":\"https://api.github.com/repos/mesg-foundation/atd/git/blobs{/sha}\",\"git_tags_url\":\"https://api.github.com/repos/mesg-foundation/atd/git/tags{/sha}\",\"git_refs_url\":\"https://api.github.com/repos/mesg-foundation/atd/git/refs{/sha}\",\"trees_url\":\"https://api.github.com/repos/mesg-foundation/atd/git/trees{/sha}\",\"statuses_url\":\"https://api.github.com/repos/mesg-foundation/atd/statuses/{sha}\",\"languages_url\":\"https://api.github.com/repos/mesg-foundation/atd/languages\",\"stargazers_url\":\"https://api.github.com/repos/mesg-foundation/atd/stargazers\",\"contributors_url\":\"https://api.github.com/repos/mesg-foundation/atd/contributors\",\"subscribers_url\":\"https://api.github.com/repos/mesg-foundation/atd/subscribers\",\"subscription_url\":\"https://api.github.com/repos/mesg-foundation/atd/subscription\",\"commits_url\":\"https://api.github.com/repos/mesg-foundation/atd/commits{/sha}\",\"git_commits_url\":\"https://api.github.com/repos/mesg-foundation/atd/git/commits{/sha}\",\"comments_url\":\"https://api.github.com/repos/mesg-foundation/atd/comments{/number}\",\"issue_comment_url\":\"https://api.github.com/repos/mesg-foundation/atd/issues/comments{/number}\",\"contents_url\":\"https://api.github.com/repos/mesg-foundation/atd/contents/{+path}\",\"compare_url\":\"https://api.github.com/repos/mesg-foundation/atd/compare/{base}...{head}\",\"merges_url\":\"https://api.github.com/repos/mesg-foundation/atd/merges\",\"archive_url\":\"https://api.github.com/repos/mesg-foundation/atd/{archive_format}{/ref}\",\"downloads_url\":\"https://api.github.com/repos/mesg-foundation/atd/downloads\",\"issues_url\":\"https://api.github.com/repos/mesg-foundation/atd/issues{/number}\",\"pulls_url\":\"https://api.github.com/repos/mesg-foundation/atd/pulls{/number}\",\"milestones_url\":\"https://api.github.com/repos/mesg-foundation/atd/milestones{/number}\",\"notifications_url\":\"https://api.github.com/repos/mesg-foundation/atd/notifications{?since,all,participating}\",\"labels_url\":\"https://api.github.com/repos/mesg-foundation/atd/labels{/name}\",\"releases_url\":\"https://api.github.com/repos/mesg-foundation/atd/releases{/id}\",\"deployments_url\":\"https://api.github.com/repos/mesg-foundation/atd/deployments\",\"created_at\":\"2019-03-22T13:39:44Z\",\"updated_at\":\"2019-06-18T05:24:45Z\",\"pushed_at\":\"2019-06-24T06:56:29Z\",\"git_url\":\"git://github.com/mesg-foundation/atd.git\",\"ssh_url\":\"git@github.com:mesg-foundation/atd.git\",\"clone_url\":\"https://github.com/mesg-foundation/atd.git\",\"svn_url\":\"https://github.com/mesg-foundation/atd\",\"homepage\":\"https://atd.mesg.com\",\"size\":1904,\"stargazers_count\":0,\"watchers_count\":0,\"language\":\"JavaScript\",\"has_issues\":true,\"has_projects\":true,\"has_downloads\":true,\"has_wiki\":true,\"has_pages\":false,\"forks_count\":0,\"mirror_url\":null,\"archived\":false,\"disabled\":false,\"open_issues_count\":13,\"license\":{\"key\":\"apache-2.0\",\"name\":\"Apache License 2.0\",\"spdx_id\":\"Apache-2.0\",\"url\":\"https://api.github.com/licenses/apache-2.0\",\"node_id\":\"MDc6TGljZW5zZTI=\"},\"forks\":0,\"open_issues\":13,\"watchers\":0,\"default_branch\":\"master\"}},\"_links\":{\"self\":{\"href\":\"https://api.github.com/repos/mesg-foundation/atd/pulls/37\"},\"html\":{\"href\":\"https://github.com/mesg-foundation/atd/pull/37\"},\"issue\":{\"href\":\"https://api.github.com/repos/mesg-foundation/atd/issues/37\"},\"comments\":{\"href\":\"https://api.github.com/repos/mesg-foundation/atd/issues/37/comments\"},\"review_comments\":{\"href\":\"https://api.github.com/repos/mesg-foundation/atd/pulls/37/comments\"},\"review_comment\":{\"href\":\"https://api.github.com/repos/mesg-foundation/atd/pulls/comments{/number}\"},\"commits\":{\"href\":\"https://api.github.com/repos/mesg-foundation/atd/pulls/37/commits\"},\"statuses\":{\"href\":\"https://api.github.com/repos/mesg-foundation/atd/statuses/408cb2c37f500e493cf348a6f873a37c8f143a83\"}},\"author_association\":\"COLLABORATOR\",\"merged\":false,\"mergeable\":null,\"rebaseable\":null,\"mergeable_state\":\"unknown\",\"merged_by\":null,\"comments\":0,\"review_comments\":0,\"maintainer_can_modify\":false,\"commits\":1,\"additions\":26,\"deletions\":26,\"changed_files\":2}},\"public\":true,\"created_at\":\"2019-06-24T07:01:32Z\",\"org\":{\"id\":34158802,\"login\":\"mesg-foundation\",\"gravatar_id\":\"\",\"url\":\"https://api.github.com/orgs/mesg-foundation\",\"avatar_url\":\"https://avatars.githubusercontent.com/u/34158802?\"}},{\"id\":\"9878234543\",\"type\":\"CreateEvent\",\"actor\":{\"id\":16659448,\"login\":\"kameronahler\",\"display_login\":\"kameronahler\",\"gravatar_id\":\"\",\"url\":\"https://api.github.com/users/kameronahler\",\"avatar_url\":\"https://avatars.githubusercontent.com/u/16659448?\"},\"repo\":{\"id\":193451961,\"name\":\"kameronahler/svg-animation-effects-test\",\"url\":\"https://api.github.com/repos/kameronahler/svg-animation-effects-test\"},\"payload\":{\"ref\":\"master\",\"ref_type\":\"branch\",\"master_branch\":\"master\",\"description\":null,\"pusher_type\":\"user\"},\"public\":true,\"created_at\":\"2019-06-24T07:01:32Z\"},{\"id\":\"9878234522\",\"type\":\"PullRequestEvent\",\"actor\":{\"id\":27856297,\"login\":\"dependabot-preview[bot]\",\"display_login\":\"dependabot-preview\",\"gravatar_id\":\"\",\"url\":\"https://api.github.com/users/dependabot-preview[bot]\",\"avatar_url\":\"https://avatars.githubusercontent.com/u/27856297?\"},\"repo\":{\"id\":187669666,\"name\":\"satishbabariya/nodejs-boilerplate\",\"url\":\"https://api.github.com/repos/satishbabariya/nodejs-boilerplate\"},\"payload\":{\"action\":\"opened\",\"number\":14,\"pull_request\":{\"url\":\"https://api.github.com/repos/satishbabariya/nodejs-boilerplate/pulls/14\",\"id\":290997844,\"node_id\":\"MDExOlB1bGxSZXF1ZXN0MjkwOTk3ODQ0\",\"html_url\":\"https://github.com/satishbabariya/nodejs-boilerplate/pull/14\",\"diff_url\":\"https://github.com/satishbabariya/nodejs-boilerplate/pull/14.diff\",\"patch_url\":\"https://github.com/satishbabariya/nodejs-boilerplate/pull/14.patch\",\"issue_url\":\"https://api.github.com/repos/satishbabariya/nodejs-boilerplate/issues/14\",\"number\":14,\"state\":\"open\",\"locked\":false,\"title\":\"Bump @types/node from 12.0.8 to 12.0.10\",\"user\":{\"login\":\"dependabot-preview[bot]\",\"id\":27856297,\"node_id\":\"MDM6Qm90Mjc4NTYyOTc=\",\"avatar_url\":\"https://avatars3.githubusercontent.com/in/2141?v=4\",\"gravatar_id\":\"\",\"url\":\"https://api.github.com/users/dependabot-preview%5Bbot%5D\",\"html_url\":\"https://github.com/apps/dependabot-preview\",\"followers_url\":\"https://api.github.com/users/dependabot-preview%5Bbot%5D/followers\",\"following_url\":\"https://api.github.com/users/dependabot-preview%5Bbot%5D/following{/other_user}\",\"gists_url\":\"https://api.github.com/users/dependabot-preview%5Bbot%5D/gists{/gist_id}\",\"starred_url\":\"https://api.github.com/users/dependabot-preview%5Bbot%5D/starred{/owner}{/repo}\",\"subscriptions_url\":\"https://api.github.com/users/dependabot-preview%5Bbot%5D/subscriptions\",\"organizations_url\":\"https://api.github.com/users/dependabot-preview%5Bbot%5D/orgs\",\"repos_url\":\"https://api.github.com/users/dependabot-preview%5Bbot%5D/repos\",\"events_url\":\"https://api.github.com/users/dependabot-preview%5Bbot%5D/events{/privacy}\",\"received_events_url\":\"https://api.github.com/users/dependabot-preview%5Bbot%5D/received_events\",\"type\":\"Bot\",\"site_admin\":false},\"body\":\"Bumps [@types/node](https://github.com/DefinitelyTyped/DefinitelyTyped/tree/HEAD/types/node) from 12.0.8 to 12.0.10.\\\\n<details>\\\\n<summary>Commits</summary>\\\\n\\\\n- See full diff in [compare view](https://github.com/DefinitelyTyped/DefinitelyTyped/commits/HEAD/types/node)\\\\n</details>\\\\n<br />\\\\n\\\\n[![Dependabot compatibility score](https://api.dependabot.com/badges/compatibility_score?dependency-name=@types/node&package-manager=npm_and_yarn&previous-version=12.0.8&new-version=12.0.10)](https://dependabot.com/compatibility-score.html?dependency-name=@types/node&package-manager=npm_and_yarn&previous-version=12.0.8&new-version=12.0.10)\\\\n\\\\nDependabot will resolve any conflicts with this PR as long as you don\\'t alter it yourself. You can also trigger a rebase manually by commenting `@dependabot rebase`.\\\\n\\\\n[//]: # (dependabot-automerge-start)\\\\n[//]: # (dependabot-automerge-end)\\\\n\\\\n---\\\\n\\\\n<details>\\\\n<summary>Dependabot commands and options</summary>\\\\n<br />\\\\n\\\\nYou can trigger Dependabot actions by commenting on this PR:\\\\n- `@dependabot rebase` will rebase this PR\\\\n- `@dependabot recreate` will recreate this PR, overwriting any edits that have been made to it\\\\n- `@dependabot merge` will merge this PR after your CI passes on it\\\\n- `@dependabot squash and merge` will squash and merge this PR after your CI passes on it\\\\n- `@dependabot cancel merge` will cancel a previously requested merge and block automerging\\\\n- `@dependabot reopen` will reopen this PR if it is closed\\\\n- `@dependabot ignore this [patch|minor|major] version` will close this PR and stop Dependabot creating any more for this minor/major version (unless you reopen the PR or upgrade to it yourself)\\\\n- `@dependabot ignore this dependency` will close this PR and stop Dependabot creating any more for this dependency (unless you reopen the PR or upgrade to it yourself)\\\\n- `@dependabot use these labels` will set the current labels as the default for future PRs for this repo and language\\\\n- `@dependabot use these reviewers` will set the current reviewers as the default for future PRs for this repo and language\\\\n- `@dependabot use these assignees` will set the current assignees as the default for future PRs for this repo and language\\\\n- `@dependabot use this milestone` will set the current milestone as the default for future PRs for this repo and language\\\\n- `@dependabot badge me` will comment on this PR with code to add a \\\\\"Dependabot enabled\\\\\" badge to your readme\\\\n\\\\nAdditionally, you can set the following in your Dependabot [dashboard](https://app.dependabot.com):\\\\n- Update frequency (including time of day and day of week)\\\\n- Pull request limits (per update run and/or open at any time)\\\\n- Out-of-range updates (receive only lockfile updates, if desired)\\\\n- Security updates (receive only security updates, if desired)\\\\n\\\\nFinally, you can contact us by mentioning @dependabot.\\\\n\\\\n</details>\",\"created_at\":\"2019-06-24T07:01:32Z\",\"updated_at\":\"2019-06-24T07:01:32Z\",\"closed_at\":null,\"merged_at\":null,\"merge_commit_sha\":null,\"assignee\":null,\"assignees\":[],\"requested_reviewers\":[],\"requested_teams\":[],\"labels\":[],\"milestone\":null,\"commits_url\":\"https://api.github.com/repos/satishbabariya/nodejs-boilerplate/pulls/14/commits\",\"review_comments_url\":\"https://api.github.com/repos/satishbabariya/nodejs-boilerplate/pulls/14/comments\",\"review_comment_url\":\"https://api.github.com/repos/satishbabariya/nodejs-boilerplate/pulls/comments{/number}\",\"comments_url\":\"https://api.github.com/repos/satishbabariya/nodejs-boilerplate/issues/14/comments\",\"statuses_url\":\"https://api.github.com/repos/satishbabariya/nodejs-boilerplate/statuses/c9fa0827202d1d56416abecd1217e0a2c1e2faeb\",\"head\":{\"label\":\"satishbabariya:dependabot/npm_and_yarn/@types/node-12.0.10\",\"ref\":\"dependabot/npm_and_yarn/@types/node-12.0.10\",\"sha\":\"c9fa0827202d1d56416abecd1217e0a2c1e2faeb\",\"user\":{\"login\":\"satishbabariya\",\"id\":16605023,\"node_id\":\"MDQ6VXNlcjE2NjA1MDIz\",\"avatar_url\":\"https://avatars0.githubusercontent.com/u/16605023?v=4\",\"gravatar_id\":\"\",\"url\":\"https://api.github.com/users/satishbabariya\",\"html_url\":\"https://github.com/satishbabariya\",\"followers_url\":\"https://api.github.com/users/satishbabariya/followers\",\"following_url\":\"https://api.github.com/users/satishbabariya/following{/other_user}\",\"gists_url\":\"https://api.github.com/users/satishbabariya/gists{/gist_id}\",\"starred_url\":\"https://api.github.com/users/satishbabariya/starred{/owner}{/repo}\",\"subscriptions_url\":\"https://api.github.com/users/satishbabariya/subscriptions\",\"organizations_url\":\"https://api.github.com/users/satishbabariya/orgs\",\"repos_url\":\"https://api.github.com/users/satishbabariya/repos\",\"events_url\":\"https://api.github.com/users/satishbabariya/events{/privacy}\",\"received_events_url\":\"https://api.github.com/users/satishbabariya/received_events\",\"type\":\"User\",\"site_admin\":false},\"repo\":{\"id\":187669666,\"node_id\":\"MDEwOlJlcG9zaXRvcnkxODc2Njk2NjY=\",\"name\":\"nodejs-boilerplate\",\"full_name\":\"satishbabariya/nodejs-boilerplate\",\"private\":false,\"owner\":{\"login\":\"satishbabariya\",\"id\":16605023,\"node_id\":\"MDQ6VXNlcjE2NjA1MDIz\",\"avatar_url\":\"https://avatars0.githubusercontent.com/u/16605023?v=4\",\"gravatar_id\":\"\",\"url\":\"https://api.github.com/users/satishbabariya\",\"html_url\":\"https://github.com/satishbabariya\",\"followers_url\":\"https://api.github.com/users/satishbabariya/followers\",\"following_url\":\"https://api.github.com/users/satishbabariya/following{/other_user}\",\"gists_url\":\"https://api.github.com/users/satishbabariya/gists{/gist_id}\",\"starred_url\":\"https://api.github.com/users/satishbabariya/starred{/owner}{/repo}\",\"subscriptions_url\":\"https://api.github.com/users/satishbabariya/subscriptions\",\"organizations_url\":\"https://api.github.com/users/satishbabariya/orgs\",\"repos_url\":\"https://api.github.com/users/satishbabariya/repos\",\"events_url\":\"https://api.github.com/users/satishbabariya/events{/privacy}\",\"received_events_url\":\"https://api.github.com/users/satishbabariya/received_events\",\"type\":\"User\",\"site_admin\":false},\"html_url\":\"https://github.com/satishbabariya/nodejs-boilerplate\",\"description\":\"Clean Architecture for node.js projects (Typescript + Express + TypeORM + Typedi)\",\"fork\":false,\"url\":\"https://api.github.com/repos/satishbabariya/nodejs-boilerplate\",\"forks_url\":\"https://api.github.com/repos/satishbabariya/nodejs-boilerplate/forks\",\"keys_url\":\"https://api.github.com/repos/satishbabariya/nodejs-boilerplate/keys{/key_id}\",\"collaborators_url\":\"https://api.github.com/repos/satishbabariya/nodejs-boilerplate/collaborators{/collaborator}\",\"teams_url\":\"https://api.github.com/repos/satishbabariya/nodejs-boilerplate/teams\",\"hooks_url\":\"https://api.github.com/repos/satishbabariya/nodejs-boilerplate/hooks\",\"issue_events_url\":\"https://api.github.com/repos/satishbabariya/nodejs-boilerplate/issues/events{/number}\",\"events_url\":\"https://api.github.com/repos/satishbabariya/nodejs-boilerplate/events\",\"assignees_url\":\"https://api.github.com/repos/satishbabariya/nodejs-boilerplate/assignees{/user}\",\"branches_url\":\"https://api.github.com/repos/satishbabariya/nodejs-boilerplate/branches{/branch}\",\"tags_url\":\"https://api.github.com/repos/satishbabariya/nodejs-boilerplate/tags\",\"blobs_url\":\"https://api.github.com/repos/satishbabariya/nodejs-boilerplate/git/blobs{/sha}\",\"git_tags_url\":\"https://api.github.com/repos/satishbabariya/nodejs-boilerplate/git/tags{/sha}\",\"git_refs_url\":\"https://api.github.com/repos/satishbabariya/nodejs-boilerplate/git/refs{/sha}\",\"trees_url\":\"https://api.github.com/repos/satishbabariya/nodejs-boilerplate/git/trees{/sha}\",\"statuses_url\":\"https://api.github.com/repos/satishbabariya/nodejs-boilerplate/statuses/{sha}\",\"languages_url\":\"https://api.github.com/repos/satishbabariya/nodejs-boilerplate/languages\",\"stargazers_url\":\"https://api.github.com/repos/satishbabariya/nodejs-boilerplate/stargazers\",\"contributors_url\":\"https://api.github.com/repos/satishbabariya/nodejs-boilerplate/contributors\",\"subscribers_url\":\"https://api.github.com/repos/satishbabariya/nodejs-boilerplate/subscribers\",\"subscription_url\":\"https://api.github.com/repos/satishbabariya/nodejs-boilerplate/subscription\",\"commits_url\":\"https://api.github.com/repos/satishbabariya/nodejs-boilerplate/commits{/sha}\",\"git_commits_url\":\"https://api.github.com/repos/satishbabariya/nodejs-boilerplate/git/commits{/sha}\",\"comments_url\":\"https://api.github.com/repos/satishbabariya/nodejs-boilerplate/comments{/number}\",\"issue_comment_url\":\"https://api.github.com/repos/satishbabariya/nodejs-boilerplate/issues/comments{/number}\",\"contents_url\":\"https://api.github.com/repos/satishbabariya/nodejs-boilerplate/contents/{+path}\",\"compare_url\":\"https://api.github.com/repos/satishbabariya/nodejs-boilerplate/compare/{base}...{head}\",\"merges_url\":\"https://api.github.com/repos/satishbabariya/nodejs-boilerplate/merges\",\"archive_url\":\"https://api.github.com/repos/satishbabariya/nodejs-boilerplate/{archive_format}{/ref}\",\"downloads_url\":\"https://api.github.com/repos/satishbabariya/nodejs-boilerplate/downloads\",\"issues_url\":\"https://api.github.com/repos/satishbabariya/nodejs-boilerplate/issues{/number}\",\"pulls_url\":\"https://api.github.com/repos/satishbabariya/nodejs-boilerplate/pulls{/number}\",\"milestones_url\":\"https://api.github.com/repos/satishbabariya/nodejs-boilerplate/milestones{/number}\",\"notifications_url\":\"https://api.github.com/repos/satishbabariya/nodejs-boilerplate/notifications{?since,all,participating}\",\"labels_url\":\"https://api.github.com/repos/satishbabariya/nodejs-boilerplate/labels{/name}\",\"releases_url\":\"https://api.github.com/repos/satishbabariya/nodejs-boilerplate/releases{/id}\",\"deployments_url\":\"https://api.github.com/repos/satishbabariya/nodejs-boilerplate/deployments\",\"created_at\":\"2019-05-20T15:41:30Z\",\"updated_at\":\"2019-06-18T14:20:51Z\",\"pushed_at\":\"2019-06-24T07:01:31Z\",\"git_url\":\"git://github.com/satishbabariya/nodejs-boilerplate.git\",\"ssh_url\":\"git@github.com:satishbabariya/nodejs-boilerplate.git\",\"clone_url\":\"https://github.com/satishbabariya/nodejs-boilerplate.git\",\"svn_url\":\"https://github.com/satishbabariya/nodejs-boilerplate\",\"homepage\":\"\",\"size\":2265,\"stargazers_count\":3,\"watchers_count\":3,\"language\":\"TypeScript\",\"has_issues\":true,\"has_projects\":true,\"has_downloads\":true,\"has_wiki\":true,\"has_pages\":false,\"forks_count\":1,\"mirror_url\":null,\"archived\":false,\"disabled\":false,\"open_issues_count\":2,\"license\":{\"key\":\"mit\",\"name\":\"MIT License\",\"spdx_id\":\"MIT\",\"url\":\"https://api.github.com/licenses/mit\",\"node_id\":\"MDc6TGljZW5zZTEz\"},\"forks\":1,\"open_issues\":2,\"watchers\":3,\"default_branch\":\"master\"}},\"base\":{\"label\":\"satishbabariya:master\",\"ref\":\"master\",\"sha\":\"b3fc1362a0fc130eef8c8248f9f3cf710c5f4a42\",\"user\":{\"login\":\"satishbabariya\",\"id\":16605023,\"node_id\":\"MDQ6VXNlcjE2NjA1MDIz\",\"avatar_url\":\"https://avatars0.githubusercontent.com/u/16605023?v=4\",\"gravatar_id\":\"\",\"url\":\"https://api.github.com/users/satishbabariya\",\"html_url\":\"https://github.com/satishbabariya\",\"followers_url\":\"https://api.github.com/users/satishbabariya/followers\",\"following_url\":\"https://api.github.com/users/satishbabariya/following{/other_user}\",\"gists_url\":\"https://api.github.com/users/satishbabariya/gists{/gist_id}\",\"starred_url\":\"https://api.github.com/users/satishbabariya/starred{/owner}{/repo}\",\"subscriptions_url\":\"https://api.github.com/users/satishbabariya/subscriptions\",\"organizations_url\":\"https://api.github.com/users/satishbabariya/orgs\",\"repos_url\":\"https://api.github.com/users/satishbabariya/repos\",\"events_url\":\"https://api.github.com/users/satishbabariya/events{/privacy}\",\"received_events_url\":\"https://api.github.com/users/satishbabariya/received_events\",\"type\":\"User\",\"site_admin\":false},\"repo\":{\"id\":187669666,\"node_id\":\"MDEwOlJlcG9zaXRvcnkxODc2Njk2NjY=\",\"name\":\"nodejs-boilerplate\",\"full_name\":\"satishbabariya/nodejs-boilerplate\",\"private\":false,\"owner\":{\"login\":\"satishbabariya\",\"id\":16605023,\"node_id\":\"MDQ6VXNlcjE2NjA1MDIz\",\"avatar_url\":\"https://avatars0.githubusercontent.com/u/16605023?v=4\",\"gravatar_id\":\"\",\"url\":\"https://api.github.com/users/satishbabariya\",\"html_url\":\"https://github.com/satishbabariya\",\"followers_url\":\"https://api.github.com/users/satishbabariya/followers\",\"following_url\":\"https://api.github.com/users/satishbabariya/following{/other_user}\",\"gists_url\":\"https://api.github.com/users/satishbabariya/gists{/gist_id}\",\"starred_url\":\"https://api.github.com/users/satishbabariya/starred{/owner}{/repo}\",\"subscriptions_url\":\"https://api.github.com/users/satishbabariya/subscriptions\",\"organizations_url\":\"https://api.github.com/users/satishbabariya/orgs\",\"repos_url\":\"https://api.github.com/users/satishbabariya/repos\",\"events_url\":\"https://api.github.com/users/satishbabariya/events{/privacy}\",\"received_events_url\":\"https://api.github.com/users/satishbabariya/received_events\",\"type\":\"User\",\"site_admin\":false},\"html_url\":\"https://github.com/satishbabariya/nodejs-boilerplate\",\"description\":\"Clean Architecture for node.js projects (Typescript + Express + TypeORM + Typedi)\",\"fork\":false,\"url\":\"https://api.github.com/repos/satishbabariya/nodejs-boilerplate\",\"forks_url\":\"https://api.github.com/repos/satishbabariya/nodejs-boilerplate/forks\",\"keys_url\":\"https://api.github.com/repos/satishbabariya/nodejs-boilerplate/keys{/key_id}\",\"collaborators_url\":\"https://api.github.com/repos/satishbabariya/nodejs-boilerplate/collaborators{/collaborator}\",\"teams_url\":\"https://api.github.com/repos/satishbabariya/nodejs-boilerplate/teams\",\"hooks_url\":\"https://api.github.com/repos/satishbabariya/nodejs-boilerplate/hooks\",\"issue_events_url\":\"https://api.github.com/repos/satishbabariya/nodejs-boilerplate/issues/events{/number}\",\"events_url\":\"https://api.github.com/repos/satishbabariya/nodejs-boilerplate/events\",\"assignees_url\":\"https://api.github.com/repos/satishbabariya/nodejs-boilerplate/assignees{/user}\",\"branches_url\":\"https://api.github.com/repos/satishbabariya/nodejs-boilerplate/branches{/branch}\",\"tags_url\":\"https://api.github.com/repos/satishbabariya/nodejs-boilerplate/tags\",\"blobs_url\":\"https://api.github.com/repos/satishbabariya/nodejs-boilerplate/git/blobs{/sha}\",\"git_tags_url\":\"https://api.github.com/repos/satishbabariya/nodejs-boilerplate/git/tags{/sha}\",\"git_refs_url\":\"https://api.github.com/repos/satishbabariya/nodejs-boilerplate/git/refs{/sha}\",\"trees_url\":\"https://api.github.com/repos/satishbabariya/nodejs-boilerplate/git/trees{/sha}\",\"statuses_url\":\"https://api.github.com/repos/satishbabariya/nodejs-boilerplate/statuses/{sha}\",\"languages_url\":\"https://api.github.com/repos/satishbabariya/nodejs-boilerplate/languages\",\"stargazers_url\":\"https://api.github.com/repos/satishbabariya/nodejs-boilerplate/stargazers\",\"contributors_url\":\"https://api.github.com/repos/satishbabariya/nodejs-boilerplate/contributors\",\"subscribers_url\":\"https://api.github.com/repos/satishbabariya/nodejs-boilerplate/subscribers\",\"subscription_url\":\"https://api.github.com/repos/satishbabariya/nodejs-boilerplate/subscription\",\"commits_url\":\"https://api.github.com/repos/satishbabariya/nodejs-boilerplate/commits{/sha}\",\"git_commits_url\":\"https://api.github.com/repos/satishbabariya/nodejs-boilerplate/git/commits{/sha}\",\"comments_url\":\"https://api.github.com/repos/satishbabariya/nodejs-boilerplate/comments{/number}\",\"issue_comment_url\":\"https://api.github.com/repos/satishbabariya/nodejs-boilerplate/issues/comments{/number}\",\"contents_url\":\"https://api.github.com/repos/satishbabariya/nodejs-boilerplate/contents/{+path}\",\"compare_url\":\"https://api.github.com/repos/satishbabariya/nodejs-boilerplate/compare/{base}...{head}\",\"merges_url\":\"https://api.github.com/repos/satishbabariya/nodejs-boilerplate/merges\",\"archive_url\":\"https://api.github.com/repos/satishbabariya/nodejs-boilerplate/{archive_format}{/ref}\",\"downloads_url\":\"https://api.github.com/repos/satishbabariya/nodejs-boilerplate/downloads\",\"issues_url\":\"https://api.github.com/repos/satishbabariya/nodejs-boilerplate/issues{/number}\",\"pulls_url\":\"https://api.github.com/repos/satishbabariya/nodejs-boilerplate/pulls{/number}\",\"milestones_url\":\"https://api.github.com/repos/satishbabariya/nodejs-boilerplate/milestones{/number}\",\"notifications_url\":\"https://api.github.com/repos/satishbabariya/nodejs-boilerplate/notifications{?since,all,participating}\",\"labels_url\":\"https://api.github.com/repos/satishbabariya/nodejs-boilerplate/labels{/name}\",\"releases_url\":\"https://api.github.com/repos/satishbabariya/nodejs-boilerplate/releases{/id}\",\"deployments_url\":\"https://api.github.com/repos/satishbabariya/nodejs-boilerplate/deployments\",\"created_at\":\"2019-05-20T15:41:30Z\",\"updated_at\":\"2019-06-18T14:20:51Z\",\"pushed_at\":\"2019-06-24T07:01:31Z\",\"git_url\":\"git://github.com/satishbabariya/nodejs-boilerplate.git\",\"ssh_url\":\"git@github.com:satishbabariya/nodejs-boilerplate.git\",\"clone_url\":\"https://github.com/satishbabariya/nodejs-boilerplate.git\",\"svn_url\":\"https://github.com/satishbabariya/nodejs-boilerplate\",\"homepage\":\"\",\"size\":2265,\"stargazers_count\":3,\"watchers_count\":3,\"language\":\"TypeScript\",\"has_issues\":true,\"has_projects\":true,\"has_downloads\":true,\"has_wiki\":true,\"has_pages\":false,\"forks_count\":1,\"mirror_url\":null,\"archived\":false,\"disabled\":false,\"open_issues_count\":2,\"license\":{\"key\":\"mit\",\"name\":\"MIT License\",\"spdx_id\":\"MIT\",\"url\":\"https://api.github.com/licenses/mit\",\"node_id\":\"MDc6TGljZW5zZTEz\"},\"forks\":1,\"open_issues\":2,\"watchers\":3,\"default_branch\":\"master\"}},\"_links\":{\"self\":{\"href\":\"https://api.github.com/repos/satishbabariya/nodejs-boilerplate/pulls/14\"},\"html\":{\"href\":\"https://github.com/satishbabariya/nodejs-boilerplate/pull/14\"},\"issue\":{\"href\":\"https://api.github.com/repos/satishbabariya/nodejs-boilerplate/issues/14\"},\"comments\":{\"href\":\"https://api.github.com/repos/satishbabariya/nodejs-boilerplate/issues/14/comments\"},\"review_comments\":{\"href\":\"https://api.github.com/repos/satishbabariya/nodejs-boilerplate/pulls/14/comments\"},\"review_comment\":{\"href\":\"https://api.github.com/repos/satishbabariya/nodejs-boilerplate/pulls/comments{/number}\"},\"commits\":{\"href\":\"https://api.github.com/repos/satishbabariya/nodejs-boilerplate/pulls/14/commits\"},\"statuses\":{\"href\":\"https://api.github.com/repos/satishbabariya/nodejs-boilerplate/statuses/c9fa0827202d1d56416abecd1217e0a2c1e2faeb\"}},\"author_association\":\"CONTRIBUTOR\",\"merged\":false,\"mergeable\":null,\"rebaseable\":null,\"mergeable_state\":\"unknown\",\"merged_by\":null,\"comments\":0,\"review_comments\":0,\"maintainer_can_modify\":false,\"commits\":1,\"additions\":5,\"deletions\":5,\"changed_files\":2}},\"public\":true,\"created_at\":\"2019-06-24T07:01:32Z\"},{\"id\":\"9878234521\",\"type\":\"CreateEvent\",\"actor\":{\"id\":12844622,\"login\":\"girirajadh\",\"display_login\":\"girirajadh\",\"gravatar_id\":\"\",\"url\":\"https://api.github.com/users/girirajadh\",\"avatar_url\":\"https://avatars.githubusercontent.com/u/12844622?\"},\"repo\":{\"id\":193451968,\"name\":\"girirajadh/giriraj\",\"url\":\"https://api.github.com/repos/girirajadh/giriraj\"},\"payload\":{\"ref\":null,\"ref_type\":\"repository\",\"master_branch\":\"master\",\"description\":null,\"pusher_type\":\"user\"},\"public\":true,\"created_at\":\"2019-06-24T07:01:32Z\"},{\"id\":\"9878234518\",\"type\":\"IssueCommentEvent\",\"actor\":{\"id\":22429695,\"login\":\"codecov[bot]\",\"display_login\":\"codecov\",\"gravatar_id\":\"\",\"url\":\"https://api.github.com/users/codecov[bot]\",\"avatar_url\":\"https://avatars.githubusercontent.com/u/22429695?\"},\"repo\":{\"id\":192332513,\"name\":\"gonvenience/wait\",\"url\":\"https://api.github.com/repos/gonvenience/wait\"},\"payload\":{\"action\":\"created\",\"issue\":{\"url\":\"https://api.github.com/repos/gonvenience/wait/issues/8\",\"repository_url\":\"https://api.github.com/repos/gonvenience/wait\",\"labels_url\":\"https://api.github.com/repos/gonvenience/wait/issues/8/labels{/name}\",\"comments_url\":\"https://api.github.com/repos/gonvenience/wait/issues/8/comments\",\"events_url\":\"https://api.github.com/repos/gonvenience/wait/issues/8/events\",\"html_url\":\"https://github.com/gonvenience/wait/pull/8\",\"id\":459722237,\"node_id\":\"MDExOlB1bGxSZXF1ZXN0MjkwOTk3Mjky\",\"number\":8,\"title\":\"Bump github.com/gonvenience/bunt from 1.0.5 to 1.0.6\",\"user\":{\"login\":\"dependabot-preview[bot]\",\"id\":27856297,\"node_id\":\"MDM6Qm90Mjc4NTYyOTc=\",\"avatar_url\":\"https://avatars3.githubusercontent.com/in/2141?v=4\",\"gravatar_id\":\"\",\"url\":\"https://api.github.com/users/dependabot-preview%5Bbot%5D\",\"html_url\":\"https://github.com/apps/dependabot-preview\",\"followers_url\":\"https://api.github.com/users/dependabot-preview%5Bbot%5D/followers\",\"following_url\":\"https://api.github.com/users/dependabot-preview%5Bbot%5D/following{/other_user}\",\"gists_url\":\"https://api.github.com/users/dependabot-preview%5Bbot%5D/gists{/gist_id}\",\"starred_url\":\"https://api.github.com/users/dependabot-preview%5Bbot%5D/starred{/owner}{/repo}\",\"subscriptions_url\":\"https://api.github.com/users/dependabot-preview%5Bbot%5D/subscriptions\",\"organizations_url\":\"https://api.github.com/users/dependabot-preview%5Bbot%5D/orgs\",\"repos_url\":\"https://api.github.com/users/dependabot-preview%5Bbot%5D/repos\",\"events_url\":\"https://api.github.com/users/dependabot-preview%5Bbot%5D/events{/privacy}\",\"received_events_url\":\"https://api.github.com/users/dependabot-preview%5Bbot%5D/received_events\",\"type\":\"Bot\",\"site_admin\":false},\"labels\":[{\"id\":1409938754,\"node_id\":\"MDU6TGFiZWwxNDA5OTM4NzU0\",\"url\":\"https://api.github.com/repos/gonvenience/wait/labels/dependencies\",\"name\":\"dependencies\",\"color\":\"0366d6\",\"default\":false}],\"state\":\"open\",\"locked\":false,\"assignee\":null,\"assignees\":[],\"milestone\":null,\"comments\":0,\"created_at\":\"2019-06-24T06:59:39Z\",\"updated_at\":\"2019-06-24T07:01:32Z\",\"closed_at\":null,\"author_association\":\"CONTRIBUTOR\",\"pull_request\":{\"url\":\"https://api.github.com/repos/gonvenience/wait/pulls/8\",\"html_url\":\"https://github.com/gonvenience/wait/pull/8\",\"diff_url\":\"https://github.com/gonvenience/wait/pull/8.diff\",\"patch_url\":\"https://github.com/gonvenience/wait/pull/8.patch\"},\"body\":\"Bumps [github.com/gonvenience/bunt](https://github.com/gonvenience/bunt) from 1.0.5 to 1.0.6.\\\\n<details>\\\\n<summary>Release notes</summary>\\\\n\\\\n*Sourced from [github.com/gonvenience/bunt\\'s releases](https://github.com/gonvenience/bunt/releases).*\\\\n\\\\n> ### bunt package v1.0.6\\\\r\\\\n> \\\\r\\\\n> Added `Blend` style option that allows for color blending instead of\\\\r\\\\n> overwriting the existing color.\\\\n</details>\\\\n<details>\\\\n<summary>Commits</summary>\\\\n\\\\n- [`919af6c`](https://github.com/gonvenience/bunt/commit/919af6c67da4e6bedf1dad4437670adc3cba5094) Add text blending support\\\\n- [`49240f6`](https://github.com/gonvenience/bunt/commit/49240f618677dcd62efe2a148cb166db961f8a5d) Add codecov.io badge to README\\\\n- [`1090a41`](https://github.com/gonvenience/bunt/commit/1090a41be0833dc93e541dd9c716a747ecb7fae6) Add codecov.io coverage report\\\\n- See full diff in [compare view](https://github.com/gonvenience/bunt/compare/v1.0.5...v1.0.6)\\\\n</details>\\\\n<br />\\\\n\\\\n[![Dependabot compatibility score](https://api.dependabot.com/badges/compatibility_score?dependency-name=github.com/gonvenience/bunt&package-manager=go_modules&previous-version=1.0.5&new-version=1.0.6)](https://dependabot.com/compatibility-score.html?dependency-name=github.com/gonvenience/bunt&package-manager=go_modules&previous-version=1.0.5&new-version=1.0.6)\\\\n\\\\nDependabot will resolve any conflicts with this PR as long as you don\\'t alter it yourself. You can also trigger a rebase manually by commenting `@dependabot rebase`.\\\\n\\\\n[//]: # (dependabot-automerge-start)\\\\n[//]: # (dependabot-automerge-end)\\\\n\\\\n---\\\\n\\\\n<details>\\\\n<summary>Dependabot commands and options</summary>\\\\n<br />\\\\n\\\\nYou can trigger Dependabot actions by commenting on this PR:\\\\n- `@dependabot rebase` will rebase this PR\\\\n- `@dependabot recreate` will recreate this PR, overwriting any edits that have been made to it\\\\n- `@dependabot merge` will merge this PR after your CI passes on it\\\\n- `@dependabot squash and merge` will squash and merge this PR after your CI passes on it\\\\n- `@dependabot cancel merge` will cancel a previously requested merge and block automerging\\\\n- `@dependabot reopen` will reopen this PR if it is closed\\\\n- `@dependabot ignore this [patch|minor|major] version` will close this PR and stop Dependabot creating any more for this minor/major version (unless you reopen the PR or upgrade to it yourself)\\\\n- `@dependabot ignore this dependency` will close this PR and stop Dependabot creating any more for this dependency (unless you reopen the PR or upgrade to it yourself)\\\\n- `@dependabot use these labels` will set the current labels as the default for future PRs for this repo and language\\\\n- `@dependabot use these reviewers` will set the current reviewers as the default for future PRs for this repo and language\\\\n- `@dependabot use these assignees` will set the current assignees as the default for future PRs for this repo and language\\\\n- `@dependabot use this milestone` will set the current milestone as the default for future PRs for this repo and language\\\\n- `@dependabot badge me` will comment on this PR with code to add a \\\\\"Dependabot enabled\\\\\" badge to your readme\\\\n\\\\nAdditionally, you can set the following in your Dependabot [dashboard](https://app.dependabot.com):\\\\n- Update frequency (including time of day and day of week)\\\\n- Pull request limits (per update run and/or open at any time)\\\\n- Out-of-range updates (receive only lockfile updates, if desired)\\\\n- Security updates (receive only security updates, if desired)\\\\n\\\\nFinally, you can contact us by mentioning @dependabot.\\\\n\\\\n</details>\"},\"comment\":{\"url\":\"https://api.github.com/repos/gonvenience/wait/issues/comments/504884733\",\"html_url\":\"https://github.com/gonvenience/wait/pull/8#issuecomment-504884733\",\"issue_url\":\"https://api.github.com/repos/gonvenience/wait/issues/8\",\"id\":504884733,\"node_id\":\"MDEyOklzc3VlQ29tbWVudDUwNDg4NDczMw==\",\"user\":{\"login\":\"codecov[bot]\",\"id\":22429695,\"node_id\":\"MDM6Qm90MjI0Mjk2OTU=\",\"avatar_url\":\"https://avatars2.githubusercontent.com/in/254?v=4\",\"gravatar_id\":\"\",\"url\":\"https://api.github.com/users/codecov%5Bbot%5D\",\"html_url\":\"https://github.com/apps/codecov\",\"followers_url\":\"https://api.github.com/users/codecov%5Bbot%5D/followers\",\"following_url\":\"https://api.github.com/users/codecov%5Bbot%5D/following{/other_user}\",\"gists_url\":\"https://api.github.com/users/codecov%5Bbot%5D/gists{/gist_id}\",\"starred_url\":\"https://api.github.com/users/codecov%5Bbot%5D/starred{/owner}{/repo}\",\"subscriptions_url\":\"https://api.github.com/users/codecov%5Bbot%5D/subscriptions\",\"organizations_url\":\"https://api.github.com/users/codecov%5Bbot%5D/orgs\",\"repos_url\":\"https://api.github.com/users/codecov%5Bbot%5D/repos\",\"events_url\":\"https://api.github.com/users/codecov%5Bbot%5D/events{/privacy}\",\"received_events_url\":\"https://api.github.com/users/codecov%5Bbot%5D/received_events\",\"type\":\"Bot\",\"site_admin\":false},\"created_at\":\"2019-06-24T07:01:32Z\",\"updated_at\":\"2019-06-24T07:01:32Z\",\"author_association\":\"NONE\",\"body\":\"# [Codecov](https://codecov.io/gh/gonvenience/wait/pull/8?src=pr&el=h1) Report\\\\n> Merging [#8](https://codecov.io/gh/gonvenience/wait/pull/8?src=pr&el=desc) into [master](https://codecov.io/gh/gonvenience/wait/commit/e7eb7fff136634bfc29b718e9e6f80f866b58333?src=pr&el=desc) will **not change** coverage.\\\\n> The diff coverage is `n/a`.\\\\n\\\\n[![Impacted file tree graph](https://codecov.io/gh/gonvenience/wait/pull/8/graphs/tree.svg?width=650&token=pHrFTtGqq0&height=150&src=pr)](https://codecov.io/gh/gonvenience/wait/pull/8?src=pr&el=tree)\\\\n\\\\n```diff\\\\n@@           Coverage Diff           @@\\\\n##           master       #8   +/-   ##\\\\n=======================================\\\\n  Coverage   24.44%   24.44%           \\\\n=======================================\\\\n  Files           1        1           \\\\n  Lines          90       90           \\\\n=======================================\\\\n  Hits           22       22           \\\\n  Misses         68       68\\\\n```\\\\n\\\\n\\\\n\\\\n------\\\\n\\\\n[Continue to review full report at Codecov](https://codecov.io/gh/gonvenience/wait/pull/8?src=pr&el=continue).\\\\n> **Legend** - [Click here to learn more](https://docs.codecov.io/docs/codecov-delta)\\\\n> `Δ = absolute <relative> (impact)`, `ø = not affected`, `? = missing data`\\\\n> Powered by [Codecov](https://codecov.io/gh/gonvenience/wait/pull/8?src=pr&el=footer). Last update [e7eb7ff...3201ee4](https://codecov.io/gh/gonvenience/wait/pull/8?src=pr&el=lastupdated). Read the [comment docs](https://docs.codecov.io/docs/pull-request-comments).\\\\n\"}},\"public\":true,\"created_at\":\"2019-06-24T07:01:32Z\",\"org\":{\"id\":51761007,\"login\":\"gonvenience\",\"gravatar_id\":\"\",\"url\":\"https://api.github.com/orgs/gonvenience\",\"avatar_url\":\"https://avatars.githubusercontent.com/u/51761007?\"}},{\"id\":\"9878234517\",\"type\":\"IssueCommentEvent\",\"actor\":{\"id\":22429695,\"login\":\"codecov[bot]\",\"display_login\":\"codecov\",\"gravatar_id\":\"\",\"url\":\"https://api.github.com/users/codecov[bot]\",\"avatar_url\":\"https://avatars.githubusercontent.com/u/22429695?\"},\"repo\":{\"id\":192332513,\"name\":\"gonvenience/wait\",\"url\":\"https://api.github.com/repos/gonvenience/wait\"},\"payload\":{\"action\":\"created\",\"issue\":{\"url\":\"https://api.github.com/repos/gonvenience/wait/issues/8\",\"repository_url\":\"https://api.github.com/repos/gonvenience/wait\",\"labels_url\":\"https://api.github.com/repos/gonvenience/wait/issues/8/labels{/name}\",\"comments_url\":\"https://api.github.com/repos/gonvenience/wait/issues/8/comments\",\"events_url\":\"https://api.github.com/repos/gonvenience/wait/issues/8/events\",\"html_url\":\"https://github.com/gonvenience/wait/pull/8\",\"id\":459722237,\"node_id\":\"MDExOlB1bGxSZXF1ZXN0MjkwOTk3Mjky\",\"number\":8,\"title\":\"Bump github.com/gonvenience/bunt from 1.0.5 to 1.0.6\",\"user\":{\"login\":\"dependabot-preview[bot]\",\"id\":27856297,\"node_id\":\"MDM6Qm90Mjc4NTYyOTc=\",\"avatar_url\":\"https://avatars3.githubusercontent.com/in/2141?v=4\",\"gravatar_id\":\"\",\"url\":\"https://api.github.com/users/dependabot-preview%5Bbot%5D\",\"html_url\":\"https://github.com/apps/dependabot-preview\",\"followers_url\":\"https://api.github.com/users/dependabot-preview%5Bbot%5D/followers\",\"following_url\":\"https://api.github.com/users/dependabot-preview%5Bbot%5D/following{/other_user}\",\"gists_url\":\"https://api.github.com/users/dependabot-preview%5Bbot%5D/gists{/gist_id}\",\"starred_url\":\"https://api.github.com/users/dependabot-preview%5Bbot%5D/starred{/owner}{/repo}\",\"subscriptions_url\":\"https://api.github.com/users/dependabot-preview%5Bbot%5D/subscriptions\",\"organizations_url\":\"https://api.github.com/users/dependabot-preview%5Bbot%5D/orgs\",\"repos_url\":\"https://api.github.com/users/dependabot-preview%5Bbot%5D/repos\",\"events_url\":\"https://api.github.com/users/dependabot-preview%5Bbot%5D/events{/privacy}\",\"received_events_url\":\"https://api.github.com/users/dependabot-preview%5Bbot%5D/received_events\",\"type\":\"Bot\",\"site_admin\":false},\"labels\":[{\"id\":1409938754,\"node_id\":\"MDU6TGFiZWwxNDA5OTM4NzU0\",\"url\":\"https://api.github.com/repos/gonvenience/wait/labels/dependencies\",\"name\":\"dependencies\",\"color\":\"0366d6\",\"default\":false}],\"state\":\"open\",\"locked\":false,\"assignee\":null,\"assignees\":[],\"milestone\":null,\"comments\":0,\"created_at\":\"2019-06-24T06:59:39Z\",\"updated_at\":\"2019-06-24T07:01:32Z\",\"closed_at\":null,\"author_association\":\"CONTRIBUTOR\",\"pull_request\":{\"url\":\"https://api.github.com/repos/gonvenience/wait/pulls/8\",\"html_url\":\"https://github.com/gonvenience/wait/pull/8\",\"diff_url\":\"https://github.com/gonvenience/wait/pull/8.diff\",\"patch_url\":\"https://github.com/gonvenience/wait/pull/8.patch\"},\"body\":\"Bumps [github.com/gonvenience/bunt](https://github.com/gonvenience/bunt) from 1.0.5 to 1.0.6.\\\\n<details>\\\\n<summary>Release notes</summary>\\\\n\\\\n*Sourced from [github.com/gonvenience/bunt\\'s releases](https://github.com/gonvenience/bunt/releases).*\\\\n\\\\n> ### bunt package v1.0.6\\\\r\\\\n> \\\\r\\\\n> Added `Blend` style option that allows for color blending instead of\\\\r\\\\n> overwriting the existing color.\\\\n</details>\\\\n<details>\\\\n<summary>Commits</summary>\\\\n\\\\n- [`919af6c`](https://github.com/gonvenience/bunt/commit/919af6c67da4e6bedf1dad4437670adc3cba5094) Add text blending support\\\\n- [`49240f6`](https://github.com/gonvenience/bunt/commit/49240f618677dcd62efe2a148cb166db961f8a5d) Add codecov.io badge to README\\\\n- [`1090a41`](https://github.com/gonvenience/bunt/commit/1090a41be0833dc93e541dd9c716a747ecb7fae6) Add codecov.io coverage report\\\\n- See full diff in [compare view](https://github.com/gonvenience/bunt/compare/v1.0.5...v1.0.6)\\\\n</details>\\\\n<br />\\\\n\\\\n[![Dependabot compatibility score](https://api.dependabot.com/badges/compatibility_score?dependency-name=github.com/gonvenience/bunt&package-manager=go_modules&previous-version=1.0.5&new-version=1.0.6)](https://dependabot.com/compatibility-score.html?dependency-name=github.com/gonvenience/bunt&package-manager=go_modules&previous-version=1.0.5&new-version=1.0.6)\\\\n\\\\nDependabot will resolve any conflicts with this PR as long as you don\\'t alter it yourself. You can also trigger a rebase manually by commenting `@dependabot rebase`.\\\\n\\\\n[//]: # (dependabot-automerge-start)\\\\n[//]: # (dependabot-automerge-end)\\\\n\\\\n---\\\\n\\\\n<details>\\\\n<summary>Dependabot commands and options</summary>\\\\n<br />\\\\n\\\\nYou can trigger Dependabot actions by commenting on this PR:\\\\n- `@dependabot rebase` will rebase this PR\\\\n- `@dependabot recreate` will recreate this PR, overwriting any edits that have been made to it\\\\n- `@dependabot merge` will merge this PR after your CI passes on it\\\\n- `@dependabot squash and merge` will squash and merge this PR after your CI passes on it\\\\n- `@dependabot cancel merge` will cancel a previously requested merge and block automerging\\\\n- `@dependabot reopen` will reopen this PR if it is closed\\\\n- `@dependabot ignore this [patch|minor|major] version` will close this PR and stop Dependabot creating any more for this minor/major version (unless you reopen the PR or upgrade to it yourself)\\\\n- `@dependabot ignore this dependency` will close this PR and stop Dependabot creating any more for this dependency (unless you reopen the PR or upgrade to it yourself)\\\\n- `@dependabot use these labels` will set the current labels as the default for future PRs for this repo and language\\\\n- `@dependabot use these reviewers` will set the current reviewers as the default for future PRs for this repo and language\\\\n- `@dependabot use these assignees` will set the current assignees as the default for future PRs for this repo and language\\\\n- `@dependabot use this milestone` will set the current milestone as the default for future PRs for this repo and language\\\\n- `@dependabot badge me` will comment on this PR with code to add a \\\\\"Dependabot enabled\\\\\" badge to your readme\\\\n\\\\nAdditionally, you can set the following in your Dependabot [dashboard](https://app.dependabot.com):\\\\n- Update frequency (including time of day and day of week)\\\\n- Pull request limits (per update run and/or open at any time)\\\\n- Out-of-range updates (receive only lockfile updates, if desired)\\\\n- Security updates (receive only security updates, if desired)\\\\n\\\\nFinally, you can contact us by mentioning @dependabot.\\\\n\\\\n</details>\"},\"comment\":{\"url\":\"https://api.github.com/repos/gonvenience/wait/issues/comments/504884731\",\"html_url\":\"https://github.com/gonvenience/wait/pull/8#issuecomment-504884731\",\"issue_url\":\"https://api.github.com/repos/gonvenience/wait/issues/8\",\"id\":504884731,\"node_id\":\"MDEyOklzc3VlQ29tbWVudDUwNDg4NDczMQ==\",\"user\":{\"login\":\"codecov[bot]\",\"id\":22429695,\"node_id\":\"MDM6Qm90MjI0Mjk2OTU=\",\"avatar_url\":\"https://avatars2.githubusercontent.com/in/254?v=4\",\"gravatar_id\":\"\",\"url\":\"https://api.github.com/users/codecov%5Bbot%5D\",\"html_url\":\"https://github.com/apps/codecov\",\"followers_url\":\"https://api.github.com/users/codecov%5Bbot%5D/followers\",\"following_url\":\"https://api.github.com/users/codecov%5Bbot%5D/following{/other_user}\",\"gists_url\":\"https://api.github.com/users/codecov%5Bbot%5D/gists{/gist_id}\",\"starred_url\":\"https://api.github.com/users/codecov%5Bbot%5D/starred{/owner}{/repo}\",\"subscriptions_url\":\"https://api.github.com/users/codecov%5Bbot%5D/subscriptions\",\"organizations_url\":\"https://api.github.com/users/codecov%5Bbot%5D/orgs\",\"repos_url\":\"https://api.github.com/users/codecov%5Bbot%5D/repos\",\"events_url\":\"https://api.github.com/users/codecov%5Bbot%5D/events{/privacy}\",\"received_events_url\":\"https://api.github.com/users/codecov%5Bbot%5D/received_events\",\"type\":\"Bot\",\"site_admin\":false},\"created_at\":\"2019-06-24T07:01:32Z\",\"updated_at\":\"2019-06-24T07:01:32Z\",\"author_association\":\"NONE\",\"body\":\"# [Codecov](https://codecov.io/gh/gonvenience/wait/pull/8?src=pr&el=h1) Report\\\\n> Merging [#8](https://codecov.io/gh/gonvenience/wait/pull/8?src=pr&el=desc) into [master](https://codecov.io/gh/gonvenience/wait/commit/e7eb7fff136634bfc29b718e9e6f80f866b58333?src=pr&el=desc) will **not change** coverage.\\\\n> The diff coverage is `n/a`.\\\\n\\\\n[![Impacted file tree graph](https://codecov.io/gh/gonvenience/wait/pull/8/graphs/tree.svg?width=650&token=pHrFTtGqq0&height=150&src=pr)](https://codecov.io/gh/gonvenience/wait/pull/8?src=pr&el=tree)\\\\n\\\\n```diff\\\\n@@           Coverage Diff           @@\\\\n##           master       #8   +/-   ##\\\\n=======================================\\\\n  Coverage   24.44%   24.44%           \\\\n=======================================\\\\n  Files           1        1           \\\\n  Lines          90       90           \\\\n=======================================\\\\n  Hits           22       22           \\\\n  Misses         68       68\\\\n```\\\\n\\\\n\\\\n\\\\n------\\\\n\\\\n[Continue to review full report at Codecov](https://codecov.io/gh/gonvenience/wait/pull/8?src=pr&el=continue).\\\\n> **Legend** - [Click here to learn more](https://docs.codecov.io/docs/codecov-delta)\\\\n> `Δ = absolute <relative> (impact)`, `ø = not affected`, `? = missing data`\\\\n> Powered by [Codecov](https://codecov.io/gh/gonvenience/wait/pull/8?src=pr&el=footer). Last update [e7eb7ff...3201ee4](https://codecov.io/gh/gonvenience/wait/pull/8?src=pr&el=lastupdated). Read the [comment docs](https://docs.codecov.io/docs/pull-request-comments).\\\\n\"}},\"public\":true,\"created_at\":\"2019-06-24T07:01:32Z\",\"org\":{\"id\":51761007,\"login\":\"gonvenience\",\"gravatar_id\":\"\",\"url\":\"https://api.github.com/orgs/gonvenience\",\"avatar_url\":\"https://avatars.githubusercontent.com/u/51761007?\"}},{\"id\":\"9878234512\",\"type\":\"PushEvent\",\"actor\":{\"id\":26554206,\"login\":\"mohammadobaid1\",\"display_login\":\"mohammadobaid1\",\"gravatar_id\":\"\",\"url\":\"https://api.github.com/users/mohammadobaid1\",\"avatar_url\":\"https://avatars.githubusercontent.com/u/26554206?\"},\"repo\":{\"id\":177141746,\"name\":\"mohammadobaid1/clinic-backend\",\"url\":\"https://api.github.com/repos/mohammadobaid1/clinic-backend\"},\"payload\":{\"push_id\":3745056933,\"size\":1,\"distinct_size\":1,\"ref\":\"refs/heads/master\",\"head\":\"facfea449cd89cb73fe80c6c9b6296fbc09f6533\",\"before\":\"46607e2eab1b4f0ba681b2c011b8e78048ce270c\",\"commits\":[{\"sha\":\"facfea449cd89cb73fe80c6c9b6296fbc09f6533\",\"author\":{\"email\":\"mobaid56@gmail.com\",\"name\":\"mohammadobaid1\"},\"message\":\"transactional query\",\"distinct\":true,\"url\":\"https://api.github.com/repos/mohammadobaid1/clinic-backend/commits/facfea449cd89cb73fe80c6c9b6296fbc09f6533\"}]},\"public\":true,\"created_at\":\"2019-06-24T07:01:32Z\"},{\"id\":\"9878234508\",\"type\":\"PushEvent\",\"actor\":{\"id\":4938650,\"login\":\"Unpublished\",\"display_login\":\"Unpublished\",\"gravatar_id\":\"\",\"url\":\"https://api.github.com/users/Unpublished\",\"avatar_url\":\"https://avatars.githubusercontent.com/u/4938650?\"},\"repo\":{\"id\":183773183,\"name\":\"Unpublished/pkg-oss\",\"url\":\"https://api.github.com/repos/Unpublished/pkg-oss\"},\"payload\":{\"push_id\":3745056924,\"size\":0,\"distinct_size\":0,\"ref\":\"refs/heads/master\",\"head\":\"4034ddbdc0561ba571e379b5ee4d80c808e5081d\",\"before\":\"4034ddbdc0561ba571e379b5ee4d80c808e5081d\",\"commits\":[]},\"public\":true,\"created_at\":\"2019-06-24T07:01:32Z\"},{\"id\":\"9878234510\",\"type\":\"CreateEvent\",\"actor\":{\"id\":19544215,\"login\":\"D-r-K\",\"display_login\":\"D-r-K\",\"gravatar_id\":\"\",\"url\":\"https://api.github.com/users/D-r-K\",\"avatar_url\":\"https://avatars.githubusercontent.com/u/19544215?\"},\"repo\":{\"id\":193451969,\"name\":\"D-r-K/anette-kerkovius\",\"url\":\"https://api.github.com/repos/D-r-K/anette-kerkovius\"},\"payload\":{\"ref\":null,\"ref_type\":\"repository\",\"master_branch\":\"master\",\"description\":null,\"pusher_type\":\"user\"},\"public\":true,\"created_at\":\"2019-06-24T07:01:32Z\"},{\"id\":\"9878234498\",\"type\":\"PushEvent\",\"actor\":{\"id\":51899180,\"login\":\"e1b17012\",\"display_login\":\"e1b17012\",\"gravatar_id\":\"\",\"url\":\"https://api.github.com/users/e1b17012\",\"avatar_url\":\"https://avatars.githubusercontent.com/u/51899180?\"},\"repo\":{\"id\":193436064,\"name\":\"makilibe/Doubutu\",\"url\":\"https://api.github.com/repos/makilibe/Doubutu\"},\"payload\":{\"push_id\":3745056922,\"size\":1,\"distinct_size\":1,\"ref\":\"refs/heads/T2-2a\",\"head\":\"4e1ae86363506e515b43d5cb561da9e1209eaf5f\",\"before\":\"1db69085b4639791c66d718c5a83c3193e5c8cc1\",\"commits\":[{\"sha\":\"4e1ae86363506e515b43d5cb561da9e1209eaf5f\",\"author\":{\"email\":\"e1b17012@st.oit.ac.jp\",\"name\":\"e1b17012\"},\"message\":\"t2-2abc\\\\n\\\\nKirin,Hiyoko,Zou\",\"distinct\":true,\"url\":\"https://api.github.com/repos/makilibe/Doubutu/commits/4e1ae86363506e515b43d5cb561da9e1209eaf5f\"}]},\"public\":true,\"created_at\":\"2019-06-24T07:01:32Z\"},{\"id\":\"9878234492\",\"type\":\"IssuesEvent\",\"actor\":{\"id\":23107615,\"login\":\"kalaleq\",\"display_login\":\"kalaleq\",\"gravatar_id\":\"\",\"url\":\"https://api.github.com/users/kalaleq\",\"avatar_url\":\"https://avatars.githubusercontent.com/u/23107615?\"},\"repo\":{\"id\":127815727,\"name\":\"otakuhqz/ZimLX\",\"url\":\"https://api.github.com/repos/otakuhqz/ZimLX\"},\"payload\":{\"action\":\"opened\",\"issue\":{\"url\":\"https://api.github.com/repos/otakuhqz/ZimLX/issues/55\",\"repository_url\":\"https://api.github.com/repos/otakuhqz/ZimLX\",\"labels_url\":\"https://api.github.com/repos/otakuhqz/ZimLX/issues/55/labels{/name}\",\"comments_url\":\"https://api.github.com/repos/otakuhqz/ZimLX/issues/55/comments\",\"events_url\":\"https://api.github.com/repos/otakuhqz/ZimLX/issues/55/events\",\"html_url\":\"https://github.com/otakuhqz/ZimLX/issues/55\",\"id\":459722927,\"node_id\":\"MDU6SXNzdWU0NTk3MjI5Mjc=\",\"number\":55,\"title\":\"Widget sizing override\",\"user\":{\"login\":\"kalaleq\",\"id\":23107615,\"node_id\":\"MDQ6VXNlcjIzMTA3NjE1\",\"avatar_url\":\"https://avatars2.githubusercontent.com/u/23107615?v=4\",\"gravatar_id\":\"\",\"url\":\"https://api.github.com/users/kalaleq\",\"html_url\":\"https://github.com/kalaleq\",\"followers_url\":\"https://api.github.com/users/kalaleq/followers\",\"following_url\":\"https://api.github.com/users/kalaleq/following{/other_user}\",\"gists_url\":\"https://api.github.com/users/kalaleq/gists{/gist_id}\",\"starred_url\":\"https://api.github.com/users/kalaleq/starred{/owner}{/repo}\",\"subscriptions_url\":\"https://api.github.com/users/kalaleq/subscriptions\",\"organizations_url\":\"https://api.github.com/users/kalaleq/orgs\",\"repos_url\":\"https://api.github.com/users/kalaleq/repos\",\"events_url\":\"https://api.github.com/users/kalaleq/events{/privacy}\",\"received_events_url\":\"https://api.github.com/users/kalaleq/received_events\",\"type\":\"User\",\"site_admin\":false},\"labels\":[],\"state\":\"open\",\"locked\":false,\"assignee\":null,\"assignees\":[],\"milestone\":null,\"comments\":0,\"created_at\":\"2019-06-24T07:01:31Z\",\"updated_at\":\"2019-06-24T07:01:31Z\",\"closed_at\":null,\"author_association\":\"NONE\",\"body\":\"In 0.4.4, i was able to resize some widgets to be smaller than i can now in 0.6.2b. For instance the K9 mailbox widget by default takes up a 2x1 space, and M.A.L.P is 5x2. In 0.4.4 i could make them 1x1 and 4x1 respectively, with no apparent loss of functionality.\\\\r\\\\n\\\\r\\\\nNow i cannot resize the K9 widget at all, and M.A.L.P only resizes horizontally and not below 5. This really messes up my layout and the widgets have way too much padding with \\\\\"full width widgets\\\\\" on.\\\\r\\\\n\\\\r\\\\nSeems widgets have some size restrictions that weren\\'t being honoured before, and now are? If so, is it possible to get the old behaviour back, maybe via an \\\\\"override\\\\\" toggle?\\\\r\\\\n\\\\r\\\\nThanks for considering this!\"}},\"public\":true,\"created_at\":\"2019-06-24T07:01:32Z\"},{\"id\":\"9878234490\",\"type\":\"PushEvent\",\"actor\":{\"id\":50607772,\"login\":\"HelmyFikriAlhakim\",\"display_login\":\"HelmyFikriAlhakim\",\"gravatar_id\":\"\",\"url\":\"https://api.github.com/users/HelmyFikriAlhakim\",\"avatar_url\":\"https://avatars.githubusercontent.com/u/50607772?\"},\"repo\":{\"id\":186542597,\"name\":\"AlihNurdiansyah/pemesanan-makanan\",\"url\":\"https://api.github.com/repos/AlihNurdiansyah/pemesanan-makanan\"},\"payload\":{\"push_id\":3745056918,\"size\":1,\"distinct_size\":1,\"ref\":\"refs/heads/master\",\"head\":\"69a1c225420e1f0ec23d04bc3dcfd9c2f38f8918\",\"before\":\"96832e475c3c61604810f592cec0d858b913fd54\",\"commits\":[{\"sha\":\"69a1c225420e1f0ec23d04bc3dcfd9c2f38f8918\",\"author\":{\"email\":\"50607772+HelmyFikriAlhakim@users.noreply.github.com\",\"name\":\"HelmyFikriAlhakim\"},\"message\":\"adminlte\\\\n\\\\njs\",\"distinct\":true,\"url\":\"https://api.github.com/repos/AlihNurdiansyah/pemesanan-makanan/commits/69a1c225420e1f0ec23d04bc3dcfd9c2f38f8918\"}]},\"public\":true,\"created_at\":\"2019-06-24T07:01:32Z\"},{\"id\":\"9878234491\",\"type\":\"IssueCommentEvent\",\"actor\":{\"id\":29663566,\"login\":\"srvbpigh\",\"display_login\":\"srvbpigh\",\"gravatar_id\":\"\",\"url\":\"https://api.github.com/users/srvbpigh\",\"avatar_url\":\"https://avatars.githubusercontent.com/u/29663566?\"},\"repo\":{\"id\":73312899,\"name\":\"MicrosoftDocs/azure-docs.it-it\",\"url\":\"https://api.github.com/repos/MicrosoftDocs/azure-docs.it-it\"},\"payload\":{\"action\":\"created\",\"issue\":{\"url\":\"https://api.github.com/repos/MicrosoftDocs/azure-docs.it-it/issues/321\",\"repository_url\":\"https://api.github.com/repos/MicrosoftDocs/azure-docs.it-it\",\"labels_url\":\"https://api.github.com/repos/MicrosoftDocs/azure-docs.it-it/issues/321/labels{/name}\",\"comments_url\":\"https://api.github.com/repos/MicrosoftDocs/azure-docs.it-it/issues/321/comments\",\"events_url\":\"https://api.github.com/repos/MicrosoftDocs/azure-docs.it-it/issues/321/events\",\"html_url\":\"https://github.com/MicrosoftDocs/azure-docs.it-it/pull/321\",\"id\":459718323,\"node_id\":\"MDExOlB1bGxSZXF1ZXN0MjkwOTk0MjI2\",\"number\":321,\"title\":\"Fix mistranslation\",\"user\":{\"login\":\"changeworld\",\"id\":1207985,\"node_id\":\"MDQ6VXNlcjEyMDc5ODU=\",\"avatar_url\":\"https://avatars1.githubusercontent.com/u/1207985?v=4\",\"gravatar_id\":\"\",\"url\":\"https://api.github.com/users/changeworld\",\"html_url\":\"https://github.com/changeworld\",\"followers_url\":\"https://api.github.com/users/changeworld/followers\",\"following_url\":\"https://api.github.com/users/changeworld/following{/other_user}\",\"gists_url\":\"https://api.github.com/users/changeworld/gists{/gist_id}\",\"starred_url\":\"https://api.github.com/users/changeworld/starred{/owner}{/repo}\",\"subscriptions_url\":\"https://api.github.com/users/changeworld/subscriptions\",\"organizations_url\":\"https://api.github.com/users/changeworld/orgs\",\"repos_url\":\"https://api.github.com/users/changeworld/repos\",\"events_url\":\"https://api.github.com/users/changeworld/events{/privacy}\",\"received_events_url\":\"https://api.github.com/users/changeworld/received_events\",\"type\":\"User\",\"site_admin\":false},\"labels\":[{\"id\":631615475,\"node_id\":\"MDU6TGFiZWw2MzE2MTU0NzU=\",\"url\":\"https://api.github.com/repos/MicrosoftDocs/azure-docs.it-it/labels/In%20Progress\",\"name\":\"In Progress\",\"color\":\"fef2c0\",\"default\":false}],\"state\":\"open\",\"locked\":false,\"assignee\":null,\"assignees\":[],\"milestone\":null,\"comments\":0,\"created_at\":\"2019-06-24T06:49:06Z\",\"updated_at\":\"2019-06-24T07:01:31Z\",\"closed_at\":null,\"author_association\":\"CONTRIBUTOR\",\"pull_request\":{\"url\":\"https://api.github.com/repos/MicrosoftDocs/azure-docs.it-it/pulls/321\",\"html_url\":\"https://github.com/MicrosoftDocs/azure-docs.it-it/pull/321\",\"diff_url\":\"https://github.com/MicrosoftDocs/azure-docs.it-it/pull/321.diff\",\"patch_url\":\"https://github.com/MicrosoftDocs/azure-docs.it-it/pull/321.patch\"},\"body\":\"Should not translate proper nouns.\"},\"comment\":{\"url\":\"https://api.github.com/repos/MicrosoftDocs/azure-docs.it-it/issues/comments/504884730\",\"html_url\":\"https://github.com/MicrosoftDocs/azure-docs.it-it/pull/321#issuecomment-504884730\",\"issue_url\":\"https://api.github.com/repos/MicrosoftDocs/azure-docs.it-it/issues/321\",\"id\":504884730,\"node_id\":\"MDEyOklzc3VlQ29tbWVudDUwNDg4NDczMA==\",\"user\":{\"login\":\"srvbpigh\",\"id\":29663566,\"node_id\":\"MDQ6VXNlcjI5NjYzNTY2\",\"avatar_url\":\"https://avatars2.githubusercontent.com/u/29663566?v=4\",\"gravatar_id\":\"\",\"url\":\"https://api.github.com/users/srvbpigh\",\"html_url\":\"https://github.com/srvbpigh\",\"followers_url\":\"https://api.github.com/users/srvbpigh/followers\",\"following_url\":\"https://api.github.com/users/srvbpigh/following{/other_user}\",\"gists_url\":\"https://api.github.com/users/srvbpigh/gists{/gist_id}\",\"starred_url\":\"https://api.github.com/users/srvbpigh/starred{/owner}{/repo}\",\"subscriptions_url\":\"https://api.github.com/users/srvbpigh/subscriptions\",\"organizations_url\":\"https://api.github.com/users/srvbpigh/orgs\",\"repos_url\":\"https://api.github.com/users/srvbpigh/repos\",\"events_url\":\"https://api.github.com/users/srvbpigh/events{/privacy}\",\"received_events_url\":\"https://api.github.com/users/srvbpigh/received_events\",\"type\":\"User\",\"site_admin\":false},\"created_at\":\"2019-06-24T07:01:31Z\",\"updated_at\":\"2019-06-24T07:01:31Z\",\"author_association\":\"CONTRIBUTOR\",\"body\":\"Ciao @changeworld:\\\\n\\\\nGrazie per il contributo! Stiamo elaborando i suggerimenti e ti aggiorneremo a breve.  \\\\n\\\\n\\\\nCordiali saluti, \\\\n\\\\nTeam di Microsoft DOCS Global Experience\"}},\"public\":true,\"created_at\":\"2019-06-24T07:01:32Z\",\"org\":{\"id\":22479449,\"login\":\"MicrosoftDocs\",\"gravatar_id\":\"\",\"url\":\"https://api.github.com/orgs/MicrosoftDocs\",\"avatar_url\":\"https://avatars.githubusercontent.com/u/22479449?\"}},{\"id\":\"9878234485\",\"type\":\"CreateEvent\",\"actor\":{\"id\":27856297,\"login\":\"dependabot-preview[bot]\",\"display_login\":\"dependabot-preview\",\"gravatar_id\":\"\",\"url\":\"https://api.github.com/users/dependabot-preview[bot]\",\"avatar_url\":\"https://avatars.githubusercontent.com/u/27856297?\"},\"repo\":{\"id\":187775372,\"name\":\"typeskrift/dayjs-utils\",\"url\":\"https://api.github.com/repos/typeskrift/dayjs-utils\"},\"payload\":{\"ref\":\"dependabot/npm_and_yarn/@types/node-12.0.10\",\"ref_type\":\"branch\",\"master_branch\":\"master\",\"description\":\"day.js plugin to provide convenient helpers for a less verbose API.\",\"pusher_type\":\"user\"},\"public\":true,\"created_at\":\"2019-06-24T07:01:31Z\",\"org\":{\"id\":51363366,\"login\":\"typeskrift\",\"gravatar_id\":\"\",\"url\":\"https://api.github.com/orgs/typeskrift\",\"avatar_url\":\"https://avatars.githubusercontent.com/u/51363366?\"}},{\"id\":\"9878234483\",\"type\":\"PushEvent\",\"actor\":{\"id\":5606098,\"login\":\"yuwenma\",\"display_login\":\"yuwenma\",\"gravatar_id\":\"\",\"url\":\"https://api.github.com/users/yuwenma\",\"avatar_url\":\"https://avatars.githubusercontent.com/u/5606098?\"},\"repo\":{\"id\":193397018,\"name\":\"yuwenma/hamachi-deployment\",\"url\":\"https://api.github.com/repos/yuwenma/hamachi-deployment\"},\"payload\":{\"push_id\":3745056911,\"size\":5,\"distinct_size\":1,\"ref\":\"refs/heads/staging-h\",\"head\":\"c10d57fc0adcd7b9985d45549107f4995def7a44\",\"before\":\"3791483430cc08fb5db8fe252bbf6b742a2749aa\",\"commits\":[{\"sha\":\"93284cdd6d38f1c03e55fc5873810729df68e0be\",\"author\":{\"email\":\"ywuenma@google.com\",\"name\":\"Yuwen Ma\"},\"message\":\"Update README\",\"distinct\":false,\"url\":\"https://api.github.com/repos/yuwenma/hamachi-deployment/commits/93284cdd6d38f1c03e55fc5873810729df68e0be\"},{\"sha\":\"0a6dfaee758f6f3c90c89e951988e52006ba82f3\",\"author\":{\"email\":\"ywuenma@google.com\",\"name\":\"Yuwen Ma\"},\"message\":\"Update README\",\"distinct\":false,\"url\":\"https://api.github.com/repos/yuwenma/hamachi-deployment/commits/0a6dfaee758f6f3c90c89e951988e52006ba82f3\"},{\"sha\":\"a82b110e0845df7d757b159eb60ce653925356ba\",\"author\":{\"email\":\"ywuenma@google.com\",\"name\":\"Yuwen Ma\"},\"message\":\"Update README\",\"distinct\":false,\"url\":\"https://api.github.com/repos/yuwenma/hamachi-deployment/commits/a82b110e0845df7d757b159eb60ce653925356ba\"},{\"sha\":\"38dce63f874b4d463023c30362ec48090572b882\",\"author\":{\"email\":\"ywuenma@google.com\",\"name\":\"Yuwen Ma\"},\"message\":\"KALM: prepare PR for env `qa`\\\\n\\\\nSUGGESTED TAG:v2.0.0-qa-59e0597.1\",\"distinct\":false,\"url\":\"https://api.github.com/repos/yuwenma/hamachi-deployment/commits/38dce63f874b4d463023c30362ec48090572b882\"},{\"sha\":\"c10d57fc0adcd7b9985d45549107f4995def7a44\",\"author\":{\"email\":\"yuwenma@google.com\",\"name\":\"Yuwen Ma\"},\"message\":\"Qa unapproved (#1)\\\\n\\\\nQa unapproved\",\"distinct\":true,\"url\":\"https://api.github.com/repos/yuwenma/hamachi-deployment/commits/c10d57fc0adcd7b9985d45549107f4995def7a44\"}]},\"public\":true,\"created_at\":\"2019-06-24T07:01:31Z\"},{\"id\":\"9878234475\",\"type\":\"ForkEvent\",\"actor\":{\"id\":29418914,\"login\":\"yifan-h\",\"display_login\":\"yifan-h\",\"gravatar_id\":\"\",\"url\":\"https://api.github.com/users/yifan-h\",\"avatar_url\":\"https://avatars.githubusercontent.com/u/29418914?\"},\"repo\":{\"id\":92752848,\"name\":\"williamleif/GraphSAGE\",\"url\":\"https://api.github.com/repos/williamleif/GraphSAGE\"},\"payload\":{\"forkee\":{\"id\":193451967,\"node_id\":\"MDEwOlJlcG9zaXRvcnkxOTM0NTE5Njc=\",\"name\":\"GraphSAGE\",\"full_name\":\"yifan-h/GraphSAGE\",\"private\":false,\"owner\":{\"login\":\"yifan-h\",\"id\":29418914,\"node_id\":\"MDQ6VXNlcjI5NDE4OTE0\",\"avatar_url\":\"https://avatars0.githubusercontent.com/u/29418914?v=4\",\"gravatar_id\":\"\",\"url\":\"https://api.github.com/users/yifan-h\",\"html_url\":\"https://github.com/yifan-h\",\"followers_url\":\"https://api.github.com/users/yifan-h/followers\",\"following_url\":\"https://api.github.com/users/yifan-h/following{/other_user}\",\"gists_url\":\"https://api.github.com/users/yifan-h/gists{/gist_id}\",\"starred_url\":\"https://api.github.com/users/yifan-h/starred{/owner}{/repo}\",\"subscriptions_url\":\"https://api.github.com/users/yifan-h/subscriptions\",\"organizations_url\":\"https://api.github.com/users/yifan-h/orgs\",\"repos_url\":\"https://api.github.com/users/yifan-h/repos\",\"events_url\":\"https://api.github.com/users/yifan-h/events{/privacy}\",\"received_events_url\":\"https://api.github.com/users/yifan-h/received_events\",\"type\":\"User\",\"site_admin\":false},\"html_url\":\"https://github.com/yifan-h/GraphSAGE\",\"description\":\"Representation learning on large graphs using stochastic graph convolutions.\",\"fork\":true,\"url\":\"https://api.github.com/repos/yifan-h/GraphSAGE\",\"forks_url\":\"https://api.github.com/repos/yifan-h/GraphSAGE/forks\",\"keys_url\":\"https://api.github.com/repos/yifan-h/GraphSAGE/keys{/key_id}\",\"collaborators_url\":\"https://api.github.com/repos/yifan-h/GraphSAGE/collaborators{/collaborator}\",\"teams_url\":\"https://api.github.com/repos/yifan-h/GraphSAGE/teams\",\"hooks_url\":\"https://api.github.com/repos/yifan-h/GraphSAGE/hooks\",\"issue_events_url\":\"https://api.github.com/repos/yifan-h/GraphSAGE/issues/events{/number}\",\"events_url\":\"https://api.github.com/repos/yifan-h/GraphSAGE/events\",\"assignees_url\":\"https://api.github.com/repos/yifan-h/GraphSAGE/assignees{/user}\",\"branches_url\":\"https://api.github.com/repos/yifan-h/GraphSAGE/branches{/branch}\",\"tags_url\":\"https://api.github.com/repos/yifan-h/GraphSAGE/tags\",\"blobs_url\":\"https://api.github.com/repos/yifan-h/GraphSAGE/git/blobs{/sha}\",\"git_tags_url\":\"https://api.github.com/repos/yifan-h/GraphSAGE/git/tags{/sha}\",\"git_refs_url\":\"https://api.github.com/repos/yifan-h/GraphSAGE/git/refs{/sha}\",\"trees_url\":\"https://api.github.com/repos/yifan-h/GraphSAGE/git/trees{/sha}\",\"statuses_url\":\"https://api.github.com/repos/yifan-h/GraphSAGE/statuses/{sha}\",\"languages_url\":\"https://api.github.com/repos/yifan-h/GraphSAGE/languages\",\"stargazers_url\":\"https://api.github.com/repos/yifan-h/GraphSAGE/stargazers\",\"contributors_url\":\"https://api.github.com/repos/yifan-h/GraphSAGE/contributors\",\"subscribers_url\":\"https://api.github.com/repos/yifan-h/GraphSAGE/subscribers\",\"subscription_url\":\"https://api.github.com/repos/yifan-h/GraphSAGE/subscription\",\"commits_url\":\"https://api.github.com/repos/yifan-h/GraphSAGE/commits{/sha}\",\"git_commits_url\":\"https://api.github.com/repos/yifan-h/GraphSAGE/git/commits{/sha}\",\"comments_url\":\"https://api.github.com/repos/yifan-h/GraphSAGE/comments{/number}\",\"issue_comment_url\":\"https://api.github.com/repos/yifan-h/GraphSAGE/issues/comments{/number}\",\"contents_url\":\"https://api.github.com/repos/yifan-h/GraphSAGE/contents/{+path}\",\"compare_url\":\"https://api.github.com/repos/yifan-h/GraphSAGE/compare/{base}...{head}\",\"merges_url\":\"https://api.github.com/repos/yifan-h/GraphSAGE/merges\",\"archive_url\":\"https://api.github.com/repos/yifan-h/GraphSAGE/{archive_format}{/ref}\",\"downloads_url\":\"https://api.github.com/repos/yifan-h/GraphSAGE/downloads\",\"issues_url\":\"https://api.github.com/repos/yifan-h/GraphSAGE/issues{/number}\",\"pulls_url\":\"https://api.github.com/repos/yifan-h/GraphSAGE/pulls{/number}\",\"milestones_url\":\"https://api.github.com/repos/yifan-h/GraphSAGE/milestones{/number}\",\"notifications_url\":\"https://api.github.com/repos/yifan-h/GraphSAGE/notifications{?since,all,participating}\",\"labels_url\":\"https://api.github.com/repos/yifan-h/GraphSAGE/labels{/name}\",\"releases_url\":\"https://api.github.com/repos/yifan-h/GraphSAGE/releases{/id}\",\"deployments_url\":\"https://api.github.com/repos/yifan-h/GraphSAGE/deployments\",\"created_at\":\"2019-06-24T07:01:31Z\",\"updated_at\":\"2019-06-24T06:58:22Z\",\"pushed_at\":\"2019-05-31T11:01:14Z\",\"git_url\":\"git://github.com/yifan-h/GraphSAGE.git\",\"ssh_url\":\"git@github.com:yifan-h/GraphSAGE.git\",\"clone_url\":\"https://github.com/yifan-h/GraphSAGE.git\",\"svn_url\":\"https://github.com/yifan-h/GraphSAGE\",\"homepage\":\"\",\"size\":6582,\"stargazers_count\":0,\"watchers_count\":0,\"language\":null,\"has_issues\":false,\"has_projects\":true,\"has_downloads\":true,\"has_wiki\":true,\"has_pages\":false,\"forks_count\":0,\"mirror_url\":null,\"archived\":false,\"disabled\":false,\"open_issues_count\":0,\"license\":{\"key\":\"other\",\"name\":\"Other\",\"spdx_id\":\"NOASSERTION\",\"url\":null,\"node_id\":\"MDc6TGljZW5zZTA=\"},\"forks\":0,\"open_issues\":0,\"watchers\":0,\"default_branch\":\"master\",\"public\":true}},\"public\":true,\"created_at\":\"2019-06-24T07:01:31Z\"},{\"id\":\"9878234469\",\"type\":\"PushEvent\",\"actor\":{\"id\":9841830,\"login\":\"Arpit0492\",\"display_login\":\"Arpit0492\",\"gravatar_id\":\"\",\"url\":\"https://api.github.com/users/Arpit0492\",\"avatar_url\":\"https://avatars.githubusercontent.com/u/9841830?\"},\"repo\":{\"id\":120352600,\"name\":\"Arpit0492/Sport-Programming\",\"url\":\"https://api.github.com/repos/Arpit0492/Sport-Programming\"},\"payload\":{\"push_id\":3745056908,\"size\":1,\"distinct_size\":1,\"ref\":\"refs/heads/master\",\"head\":\"4ace452d1c8a341ba9041dd0e70d1be491be34ce\",\"before\":\"5e252b38ff33dbffcaf06e2aae55dbefc02ba08a\",\"commits\":[{\"sha\":\"4ace452d1c8a341ba9041dd0e70d1be491be34ce\",\"author\":{\"email\":\"arpit.johri@embibe.com\",\"name\":\"Arpit Johri\"},\"message\":\"CG 2019 Finals Problems\",\"distinct\":true,\"url\":\"https://api.github.com/repos/Arpit0492/Sport-Programming/commits/4ace452d1c8a341ba9041dd0e70d1be491be34ce\"}]},\"public\":true,\"created_at\":\"2019-06-24T07:01:31Z\"},{\"id\":\"9878234465\",\"type\":\"PullRequestEvent\",\"actor\":{\"id\":12200860,\"login\":\"Karuhanga\",\"display_login\":\"Karuhanga\",\"gravatar_id\":\"\",\"url\":\"https://api.github.com/users/Karuhanga\",\"avatar_url\":\"https://avatars.githubusercontent.com/u/12200860?\"},\"repo\":{\"id\":131843847,\"name\":\"openmrs/openmrs-ocl-client\",\"url\":\"https://api.github.com/repos/openmrs/openmrs-ocl-client\"},\"payload\":{\"action\":\"opened\",\"number\":510,\"pull_request\":{\"url\":\"https://api.github.com/repos/openmrs/openmrs-ocl-client/pulls/510\",\"id\":290997840,\"node_id\":\"MDExOlB1bGxSZXF1ZXN0MjkwOTk3ODQw\",\"html_url\":\"https://github.com/openmrs/openmrs-ocl-client/pull/510\",\"diff_url\":\"https://github.com/openmrs/openmrs-ocl-client/pull/510.diff\",\"patch_url\":\"https://github.com/openmrs/openmrs-ocl-client/pull/510.patch\",\"issue_url\":\"https://api.github.com/repos/openmrs/openmrs-ocl-client/issues/510\",\"number\":510,\"state\":\"open\",\"locked\":false,\"title\":\"OCLOMRS-628: Name types should be; Fully Specified, Designated Synonym: Synonym in UI, SHORT: Short in UI, Index Term\",\"user\":{\"login\":\"Karuhanga\",\"id\":12200860,\"node_id\":\"MDQ6VXNlcjEyMjAwODYw\",\"avatar_url\":\"https://avatars1.githubusercontent.com/u/12200860?v=4\",\"gravatar_id\":\"\",\"url\":\"https://api.github.com/users/Karuhanga\",\"html_url\":\"https://github.com/Karuhanga\",\"followers_url\":\"https://api.github.com/users/Karuhanga/followers\",\"following_url\":\"https://api.github.com/users/Karuhanga/following{/other_user}\",\"gists_url\":\"https://api.github.com/users/Karuhanga/gists{/gist_id}\",\"starred_url\":\"https://api.github.com/users/Karuhanga/starred{/owner}{/repo}\",\"subscriptions_url\":\"https://api.github.com/users/Karuhanga/subscriptions\",\"organizations_url\":\"https://api.github.com/users/Karuhanga/orgs\",\"repos_url\":\"https://api.github.com/users/Karuhanga/repos\",\"events_url\":\"https://api.github.com/users/Karuhanga/events{/privacy}\",\"received_events_url\":\"https://api.github.com/users/Karuhanga/received_events\",\"type\":\"User\",\"site_admin\":false},\"body\":\"# JIRA TICKET NAME:\\\\r\\\\n[Name types should be; Fully Specified, Designated Synonym: Synonym in UI, SHORT: Short in UI, Index Term](https://issues.openmrs.org/browse/OCLOMRS-628)\\\\r\\\\n\\\\r\\\\n# Summary:\\\\r\\\\n I try to create a concept with two names in English, the first one has type=Fully Specified, the second has type=Synonym. I get “An error occurred when creating a concept. Invalid name type” for the one that’s a synonym. (Possibly OpenMRS calls this “synonym” but OCL backend calls this nametype=null.)\",\"created_at\":\"2019-06-24T07:01:31Z\",\"updated_at\":\"2019-06-24T07:01:31Z\",\"closed_at\":null,\"merged_at\":null,\"merge_commit_sha\":null,\"assignee\":null,\"assignees\":[],\"requested_reviewers\":[],\"requested_teams\":[],\"labels\":[],\"milestone\":null,\"commits_url\":\"https://api.github.com/repos/openmrs/openmrs-ocl-client/pulls/510/commits\",\"review_comments_url\":\"https://api.github.com/repos/openmrs/openmrs-ocl-client/pulls/510/comments\",\"review_comment_url\":\"https://api.github.com/repos/openmrs/openmrs-ocl-client/pulls/comments{/number}\",\"comments_url\":\"https://api.github.com/repos/openmrs/openmrs-ocl-client/issues/510/comments\",\"statuses_url\":\"https://api.github.com/repos/openmrs/openmrs-ocl-client/statuses/9bba9088be4200672ba753cc5c4ed7a83fa0e282\",\"head\":{\"label\":\"Karuhanga:OCLOMRS-628\",\"ref\":\"OCLOMRS-628\",\"sha\":\"9bba9088be4200672ba753cc5c4ed7a83fa0e282\",\"user\":{\"login\":\"Karuhanga\",\"id\":12200860,\"node_id\":\"MDQ6VXNlcjEyMjAwODYw\",\"avatar_url\":\"https://avatars1.githubusercontent.com/u/12200860?v=4\",\"gravatar_id\":\"\",\"url\":\"https://api.github.com/users/Karuhanga\",\"html_url\":\"https://github.com/Karuhanga\",\"followers_url\":\"https://api.github.com/users/Karuhanga/followers\",\"following_url\":\"https://api.github.com/users/Karuhanga/following{/other_user}\",\"gists_url\":\"https://api.github.com/users/Karuhanga/gists{/gist_id}\",\"starred_url\":\"https://api.github.com/users/Karuhanga/starred{/owner}{/repo}\",\"subscriptions_url\":\"https://api.github.com/users/Karuhanga/subscriptions\",\"organizations_url\":\"https://api.github.com/users/Karuhanga/orgs\",\"repos_url\":\"https://api.github.com/users/Karuhanga/repos\",\"events_url\":\"https://api.github.com/users/Karuhanga/events{/privacy}\",\"received_events_url\":\"https://api.github.com/users/Karuhanga/received_events\",\"type\":\"User\",\"site_admin\":false},\"repo\":{\"id\":181644081,\"node_id\":\"MDEwOlJlcG9zaXRvcnkxODE2NDQwODE=\",\"name\":\"openmrs-ocl-client\",\"full_name\":\"Karuhanga/openmrs-ocl-client\",\"private\":false,\"owner\":{\"login\":\"Karuhanga\",\"id\":12200860,\"node_id\":\"MDQ6VXNlcjEyMjAwODYw\",\"avatar_url\":\"https://avatars1.githubusercontent.com/u/12200860?v=4\",\"gravatar_id\":\"\",\"url\":\"https://api.github.com/users/Karuhanga\",\"html_url\":\"https://github.com/Karuhanga\",\"followers_url\":\"https://api.github.com/users/Karuhanga/followers\",\"following_url\":\"https://api.github.com/users/Karuhanga/following{/other_user}\",\"gists_url\":\"https://api.github.com/users/Karuhanga/gists{/gist_id}\",\"starred_url\":\"https://api.github.com/users/Karuhanga/starred{/owner}{/repo}\",\"subscriptions_url\":\"https://api.github.com/users/Karuhanga/subscriptions\",\"organizations_url\":\"https://api.github.com/users/Karuhanga/orgs\",\"repos_url\":\"https://api.github.com/users/Karuhanga/repos\",\"events_url\":\"https://api.github.com/users/Karuhanga/events{/privacy}\",\"received_events_url\":\"https://api.github.com/users/Karuhanga/received_events\",\"type\":\"User\",\"site_admin\":false},\"html_url\":\"https://github.com/Karuhanga/openmrs-ocl-client\",\"description\":\"OCL client for OpenMRS\",\"fork\":true,\"url\":\"https://api.github.com/repos/Karuhanga/openmrs-ocl-client\",\"forks_url\":\"https://api.github.com/repos/Karuhanga/openmrs-ocl-client/forks\",\"keys_url\":\"https://api.github.com/repos/Karuhanga/openmrs-ocl-client/keys{/key_id}\",\"collaborators_url\":\"https://api.github.com/repos/Karuhanga/openmrs-ocl-client/collaborators{/collaborator}\",\"teams_url\":\"https://api.github.com/repos/Karuhanga/openmrs-ocl-client/teams\",\"hooks_url\":\"https://api.github.com/repos/Karuhanga/openmrs-ocl-client/hooks\",\"issue_events_url\":\"https://api.github.com/repos/Karuhanga/openmrs-ocl-client/issues/events{/number}\",\"events_url\":\"https://api.github.com/repos/Karuhanga/openmrs-ocl-client/events\",\"assignees_url\":\"https://api.github.com/repos/Karuhanga/openmrs-ocl-client/assignees{/user}\",\"branches_url\":\"https://api.github.com/repos/Karuhanga/openmrs-ocl-client/branches{/branch}\",\"tags_url\":\"https://api.github.com/repos/Karuhanga/openmrs-ocl-client/tags\",\"blobs_url\":\"https://api.github.com/repos/Karuhanga/openmrs-ocl-client/git/blobs{/sha}\",\"git_tags_url\":\"https://api.github.com/repos/Karuhanga/openmrs-ocl-client/git/tags{/sha}\",\"git_refs_url\":\"https://api.github.com/repos/Karuhanga/openmrs-ocl-client/git/refs{/sha}\",\"trees_url\":\"https://api.github.com/repos/Karuhanga/openmrs-ocl-client/git/trees{/sha}\",\"statuses_url\":\"https://api.github.com/repos/Karuhanga/openmrs-ocl-client/statuses/{sha}\",\"languages_url\":\"https://api.github.com/repos/Karuhanga/openmrs-ocl-client/languages\",\"stargazers_url\":\"https://api.github.com/repos/Karuhanga/openmrs-ocl-client/stargazers\",\"contributors_url\":\"https://api.github.com/repos/Karuhanga/openmrs-ocl-client/contributors\",\"subscribers_url\":\"https://api.github.com/repos/Karuhanga/openmrs-ocl-client/subscribers\",\"subscription_url\":\"https://api.github.com/repos/Karuhanga/openmrs-ocl-client/subscription\",\"commits_url\":\"https://api.github.com/repos/Karuhanga/openmrs-ocl-client/commits{/sha}\",\"git_commits_url\":\"https://api.github.com/repos/Karuhanga/openmrs-ocl-client/git/commits{/sha}\",\"comments_url\":\"https://api.github.com/repos/Karuhanga/openmrs-ocl-client/comments{/number}\",\"issue_comment_url\":\"https://api.github.com/repos/Karuhanga/openmrs-ocl-client/issues/comments{/number}\",\"contents_url\":\"https://api.github.com/repos/Karuhanga/openmrs-ocl-client/contents/{+path}\",\"compare_url\":\"https://api.github.com/repos/Karuhanga/openmrs-ocl-client/compare/{base}...{head}\",\"merges_url\":\"https://api.github.com/repos/Karuhanga/openmrs-ocl-client/merges\",\"archive_url\":\"https://api.github.com/repos/Karuhanga/openmrs-ocl-client/{archive_format}{/ref}\",\"downloads_url\":\"https://api.github.com/repos/Karuhanga/openmrs-ocl-client/downloads\",\"issues_url\":\"https://api.github.com/repos/Karuhanga/openmrs-ocl-client/issues{/number}\",\"pulls_url\":\"https://api.github.com/repos/Karuhanga/openmrs-ocl-client/pulls{/number}\",\"milestones_url\":\"https://api.github.com/repos/Karuhanga/openmrs-ocl-client/milestones{/number}\",\"notifications_url\":\"https://api.github.com/repos/Karuhanga/openmrs-ocl-client/notifications{?since,all,participating}\",\"labels_url\":\"https://api.github.com/repos/Karuhanga/openmrs-ocl-client/labels{/name}\",\"releases_url\":\"https://api.github.com/repos/Karuhanga/openmrs-ocl-client/releases{/id}\",\"deployments_url\":\"https://api.github.com/repos/Karuhanga/openmrs-ocl-client/deployments\",\"created_at\":\"2019-04-16T08:08:12Z\",\"updated_at\":\"2019-06-24T06:21:56Z\",\"pushed_at\":\"2019-06-24T07:00:28Z\",\"git_url\":\"git://github.com/Karuhanga/openmrs-ocl-client.git\",\"ssh_url\":\"git@github.com:Karuhanga/openmrs-ocl-client.git\",\"clone_url\":\"https://github.com/Karuhanga/openmrs-ocl-client.git\",\"svn_url\":\"https://github.com/Karuhanga/openmrs-ocl-client\",\"homepage\":null,\"size\":2371,\"stargazers_count\":0,\"watchers_count\":0,\"language\":\"JavaScript\",\"has_issues\":false,\"has_projects\":true,\"has_downloads\":true,\"has_wiki\":false,\"has_pages\":false,\"forks_count\":0,\"mirror_url\":null,\"archived\":false,\"disabled\":false,\"open_issues_count\":2,\"license\":null,\"forks\":0,\"open_issues\":2,\"watchers\":0,\"default_branch\":\"master\"}},\"base\":{\"label\":\"openmrs:master\",\"ref\":\"master\",\"sha\":\"d8010f721cf0dd39e19c27561b5f9deeaca8c1f1\",\"user\":{\"login\":\"openmrs\",\"id\":860776,\"node_id\":\"MDEyOk9yZ2FuaXphdGlvbjg2MDc3Ng==\",\"avatar_url\":\"https://avatars3.githubusercontent.com/u/860776?v=4\",\"gravatar_id\":\"\",\"url\":\"https://api.github.com/users/openmrs\",\"html_url\":\"https://github.com/openmrs\",\"followers_url\":\"https://api.github.com/users/openmrs/followers\",\"following_url\":\"https://api.github.com/users/openmrs/following{/other_user}\",\"gists_url\":\"https://api.github.com/users/openmrs/gists{/gist_id}\",\"starred_url\":\"https://api.github.com/users/openmrs/starred{/owner}{/repo}\",\"subscriptions_url\":\"https://api.github.com/users/openmrs/subscriptions\",\"organizations_url\":\"https://api.github.com/users/openmrs/orgs\",\"repos_url\":\"https://api.github.com/users/openmrs/repos\",\"events_url\":\"https://api.github.com/users/openmrs/events{/privacy}\",\"received_events_url\":\"https://api.github.com/users/openmrs/received_events\",\"type\":\"Organization\",\"site_admin\":false},\"repo\":{\"id\":131843847,\"node_id\":\"MDEwOlJlcG9zaXRvcnkxMzE4NDM4NDc=\",\"name\":\"openmrs-ocl-client\",\"full_name\":\"openmrs/openmrs-ocl-client\",\"private\":false,\"owner\":{\"login\":\"openmrs\",\"id\":860776,\"node_id\":\"MDEyOk9yZ2FuaXphdGlvbjg2MDc3Ng==\",\"avatar_url\":\"https://avatars3.githubusercontent.com/u/860776?v=4\",\"gravatar_id\":\"\",\"url\":\"https://api.github.com/users/openmrs\",\"html_url\":\"https://github.com/openmrs\",\"followers_url\":\"https://api.github.com/users/openmrs/followers\",\"following_url\":\"https://api.github.com/users/openmrs/following{/other_user}\",\"gists_url\":\"https://api.github.com/users/openmrs/gists{/gist_id}\",\"starred_url\":\"https://api.github.com/users/openmrs/starred{/owner}{/repo}\",\"subscriptions_url\":\"https://api.github.com/users/openmrs/subscriptions\",\"organizations_url\":\"https://api.github.com/users/openmrs/orgs\",\"repos_url\":\"https://api.github.com/users/openmrs/repos\",\"events_url\":\"https://api.github.com/users/openmrs/events{/privacy}\",\"received_events_url\":\"https://api.github.com/users/openmrs/received_events\",\"type\":\"Organization\",\"site_admin\":false},\"html_url\":\"https://github.com/openmrs/openmrs-ocl-client\",\"description\":\"OCL client for OpenMRS\",\"fork\":false,\"url\":\"https://api.github.com/repos/openmrs/openmrs-ocl-client\",\"forks_url\":\"https://api.github.com/repos/openmrs/openmrs-ocl-client/forks\",\"keys_url\":\"https://api.github.com/repos/openmrs/openmrs-ocl-client/keys{/key_id}\",\"collaborators_url\":\"https://api.github.com/repos/openmrs/openmrs-ocl-client/collaborators{/collaborator}\",\"teams_url\":\"https://api.github.com/repos/openmrs/openmrs-ocl-client/teams\",\"hooks_url\":\"https://api.github.com/repos/openmrs/openmrs-ocl-client/hooks\",\"issue_events_url\":\"https://api.github.com/repos/openmrs/openmrs-ocl-client/issues/events{/number}\",\"events_url\":\"https://api.github.com/repos/openmrs/openmrs-ocl-client/events\",\"assignees_url\":\"https://api.github.com/repos/openmrs/openmrs-ocl-client/assignees{/user}\",\"branches_url\":\"https://api.github.com/repos/openmrs/openmrs-ocl-client/branches{/branch}\",\"tags_url\":\"https://api.github.com/repos/openmrs/openmrs-ocl-client/tags\",\"blobs_url\":\"https://api.github.com/repos/openmrs/openmrs-ocl-client/git/blobs{/sha}\",\"git_tags_url\":\"https://api.github.com/repos/openmrs/openmrs-ocl-client/git/tags{/sha}\",\"git_refs_url\":\"https://api.github.com/repos/openmrs/openmrs-ocl-client/git/refs{/sha}\",\"trees_url\":\"https://api.github.com/repos/openmrs/openmrs-ocl-client/git/trees{/sha}\",\"statuses_url\":\"https://api.github.com/repos/openmrs/openmrs-ocl-client/statuses/{sha}\",\"languages_url\":\"https://api.github.com/repos/openmrs/openmrs-ocl-client/languages\",\"stargazers_url\":\"https://api.github.com/repos/openmrs/openmrs-ocl-client/stargazers\",\"contributors_url\":\"https://api.github.com/repos/openmrs/openmrs-ocl-client/contributors\",\"subscribers_url\":\"https://api.github.com/repos/openmrs/openmrs-ocl-client/subscribers\",\"subscription_url\":\"https://api.github.com/repos/openmrs/openmrs-ocl-client/subscription\",\"commits_url\":\"https://api.github.com/repos/openmrs/openmrs-ocl-client/commits{/sha}\",\"git_commits_url\":\"https://api.github.com/repos/openmrs/openmrs-ocl-client/git/commits{/sha}\",\"comments_url\":\"https://api.github.com/repos/openmrs/openmrs-ocl-client/comments{/number}\",\"issue_comment_url\":\"https://api.github.com/repos/openmrs/openmrs-ocl-client/issues/comments{/number}\",\"contents_url\":\"https://api.github.com/repos/openmrs/openmrs-ocl-client/contents/{+path}\",\"compare_url\":\"https://api.github.com/repos/openmrs/openmrs-ocl-client/compare/{base}...{head}\",\"merges_url\":\"https://api.github.com/repos/openmrs/openmrs-ocl-client/merges\",\"archive_url\":\"https://api.github.com/repos/openmrs/openmrs-ocl-client/{archive_format}{/ref}\",\"downloads_url\":\"https://api.github.com/repos/openmrs/openmrs-ocl-client/downloads\",\"issues_url\":\"https://api.github.com/repos/openmrs/openmrs-ocl-client/issues{/number}\",\"pulls_url\":\"https://api.github.com/repos/openmrs/openmrs-ocl-client/pulls{/number}\",\"milestones_url\":\"https://api.github.com/repos/openmrs/openmrs-ocl-client/milestones{/number}\",\"notifications_url\":\"https://api.github.com/repos/openmrs/openmrs-ocl-client/notifications{?since,all,participating}\",\"labels_url\":\"https://api.github.com/repos/openmrs/openmrs-ocl-client/labels{/name}\",\"releases_url\":\"https://api.github.com/repos/openmrs/openmrs-ocl-client/releases{/id}\",\"deployments_url\":\"https://api.github.com/repos/openmrs/openmrs-ocl-client/deployments\",\"created_at\":\"2018-05-02T11:55:22Z\",\"updated_at\":\"2019-06-23T19:40:45Z\",\"pushed_at\":\"2019-06-23T19:40:42Z\",\"git_url\":\"git://github.com/openmrs/openmrs-ocl-client.git\",\"ssh_url\":\"git@github.com:openmrs/openmrs-ocl-client.git\",\"clone_url\":\"https://github.com/openmrs/openmrs-ocl-client.git\",\"svn_url\":\"https://github.com/openmrs/openmrs-ocl-client\",\"homepage\":null,\"size\":2323,\"stargazers_count\":7,\"watchers_count\":7,\"language\":\"JavaScript\",\"has_issues\":false,\"has_projects\":false,\"has_downloads\":true,\"has_wiki\":false,\"has_pages\":false,\"forks_count\":36,\"mirror_url\":null,\"archived\":false,\"disabled\":false,\"open_issues_count\":7,\"license\":null,\"forks\":36,\"open_issues\":7,\"watchers\":7,\"default_branch\":\"master\"}},\"_links\":{\"self\":{\"href\":\"https://api.github.com/repos/openmrs/openmrs-ocl-client/pulls/510\"},\"html\":{\"href\":\"https://github.com/openmrs/openmrs-ocl-client/pull/510\"},\"issue\":{\"href\":\"https://api.github.com/repos/openmrs/openmrs-ocl-client/issues/510\"},\"comments\":{\"href\":\"https://api.github.com/repos/openmrs/openmrs-ocl-client/issues/510/comments\"},\"review_comments\":{\"href\":\"https://api.github.com/repos/openmrs/openmrs-ocl-client/pulls/510/comments\"},\"review_comment\":{\"href\":\"https://api.github.com/repos/openmrs/openmrs-ocl-client/pulls/comments{/number}\"},\"commits\":{\"href\":\"https://api.github.com/repos/openmrs/openmrs-ocl-client/pulls/510/commits\"},\"statuses\":{\"href\":\"https://api.github.com/repos/openmrs/openmrs-ocl-client/statuses/9bba9088be4200672ba753cc5c4ed7a83fa0e282\"}},\"author_association\":\"CONTRIBUTOR\",\"merged\":false,\"mergeable\":null,\"rebaseable\":null,\"mergeable_state\":\"unknown\",\"merged_by\":null,\"comments\":0,\"review_comments\":0,\"maintainer_can_modify\":true,\"commits\":1,\"additions\":4,\"deletions\":3,\"changed_files\":1}},\"public\":true,\"created_at\":\"2019-06-24T07:01:31Z\",\"org\":{\"id\":860776,\"login\":\"openmrs\",\"gravatar_id\":\"\",\"url\":\"https://api.github.com/orgs/openmrs\",\"avatar_url\":\"https://avatars.githubusercontent.com/u/860776?\"}},{\"id\":\"9878234464\",\"type\":\"PullRequestReviewCommentEvent\",\"actor\":{\"id\":1748653,\"login\":\"no23reason\",\"display_login\":\"no23reason\",\"gravatar_id\":\"\",\"url\":\"https://api.github.com/users/no23reason\",\"avatar_url\":\"https://avatars.githubusercontent.com/u/1748653?\"},\"repo\":{\"id\":90664084,\"name\":\"gooddata/gooddata-react-components\",\"url\":\"https://api.github.com/repos/gooddata/gooddata-react-components\"},\"payload\":{\"action\":\"created\",\"comment\":{\"url\":\"https://api.github.com/repos/gooddata/gooddata-react-components/pulls/comments/296575666\",\"pull_request_review_id\":253228498,\"id\":296575666,\"node_id\":\"MDI0OlB1bGxSZXF1ZXN0UmV2aWV3Q29tbWVudDI5NjU3NTY2Ng==\",\"diff_hunk\":\"@@ -0,0 +1,338 @@\\\\n+// (C) 2007-2018 GoodData Corporation\\\\n+// tslint:disable:member-ordering\\\\n+import * as React from \\\\\"react\\\\\";\\\\n+import { SDK, factory as createSdk } from \\\\\"@gooddata/gooddata-js\\\\\";\\\\n+import { AFM, Execution, VisualizationObject, VisualizationInput } from \\\\\"@gooddata/typings\\\\\";\\\\n+\\\\n+import { setTelemetryHeaders } from \\\\\"../helpers/utils\\\\\";\\\\n+import { convertErrors } from \\\\\"../helpers/errorHandlers\\\\\";\\\\n+import { RuntimeError } from \\\\\"../errors/RuntimeError\\\\\";\\\\n+import { convertBucketsToAFM } from \\\\\"../helpers/conversion\\\\\";\\\\n+import { MEASURES, ATTRIBUTES } from \\\\\"../constants/bucketNames\\\\\";\\\\n+import { MEASUREGROUP } from \\\\\"../internal/constants/bucket\\\\\";\\\\n+\\\\n+type dimensionItem = VisualizationInput.AttributeOrMeasure | VisualizationInput.IAttribute;\\\\n+\\\\n+export const getExecutionFromDimensions = (\\\\n+    dimensions: dimensionItem[][],\\\\n+    filters: VisualizationInput.IFilter[],\\\\n+    sorts: VisualizationInput.ISort[],\\\\n+): AFM.IExecution => {\\\\n+    const measuresBucket: VisualizationObject.IBucket = {\\\\n+        localIdentifier: MEASURES,\\\\n+        items: [],\\\\n+    };\\\\n+    const attributesBucket: VisualizationObject.IBucket = {\\\\n+        localIdentifier: ATTRIBUTES,\\\\n+        items: [],\\\\n+    };\\\\n+\\\\n+    const resultSpec: AFM.IResultSpec = {\\\\n+        dimensions: [],\\\\n+        sorts,\\\\n+    };\\\\n+\\\\n+    let measureDimension: number | null = null;\\\\n+\\\\n+    dimensions.forEach((dimension, dimensionIndex) => {\\\\n+        const itemIdentifiers: string[] = [];\\\\n+        dimension.forEach(dimensionItem => {\\\\n+            if (VisualizationInput.isAttribute(dimensionItem)) {\\\\n+                itemIdentifiers.push(dimensionItem.visualizationAttribute.localIdentifier);\\\\n+                attributesBucket.items.push(dimensionItem);\\\\n+            } else if (VisualizationInput.isMeasure(dimensionItem)) {\\\\n+                const measureLocalIdentifier = dimensionItem.measure.localIdentifier;\\\\n+                if (measureDimension === null) {\\\\n+                    measureDimension = dimensionIndex;\\\\n+                    itemIdentifiers.push(MEASUREGROUP);\\\\n+                } else if (measureDimension !== dimensionIndex) {\\\\n+                    throw new RuntimeError(\\\\n+                        `All measures have to be on the same dimension. There are some measures already on dimension ${measureDimension} but measure ${measureLocalIdentifier} is on dimension ${dimensionIndex}.`,\\\\n+                    );\\\\n+                }\\\\n+                measuresBucket.items.push(dimensionItem);\\\\n+            }\\\\n+            resultSpec.dimensions.push({\\\\n+                itemIdentifiers,\\\\n+            });\\\\n+        });\\\\n+    });\\\\n+\\\\n+    const buckets: VisualizationObject.IBucket[] = [];\\\\n+    if (attributesBucket.items.length > 0) {\\\\n+        buckets.push(attributesBucket);\\\\n+    }\\\\n+    if (measuresBucket.items.length > 0) {\\\\n+        buckets.push(measuresBucket);\\\\n+    }\\\\n+    if (buckets.length === 0) {\\\\n+        throw new RuntimeError(\\\\\"No measures nor attributes defined\\\\\");\\\\n+    }\\\\n+\\\\n+    const afm = convertBucketsToAFM(buckets, filters);\\\\n+\\\\n+    return {\\\\n+        execution: {\\\\n+            afm,\\\\n+            resultSpec,\\\\n+        },\\\\n+    };\\\\n+};\\\\n+\\\\n+export interface IPaging {\\\\n+    offset: number[];\\\\n+    limit: number[];\\\\n+}\\\\n+\\\\n+export interface IBucketExecutorChildrenProps {\\\\n+    isLoading: boolean;\\\\n+    error: any;\\\\n+    result: Execution.IExecutionResult | null;\\\\n+    response: Execution.IExecutionResponse | null;\\\\n+    getPage: (paging: IPaging) => void;\\\\n+}\\\\n+\\\\n+export interface IBucketExecutorProps {\\\\n+    telemetryComponentName?: string;\\\\n+    autoLoadFirstPage?: boolean;\\\\n+    initialPaging?: IPaging;\\\\n+    sdk?: SDK;\\\\n+\\\\n+    children: (childrenProps: IBucketExecutorChildrenProps) => React.ReactNode;\\\\n+    dimensions: dimensionItem[][];\\\\n+    projectId: string;\\\\n+    filters?: VisualizationInput.IFilter[];\\\\n+    sortBy?: VisualizationInput.ISort[];\\\\n+}\\\\n+\\\\n+export interface IBucketExecutorState {\\\\n+    result: Execution.IExecutionResult | null;\\\\n+    response: Execution.IExecutionResponse | null;\\\\n+    isLoading: boolean;\\\\n+    error: any;\\\\n+    responsePromise: Promise<Execution.IExecutionResponse> | null;\\\\n+    resultPromise: Promise<Execution.IExecutionResult> | null;\\\\n+\\\\n+    children: IBucketExecutorProps[\\\\\"children\\\\\"];\\\\n+    dimensions: IBucketExecutorProps[\\\\\"dimensions\\\\\"];\\\\n+    projectId: IBucketExecutorProps[\\\\\"projectId\\\\\"];\\\\n+    filters: IBucketExecutorProps[\\\\\"filters\\\\\"];\\\\n+    sortBy: IBucketExecutorProps[\\\\\"sortBy\\\\\"];\\\\n+}\\\\n+\\\\n+export interface IBucketExecutorChildrenProps {\\\\n+    response: Execution.IExecutionResponse | null;\\\\n+    result: Execution.IExecutionResult | null;\\\\n+    isLoading: boolean;\\\\n+    error: any;\\\\n+    getPage: (paging: IPaging) => void;\\\\n+}\\\\n+\\\\n+const propsRequiringDataReset: Array<keyof IBucketExecutorProps> = [\\\\n+    \\\\\"projectId\\\\\",\\\\n+    \\\\\"dimensions\\\\\",\\\\n+    \\\\\"filters\\\\\",\\\\n+    \\\\\"sortBy\\\\\",\\\\n+];\\\\n+\\\\n+const didPropsChange = <V extends {}>(propList: string[], prevProps: V, props: V): boolean => {\\\\n+    for (const propName of propList) {\\\\n+        const prevProp = prevProps[propName];\\\\n+        const prop = props[propName];\\\\n+        if (prop !== prevProp) {\\\\n+            return true;\\\\n+        }\\\\n+    }\\\\n+    return false;\\\\n+};\\\\n+\\\\n+const setupSDK = (props: IBucketExecutorProps) => {\\\\n+    const clonedSdk = props.sdk ? props.sdk.clone() : createSdk();\\\\n+    setTelemetryHeaders(clonedSdk, props.telemetryComponentName, props);\\\\n+    return clonedSdk;\\\\n+};\\\\n+\\\\n+export class BucketExecutor extends React.Component<IBucketExecutorProps, IBucketExecutorState> {\\\\n+    public static defaultProps: Partial<IBucketExecutorProps> = {\\\\n+        sdk: createSdk(),\\\\n+        filters: [],\\\\n+        sortBy: [],\\\\n+        autoLoadFirstPage: true,\\\\n+        telemetryComponentName: \\\\\"BucketExecutor\\\\\",\\\\n+    };\\\\n+\\\\n+    public static getDerivedStateFromProps(nextProps: IBucketExecutorProps, prevState: IBucketExecutorState) {\\\\n+        const newState: Partial<IBucketExecutorState> = {};\\\\n+        const propsToUpdate = [...propsRequiringDataReset, \\\\\"children\\\\\"];\\\\n+        propsToUpdate.forEach(propName => {\\\\n+            if (nextProps[propName] !== prevState[propName]) {\\\\n+                newState[propName] = nextProps[propName];\\\\n+            }\\\\n+        });\\\\n+        if (Object.keys(newState).length === 0) {\\\\n+            return null;\\\\n+        }\\\\n+\\\\n+        newState.isLoading = nextProps.autoLoadFirstPage;\\\\n+        newState.response = null;\\\\n+        newState.responsePromise = null;\\\\n+        newState.result = null;\\\\n+        newState.resultPromise = null;\\\\n+\\\\n+        return newState;\\\\n+    }\\\\n+\\\\n+    public componentDidUpdate(prevProps: IBucketExecutorProps, prevState: IBucketExecutorState) {\\\\n+        if (this.props.sdk !== prevProps.sdk) {\\\\n+            // tslint:disable-next-line:no-console\\\\n+            console.warn(\\\\n+                \\\\\"Do not change the sdk prop once set. If you need to do this, force remount using the key attribute.\\\\\",\\\\n+            );\\\\n+        }\\\\n+        if (didPropsChange(propsRequiringDataReset, prevState, this.state) && this.props.autoLoadFirstPage) {\\\\n+            this.getResponse();\\\\n+        }\\\\n+    }\\\\n+\\\\n+    public state: IBucketExecutorState;\\\\n+\\\\n+    public hasUnmounted: boolean = false;\\\\n+\\\\n+    private sdk: SDK;\\\\n+\\\\n+    constructor(props: IBucketExecutorProps) {\\\\n+        super(props);\\\\n+        this.state = {\\\\n+            result: null,\\\\n+            response: null,\\\\n+            isLoading: props.autoLoadFirstPage,\\\\n+            error: null,\\\\n+            responsePromise: null,\\\\n+            resultPromise: null,\\\\n+            children: props.children,\\\\n+            projectId: props.projectId,\\\\n+            dimensions: props.dimensions,\\\\n+            filters: props.filters,\\\\n+            sortBy: props.sortBy,\\\\n+        };\\\\n+        this.sdk = setupSDK(props);\\\\n+\\\\n+        this.hasUnmounted = false;\\\\n+    }\\\\n+\\\\n+    public componentDidMount() {\\\\n+        if (this.props.autoLoadFirstPage) {\\\\n+            this.getResponse();\\\\n+        }\\\\n+    }\\\\n+\\\\n+    public componentWillUnmount() {\\\\n+        this.hasUnmounted = true;\\\\n+    }\\\\n+\\\\n+    public getPage = (paging: IPaging) => {\\\\n+        const { response } = this.state;\\\\n+        if (this.hasUnmounted) {\\\\n+            // tslint:disable-next-line:no-console\\\\n+            console.warn(\\\\\"You are calling a component that is already unmounted\\\\\");\\\\n+        }\\\\n+        if (!response) {\\\\n+            this.getResponse(true, paging);\\\\n+        } else {\\\\n+            this.getResult(response, paging);\\\\n+        }\\\\n+    };\\\\n+\\\\n+    public getResponse = (\\\\n+        triggerGetResult: boolean = this.props.autoLoadFirstPage,\\\\n+        resultPaging = this.getInitialPaging(),\\\\n+    ) => {\\\\n+        const { dimensions, filters, sortBy, projectId } = this.state;\\\\n+        const execution = getExecutionFromDimensions(dimensions, filters, sortBy);\\\\n+        const responsePromise = this.sdk.execution.getExecutionResponse(projectId, execution);\\\\n+        this.setState({\\\\n+            result: null,\\\\n+            response: null,\\\\n+            isLoading: true,\\\\n+            error: null,\\\\n+            responsePromise,\\\\n+        });\\\\n+        responsePromise.then(\",\"path\":\"src/execution/BucketExecutor.tsx\",\"position\":260,\"original_position\":260,\"commit_id\":\"6d89474e3a51286a287e5660da88ca94c5083fc6\",\"original_commit_id\":\"6d89474e3a51286a287e5660da88ca94c5083fc6\",\"user\":{\"login\":\"no23reason\",\"id\":1748653,\"node_id\":\"MDQ6VXNlcjE3NDg2NTM=\",\"avatar_url\":\"https://avatars2.githubusercontent.com/u/1748653?v=4\",\"gravatar_id\":\"\",\"url\":\"https://api.github.com/users/no23reason\",\"html_url\":\"https://github.com/no23reason\",\"followers_url\":\"https://api.github.com/users/no23reason/followers\",\"following_url\":\"https://api.github.com/users/no23reason/following{/other_user}\",\"gists_url\":\"https://api.github.com/users/no23reason/gists{/gist_id}\",\"starred_url\":\"https://api.github.com/users/no23reason/starred{/owner}{/repo}\",\"subscriptions_url\":\"https://api.github.com/users/no23reason/subscriptions\",\"organizations_url\":\"https://api.github.com/users/no23reason/orgs\",\"repos_url\":\"https://api.github.com/users/no23reason/repos\",\"events_url\":\"https://api.github.com/users/no23reason/events{/privacy}\",\"received_events_url\":\"https://api.github.com/users/no23reason/received_events\",\"type\":\"User\",\"site_admin\":false},\"body\":\"Question: Is there a reason you chose this instead of `responsePromise.then(response => ...).catch(error => ...)`. I\\'m not saying this is somehow wrong, just that we don\\'t use it much.\",\"created_at\":\"2019-06-24T07:01:31Z\",\"updated_at\":\"2019-06-24T07:01:31Z\",\"html_url\":\"https://github.com/gooddata/gooddata-react-components/pull/1057#discussion_r296575666\",\"pull_request_url\":\"https://api.github.com/repos/gooddata/gooddata-react-components/pulls/1057\",\"author_association\":\"CONTRIBUTOR\",\"_links\":{\"self\":{\"href\":\"https://api.github.com/repos/gooddata/gooddata-react-components/pulls/comments/296575666\"},\"html\":{\"href\":\"https://github.com/gooddata/gooddata-react-components/pull/1057#discussion_r296575666\"},\"pull_request\":{\"href\":\"https://api.github.com/repos/gooddata/gooddata-react-components/pulls/1057\"}}},\"pull_request\":{\"url\":\"https://api.github.com/repos/gooddata/gooddata-react-components/pulls/1057\",\"id\":290634087,\"node_id\":\"MDExOlB1bGxSZXF1ZXN0MjkwNjM0MDg3\",\"html_url\":\"https://github.com/gooddata/gooddata-react-components/pull/1057\",\"diff_url\":\"https://github.com/gooddata/gooddata-react-components/pull/1057.diff\",\"patch_url\":\"https://github.com/gooddata/gooddata-react-components/pull/1057.patch\",\"issue_url\":\"https://api.github.com/repos/gooddata/gooddata-react-components/issues/1057\",\"number\":1057,\"state\":\"open\",\"locked\":false,\"title\":\"FEATURE: RAIL-1634 create a bucket executor component for react components\",\"user\":{\"login\":\"tomasreichmann\",\"id\":10447001,\"node_id\":\"MDQ6VXNlcjEwNDQ3MDAx\",\"avatar_url\":\"https://avatars0.githubusercontent.com/u/10447001?v=4\",\"gravatar_id\":\"\",\"url\":\"https://api.github.com/users/tomasreichmann\",\"html_url\":\"https://github.com/tomasreichmann\",\"followers_url\":\"https://api.github.com/users/tomasreichmann/followers\",\"following_url\":\"https://api.github.com/users/tomasreichmann/following{/other_user}\",\"gists_url\":\"https://api.github.com/users/tomasreichmann/gists{/gist_id}\",\"starred_url\":\"https://api.github.com/users/tomasreichmann/starred{/owner}{/repo}\",\"subscriptions_url\":\"https://api.github.com/users/tomasreichmann/subscriptions\",\"organizations_url\":\"https://api.github.com/users/tomasreichmann/orgs\",\"repos_url\":\"https://api.github.com/users/tomasreichmann/repos\",\"events_url\":\"https://api.github.com/users/tomasreichmann/events{/privacy}\",\"received_events_url\":\"https://api.github.com/users/tomasreichmann/received_events\",\"type\":\"User\",\"site_admin\":false},\"body\":\"<!--\\\\r\\\\n\\\\r\\\\nDescription of changes (if multi-commit, short global summary & context;\\\\r\\\\nif single-commit, feel free to leave empty).\\\\r\\\\n\\\\r\\\\n-->\\\\r\\\\n\\\\r\\\\n---\\\\r\\\\n\\\\r\\\\n[Check PR owner responsibilities](https://confluence.intgdc.com/display/Development/Code-reviews#Code-reviews-Ownerresponsibilities)\\\\r\\\\n\\\\r\\\\nSupported PR commands:\\\\r\\\\n\\\\r\\\\nCommand | Description\\\\r\\\\n--- | ---\\\\r\\\\n`extended test - examples` | Live examples tests\\\\r\\\\n`extended test - storybook` | Storybook screenshot tests\\\\r\\\\n\\\\r\\\\nSee more [options](https://confluence.intgdc.com/display/kbhr/How+to+work+with+git+and+Github#HowtoworkwithgitandGithub-Extendedchecks).\\\\r\\\\n\\\\r\\\\n# PR Checklist\\\\r\\\\n\\\\r\\\\n- [ ] Verify code changes ([Checklist](https://confluence.intgdc.com/display/Development/Code-reviews+checklist), [Best practices](https://confluence.intgdc.com/display/Development/Code-reviews+best+practices))\\\\r\\\\n- [ ] [Verify pull-request formalities](https://confluence.intgdc.com/display/Development/Code-reviews)\\\\r\\\\n- [ ] Change was tested by using [gdc-dev-release](https://confluence.intgdc.com/display/~tomas.vojtasek/Private+NPM) in [gdc-analytical-designer](https://github.com/gooddata/gdc-analytical-designer) and [gdc-dashboards](https://github.com/gooddata/gdc-dashboards) (if applicable)\\\\r\\\\n- [ ] Migration guide (for major changes) is mentioned in [CHANGELOG.md](../blob/master/CHANGELOG.md).\\\\r\\\\n- [ ] Successful `extended test - examples`\\\\r\\\\n- [ ] Successful `extended test - storybook`\\\\r\\\\n- [ ] Checked yarn.lock consistency (no dep. duplicities especially Goodstrap)\\\\r\\\\n\\\\r\\\\n\\\\r\\\\n# Related PRs\\\\r\\\\n<!-- Mandatory \\\\r\\\\n\\\\r\\\\nExample:\\\\r\\\\n- gdc-analytical-designer: https://github.com/gooddata/gdc-analytical-designer/pull/2072\\\\r\\\\n\\\\r\\\\n-->\\\\r\\\\n\\\\r\\\\n- gdc-analytical-designer:\\\\r\\\\n- gdc-dashboards:\\\\r\\\\n\\\\r\\\\n# Related Jira tasks\\\\r\\\\n<!-- Optional\\\\r\\\\n\\\\r\\\\nExample:\\\\r\\\\n- FET-236: https://jira.intgdc.com/browse/FET-236\\\\r\\\\n\\\\r\\\\n -->\\\\r\\\\n\",\"created_at\":\"2019-06-21T14:38:39Z\",\"updated_at\":\"2019-06-24T07:01:31Z\",\"closed_at\":null,\"merged_at\":null,\"merge_commit_sha\":\"52748f0d89417218ceca80eb3c582b9df9ace8b5\",\"assignee\":null,\"assignees\":[],\"requested_reviewers\":[{\"login\":\"xMort\",\"id\":1880148,\"node_id\":\"MDQ6VXNlcjE4ODAxNDg=\",\"avatar_url\":\"https://avatars0.githubusercontent.com/u/1880148?v=4\",\"gravatar_id\":\"\",\"url\":\"https://api.github.com/users/xMort\",\"html_url\":\"https://github.com/xMort\",\"followers_url\":\"https://api.github.com/users/xMort/followers\",\"following_url\":\"https://api.github.com/users/xMort/following{/other_user}\",\"gists_url\":\"https://api.github.com/users/xMort/gists{/gist_id}\",\"starred_url\":\"https://api.github.com/users/xMort/starred{/owner}{/repo}\",\"subscriptions_url\":\"https://api.github.com/users/xMort/subscriptions\",\"organizations_url\":\"https://api.github.com/users/xMort/orgs\",\"repos_url\":\"https://api.github.com/users/xMort/repos\",\"events_url\":\"https://api.github.com/users/xMort/events{/privacy}\",\"received_events_url\":\"https://api.github.com/users/xMort/received_events\",\"type\":\"User\",\"site_admin\":false},{\"login\":\"ivan-nejezchleb\",\"id\":25586584,\"node_id\":\"MDQ6VXNlcjI1NTg2NTg0\",\"avatar_url\":\"https://avatars0.githubusercontent.com/u/25586584?v=4\",\"gravatar_id\":\"\",\"url\":\"https://api.github.com/users/ivan-nejezchleb\",\"html_url\":\"https://github.com/ivan-nejezchleb\",\"followers_url\":\"https://api.github.com/users/ivan-nejezchleb/followers\",\"following_url\":\"https://api.github.com/users/ivan-nejezchleb/following{/other_user}\",\"gists_url\":\"https://api.github.com/users/ivan-nejezchleb/gists{/gist_id}\",\"starred_url\":\"https://api.github.com/users/ivan-nejezchleb/starred{/owner}{/repo}\",\"subscriptions_url\":\"https://api.github.com/users/ivan-nejezchleb/subscriptions\",\"organizations_url\":\"https://api.github.com/users/ivan-nejezchleb/orgs\",\"repos_url\":\"https://api.github.com/users/ivan-nejezchleb/repos\",\"events_url\":\"https://api.github.com/users/ivan-nejezchleb/events{/privacy}\",\"received_events_url\":\"https://api.github.com/users/ivan-nejezchleb/received_events\",\"type\":\"User\",\"site_admin\":false}],\"requested_teams\":[],\"labels\":[{\"id\":1215452848,\"node_id\":\"MDU6TGFiZWwxMjE1NDUyODQ4\",\"url\":\"https://api.github.com/repos/gooddata/gooddata-react-components/labels/ready%20to%20review\",\"name\":\"ready to review\",\"color\":\"d5dd7a\",\"default\":false}],\"milestone\":null,\"commits_url\":\"https://api.github.com/repos/gooddata/gooddata-react-components/pulls/1057/commits\",\"review_comments_url\":\"https://api.github.com/repos/gooddata/gooddata-react-components/pulls/1057/comments\",\"review_comment_url\":\"https://api.github.com/repos/gooddata/gooddata-react-components/pulls/comments{/number}\",\"comments_url\":\"https://api.github.com/repos/gooddata/gooddata-react-components/issues/1057/comments\",\"statuses_url\":\"https://api.github.com/repos/gooddata/gooddata-react-components/statuses/6d89474e3a51286a287e5660da88ca94c5083fc6\",\"head\":{\"label\":\"tomasreichmann:TRE-TRE-1634-Create-a-BucketExecutor-component-for-React-Components\",\"ref\":\"TRE-TRE-1634-Create-a-BucketExecutor-component-for-React-Components\",\"sha\":\"6d89474e3a51286a287e5660da88ca94c5083fc6\",\"user\":{\"login\":\"tomasreichmann\",\"id\":10447001,\"node_id\":\"MDQ6VXNlcjEwNDQ3MDAx\",\"avatar_url\":\"https://avatars0.githubusercontent.com/u/10447001?v=4\",\"gravatar_id\":\"\",\"url\":\"https://api.github.com/users/tomasreichmann\",\"html_url\":\"https://github.com/tomasreichmann\",\"followers_url\":\"https://api.github.com/users/tomasreichmann/followers\",\"following_url\":\"https://api.github.com/users/tomasreichmann/following{/other_user}\",\"gists_url\":\"https://api.github.com/users/tomasreichmann/gists{/gist_id}\",\"starred_url\":\"https://api.github.com/users/tomasreichmann/starred{/owner}{/repo}\",\"subscriptions_url\":\"https://api.github.com/users/tomasreichmann/subscriptions\",\"organizations_url\":\"https://api.github.com/users/tomasreichmann/orgs\",\"repos_url\":\"https://api.github.com/users/tomasreichmann/repos\",\"events_url\":\"https://api.github.com/users/tomasreichmann/events{/privacy}\",\"received_events_url\":\"https://api.github.com/users/tomasreichmann/received_events\",\"type\":\"User\",\"site_admin\":false},\"repo\":{\"id\":106403066,\"node_id\":\"MDEwOlJlcG9zaXRvcnkxMDY0MDMwNjY=\",\"name\":\"gooddata-react-components\",\"full_name\":\"tomasreichmann/gooddata-react-components\",\"private\":false,\"owner\":{\"login\":\"tomasreichmann\",\"id\":10447001,\"node_id\":\"MDQ6VXNlcjEwNDQ3MDAx\",\"avatar_url\":\"https://avatars0.githubusercontent.com/u/10447001?v=4\",\"gravatar_id\":\"\",\"url\":\"https://api.github.com/users/tomasreichmann\",\"html_url\":\"https://github.com/tomasreichmann\",\"followers_url\":\"https://api.github.com/users/tomasreichmann/followers\",\"following_url\":\"https://api.github.com/users/tomasreichmann/following{/other_user}\",\"gists_url\":\"https://api.github.com/users/tomasreichmann/gists{/gist_id}\",\"starred_url\":\"https://api.github.com/users/tomasreichmann/starred{/owner}{/repo}\",\"subscriptions_url\":\"https://api.github.com/users/tomasreichmann/subscriptions\",\"organizations_url\":\"https://api.github.com/users/tomasreichmann/orgs\",\"repos_url\":\"https://api.github.com/users/tomasreichmann/repos\",\"events_url\":\"https://api.github.com/users/tomasreichmann/events{/privacy}\",\"received_events_url\":\"https://api.github.com/users/tomasreichmann/received_events\",\"type\":\"User\",\"site_admin\":false},\"html_url\":\"https://github.com/tomasreichmann/gooddata-react-components\",\"description\":\"GoodData React Components\",\"fork\":true,\"url\":\"https://api.github.com/repos/tomasreichmann/gooddata-react-components\",\"forks_url\":\"https://api.github.com/repos/tomasreichmann/gooddata-react-components/forks\",\"keys_url\":\"https://api.github.com/repos/tomasreichmann/gooddata-react-components/keys{/key_id}\",\"collaborators_url\":\"https://api.github.com/repos/tomasreichmann/gooddata-react-components/collaborators{/collaborator}\",\"teams_url\":\"https://api.github.com/repos/tomasreichmann/gooddata-react-components/teams\",\"hooks_url\":\"https://api.github.com/repos/tomasreichmann/gooddata-react-components/hooks\",\"issue_events_url\":\"https://api.github.com/repos/tomasreichmann/gooddata-react-components/issues/events{/number}\",\"events_url\":\"https://api.github.com/repos/tomasreichmann/gooddata-react-components/events\",\"assignees_url\":\"https://api.github.com/repos/tomasreichmann/gooddata-react-components/assignees{/user}\",\"branches_url\":\"https://api.github.com/repos/tomasreichmann/gooddata-react-components/branches{/branch}\",\"tags_url\":\"https://api.github.com/repos/tomasreichmann/gooddata-react-components/tags\",\"blobs_url\":\"https://api.github.com/repos/tomasreichmann/gooddata-react-components/git/blobs{/sha}\",\"git_tags_url\":\"https://api.github.com/repos/tomasreichmann/gooddata-react-components/git/tags{/sha}\",\"git_refs_url\":\"https://api.github.com/repos/tomasreichmann/gooddata-react-components/git/refs{/sha}\",\"trees_url\":\"https://api.github.com/repos/tomasreichmann/gooddata-react-components/git/trees{/sha}\",\"statuses_url\":\"https://api.github.com/repos/tomasreichmann/gooddata-react-components/statuses/{sha}\",\"languages_url\":\"https://api.github.com/repos/tomasreichmann/gooddata-react-components/languages\",\"stargazers_url\":\"https://api.github.com/repos/tomasreichmann/gooddata-react-components/stargazers\",\"contributors_url\":\"https://api.github.com/repos/tomasreichmann/gooddata-react-components/contributors\",\"subscribers_url\":\"https://api.github.com/repos/tomasreichmann/gooddata-react-components/subscribers\",\"subscription_url\":\"https://api.github.com/repos/tomasreichmann/gooddata-react-components/subscription\",\"commits_url\":\"https://api.github.com/repos/tomasreichmann/gooddata-react-components/commits{/sha}\",\"git_commits_url\":\"https://api.github.com/repos/tomasreichmann/gooddata-react-components/git/commits{/sha}\",\"comments_url\":\"https://api.github.com/repos/tomasreichmann/gooddata-react-components/comments{/number}\",\"issue_comment_url\":\"https://api.github.com/repos/tomasreichmann/gooddata-react-components/issues/comments{/number}\",\"contents_url\":\"https://api.github.com/repos/tomasreichmann/gooddata-react-components/contents/{+path}\",\"compare_url\":\"https://api.github.com/repos/tomasreichmann/gooddata-react-components/compare/{base}...{head}\",\"merges_url\":\"https://api.github.com/repos/tomasreichmann/gooddata-react-components/merges\",\"archive_url\":\"https://api.github.com/repos/tomasreichmann/gooddata-react-components/{archive_format}{/ref}\",\"downloads_url\":\"https://api.github.com/repos/tomasreichmann/gooddata-react-components/downloads\",\"issues_url\":\"https://api.github.com/repos/tomasreichmann/gooddata-react-components/issues{/number}\",\"pulls_url\":\"https://api.github.com/repos/tomasreichmann/gooddata-react-components/pulls{/number}\",\"milestones_url\":\"https://api.github.com/repos/tomasreichmann/gooddata-react-components/milestones{/number}\",\"notifications_url\":\"https://api.github.com/repos/tomasreichmann/gooddata-react-components/notifications{?since,all,participating}\",\"labels_url\":\"https://api.github.com/repos/tomasreichmann/gooddata-react-components/labels{/name}\",\"releases_url\":\"https://api.github.com/repos/tomasreichmann/gooddata-react-components/releases{/id}\",\"deployments_url\":\"https://api.github.com/repos/tomasreichmann/gooddata-react-components/deployments\",\"created_at\":\"2017-10-10T10:33:06Z\",\"updated_at\":\"2017-10-10T10:33:08Z\",\"pushed_at\":\"2019-06-21T14:41:21Z\",\"git_url\":\"git://github.com/tomasreichmann/gooddata-react-components.git\",\"ssh_url\":\"git@github.com:tomasreichmann/gooddata-react-components.git\",\"clone_url\":\"https://github.com/tomasreichmann/gooddata-react-components.git\",\"svn_url\":\"https://github.com/tomasreichmann/gooddata-react-components\",\"homepage\":\"\",\"size\":62613,\"stargazers_count\":0,\"watchers_count\":0,\"language\":\"TypeScript\",\"has_issues\":false,\"has_projects\":true,\"has_downloads\":true,\"has_wiki\":true,\"has_pages\":false,\"forks_count\":0,\"mirror_url\":null,\"archived\":false,\"disabled\":false,\"open_issues_count\":0,\"license\":{\"key\":\"bsd-3-clause\",\"name\":\"BSD 3-Clause \\\\\"New\\\\\" or \\\\\"Revised\\\\\" License\",\"spdx_id\":\"BSD-3-Clause\",\"url\":\"https://api.github.com/licenses/bsd-3-clause\",\"node_id\":\"MDc6TGljZW5zZTU=\"},\"forks\":0,\"open_issues\":0,\"watchers\":0,\"default_branch\":\"master\"}},\"base\":{\"label\":\"gooddata:next-7.1.0\",\"ref\":\"next-7.1.0\",\"sha\":\"0ec2532e07967938d736007edcf1d0421c4b7b05\",\"user\":{\"login\":\"gooddata\",\"id\":291394,\"node_id\":\"MDEyOk9yZ2FuaXphdGlvbjI5MTM5NA==\",\"avatar_url\":\"https://avatars2.githubusercontent.com/u/291394?v=4\",\"gravatar_id\":\"\",\"url\":\"https://api.github.com/users/gooddata\",\"html_url\":\"https://github.com/gooddata\",\"followers_url\":\"https://api.github.com/users/gooddata/followers\",\"following_url\":\"https://api.github.com/users/gooddata/following{/other_user}\",\"gists_url\":\"https://api.github.com/users/gooddata/gists{/gist_id}\",\"starred_url\":\"https://api.github.com/users/gooddata/starred{/owner}{/repo}\",\"subscriptions_url\":\"https://api.github.com/users/gooddata/subscriptions\",\"organizations_url\":\"https://api.github.com/users/gooddata/orgs\",\"repos_url\":\"https://api.github.com/users/gooddata/repos\",\"events_url\":\"https://api.github.com/users/gooddata/events{/privacy}\",\"received_events_url\":\"https://api.github.com/users/gooddata/received_events\",\"type\":\"Organization\",\"site_admin\":false},\"repo\":{\"id\":90664084,\"node_id\":\"MDEwOlJlcG9zaXRvcnk5MDY2NDA4NA==\",\"name\":\"gooddata-react-components\",\"full_name\":\"gooddata/gooddata-react-components\",\"private\":false,\"owner\":{\"login\":\"gooddata\",\"id\":291394,\"node_id\":\"MDEyOk9yZ2FuaXphdGlvbjI5MTM5NA==\",\"avatar_url\":\"https://avatars2.githubusercontent.com/u/291394?v=4\",\"gravatar_id\":\"\",\"url\":\"https://api.github.com/users/gooddata\",\"html_url\":\"https://github.com/gooddata\",\"followers_url\":\"https://api.github.com/users/gooddata/followers\",\"following_url\":\"https://api.github.com/users/gooddata/following{/other_user}\",\"gists_url\":\"https://api.github.com/users/gooddata/gists{/gist_id}\",\"starred_url\":\"https://api.github.com/users/gooddata/starred{/owner}{/repo}\",\"subscriptions_url\":\"https://api.github.com/users/gooddata/subscriptions\",\"organizations_url\":\"https://api.github.com/users/gooddata/orgs\",\"repos_url\":\"https://api.github.com/users/gooddata/repos\",\"events_url\":\"https://api.github.com/users/gooddata/events{/privacy}\",\"received_events_url\":\"https://api.github.com/users/gooddata/received_events\",\"type\":\"Organization\",\"site_admin\":false},\"html_url\":\"https://github.com/gooddata/gooddata-react-components\",\"description\":\"GoodData React Components\",\"fork\":false,\"url\":\"https://api.github.com/repos/gooddata/gooddata-react-components\",\"forks_url\":\"https://api.github.com/repos/gooddata/gooddata-react-components/forks\",\"keys_url\":\"https://api.github.com/repos/gooddata/gooddata-react-components/keys{/key_id}\",\"collaborators_url\":\"https://api.github.com/repos/gooddata/gooddata-react-components/collaborators{/collaborator}\",\"teams_url\":\"https://api.github.com/repos/gooddata/gooddata-react-components/teams\",\"hooks_url\":\"https://api.github.com/repos/gooddata/gooddata-react-components/hooks\",\"issue_events_url\":\"https://api.github.com/repos/gooddata/gooddata-react-components/issues/events{/number}\",\"events_url\":\"https://api.github.com/repos/gooddata/gooddata-react-components/events\",\"assignees_url\":\"https://api.github.com/repos/gooddata/gooddata-react-components/assignees{/user}\",\"branches_url\":\"https://api.github.com/repos/gooddata/gooddata-react-components/branches{/branch}\",\"tags_url\":\"https://api.github.com/repos/gooddata/gooddata-react-components/tags\",\"blobs_url\":\"https://api.github.com/repos/gooddata/gooddata-react-components/git/blobs{/sha}\",\"git_tags_url\":\"https://api.github.com/repos/gooddata/gooddata-react-components/git/tags{/sha}\",\"git_refs_url\":\"https://api.github.com/repos/gooddata/gooddata-react-components/git/refs{/sha}\",\"trees_url\":\"https://api.github.com/repos/gooddata/gooddata-react-components/git/trees{/sha}\",\"statuses_url\":\"https://api.github.com/repos/gooddata/gooddata-react-components/statuses/{sha}\",\"languages_url\":\"https://api.github.com/repos/gooddata/gooddata-react-components/languages\",\"stargazers_url\":\"https://api.github.com/repos/gooddata/gooddata-react-components/stargazers\",\"contributors_url\":\"https://api.github.com/repos/gooddata/gooddata-react-components/contributors\",\"subscribers_url\":\"https://api.github.com/repos/gooddata/gooddata-react-components/subscribers\",\"subscription_url\":\"https://api.github.com/repos/gooddata/gooddata-react-components/subscription\",\"commits_url\":\"https://api.github.com/repos/gooddata/gooddata-react-components/commits{/sha}\",\"git_commits_url\":\"https://api.github.com/repos/gooddata/gooddata-react-components/git/commits{/sha}\",\"comments_url\":\"https://api.github.com/repos/gooddata/gooddata-react-components/comments{/number}\",\"issue_comment_url\":\"https://api.github.com/repos/gooddata/gooddata-react-components/issues/comments{/number}\",\"contents_url\":\"https://api.github.com/repos/gooddata/gooddata-react-components/contents/{+path}\",\"compare_url\":\"https://api.github.com/repos/gooddata/gooddata-react-components/compare/{base}...{head}\",\"merges_url\":\"https://api.github.com/repos/gooddata/gooddata-react-components/merges\",\"archive_url\":\"https://api.github.com/repos/gooddata/gooddata-react-components/{archive_format}{/ref}\",\"downloads_url\":\"https://api.github.com/repos/gooddata/gooddata-react-components/downloads\",\"issues_url\":\"https://api.github.com/repos/gooddata/gooddata-react-components/issues{/number}\",\"pulls_url\":\"https://api.github.com/repos/gooddata/gooddata-react-components/pulls{/number}\",\"milestones_url\":\"https://api.github.com/repos/gooddata/gooddata-react-components/milestones{/number}\",\"notifications_url\":\"https://api.github.com/repos/gooddata/gooddata-react-components/notifications{?since,all,participating}\",\"labels_url\":\"https://api.github.com/repos/gooddata/gooddata-react-components/labels{/name}\",\"releases_url\":\"https://api.github.com/repos/gooddata/gooddata-react-components/releases{/id}\",\"deployments_url\":\"https://api.github.com/repos/gooddata/gooddata-react-components/deployments\",\"created_at\":\"2017-05-08T19:18:42Z\",\"updated_at\":\"2019-06-20T13:26:36Z\",\"pushed_at\":\"2019-06-24T06:12:16Z\",\"git_url\":\"git://github.com/gooddata/gooddata-react-components.git\",\"ssh_url\":\"git@github.com:gooddata/gooddata-react-components.git\",\"clone_url\":\"https://github.com/gooddata/gooddata-react-components.git\",\"svn_url\":\"https://github.com/gooddata/gooddata-react-components\",\"homepage\":\"\",\"size\":62579,\"stargazers_count\":28,\"watchers_count\":28,\"language\":\"TypeScript\",\"has_issues\":true,\"has_projects\":true,\"has_downloads\":true,\"has_wiki\":false,\"has_pages\":false,\"forks_count\":55,\"mirror_url\":null,\"archived\":false,\"disabled\":false,\"open_issues_count\":14,\"license\":{\"key\":\"other\",\"name\":\"Other\",\"spdx_id\":\"NOASSERTION\",\"url\":null,\"node_id\":\"MDc6TGljZW5zZTA=\"},\"forks\":55,\"open_issues\":14,\"watchers\":28,\"default_branch\":\"master\"}},\"_links\":{\"self\":{\"href\":\"https://api.github.com/repos/gooddata/gooddata-react-components/pulls/1057\"},\"html\":{\"href\":\"https://github.com/gooddata/gooddata-react-components/pull/1057\"},\"issue\":{\"href\":\"https://api.github.com/repos/gooddata/gooddata-react-components/issues/1057\"},\"comments\":{\"href\":\"https://api.github.com/repos/gooddata/gooddata-react-components/issues/1057/comments\"},\"review_comments\":{\"href\":\"https://api.github.com/repos/gooddata/gooddata-react-components/pulls/1057/comments\"},\"review_comment\":{\"href\":\"https://api.github.com/repos/gooddata/gooddata-react-components/pulls/comments{/number}\"},\"commits\":{\"href\":\"https://api.github.com/repos/gooddata/gooddata-react-components/pulls/1057/commits\"},\"statuses\":{\"href\":\"https://api.github.com/repos/gooddata/gooddata-react-components/statuses/6d89474e3a51286a287e5660da88ca94c5083fc6\"}},\"author_association\":\"CONTRIBUTOR\"}},\"public\":true,\"created_at\":\"2019-06-24T07:01:31Z\",\"org\":{\"id\":291394,\"login\":\"gooddata\",\"gravatar_id\":\"\",\"url\":\"https://api.github.com/orgs/gooddata\",\"avatar_url\":\"https://avatars.githubusercontent.com/u/291394?\"}},{\"id\":\"9878234466\",\"type\":\"CreateEvent\",\"actor\":{\"id\":27856297,\"login\":\"dependabot-preview[bot]\",\"display_login\":\"dependabot-preview\",\"gravatar_id\":\"\",\"url\":\"https://api.github.com/users/dependabot-preview[bot]\",\"avatar_url\":\"https://avatars.githubusercontent.com/u/27856297?\"},\"repo\":{\"id\":187669666,\"name\":\"satishbabariya/nodejs-boilerplate\",\"url\":\"https://api.github.com/repos/satishbabariya/nodejs-boilerplate\"},\"payload\":{\"ref\":\"dependabot/npm_and_yarn/@types/node-12.0.10\",\"ref_type\":\"branch\",\"master_branch\":\"master\",\"description\":\"Clean Architecture for node.js projects (Typescript + Express + TypeORM + Typedi)\",\"pusher_type\":\"user\"},\"public\":true,\"created_at\":\"2019-06-24T07:01:31Z\"}]'"
      ]
     },
     "execution_count": 46,
     "metadata": {},
     "output_type": "execute_result"
    }
   ],
   "source": [
    "r = requests.get('https://api.github.com/events')\n",
    "r.text"
   ]
  },
  {
   "cell_type": "markdown",
   "metadata": {},
   "source": [
    "HTTP POST request:"
   ]
  },
  {
   "cell_type": "code",
   "execution_count": 47,
   "metadata": {},
   "outputs": [
    {
     "data": {
      "text/plain": [
       "'{\\n  \"args\": {}, \\n  \"data\": \"\", \\n  \"files\": {}, \\n  \"form\": {\\n    \"key\": \"value\"\\n  }, \\n  \"headers\": {\\n    \"Accept\": \"*/*\", \\n    \"Accept-Encoding\": \"gzip, deflate\", \\n    \"Content-Length\": \"9\", \\n    \"Content-Type\": \"application/x-www-form-urlencoded\", \\n    \"Host\": \"httpbin.org\", \\n    \"User-Agent\": \"python-requests/2.21.0\"\\n  }, \\n  \"json\": null, \\n  \"origin\": \"106.222.241.12, 106.222.241.12\", \\n  \"url\": \"https://httpbin.org/post\"\\n}\\n'"
      ]
     },
     "execution_count": 47,
     "metadata": {},
     "output_type": "execute_result"
    }
   ],
   "source": [
    "r = requests.post('https://httpbin.org/post', data = {'key':'value'})\n",
    "r.text"
   ]
  },
  {
   "cell_type": "markdown",
   "metadata": {},
   "source": [
    "Other HTTP request types: PUT, DELETE, HEAD,OPTIONS"
   ]
  },
  {
   "cell_type": "code",
   "execution_count": 48,
   "metadata": {},
   "outputs": [
    {
     "data": {
      "text/plain": [
       "'{\\n  \"args\": {}, \\n  \"data\": \"\", \\n  \"files\": {}, \\n  \"form\": {\\n    \"key\": \"value\"\\n  }, \\n  \"headers\": {\\n    \"Accept\": \"*/*\", \\n    \"Accept-Encoding\": \"gzip, deflate\", \\n    \"Content-Length\": \"9\", \\n    \"Content-Type\": \"application/x-www-form-urlencoded\", \\n    \"Host\": \"httpbin.org\", \\n    \"User-Agent\": \"python-requests/2.21.0\"\\n  }, \\n  \"json\": null, \\n  \"origin\": \"106.222.241.12, 106.222.241.12\", \\n  \"url\": \"https://httpbin.org/put\"\\n}\\n'"
      ]
     },
     "execution_count": 48,
     "metadata": {},
     "output_type": "execute_result"
    }
   ],
   "source": [
    "r = requests.put('https://httpbin.org/put', data = {'key':'value'})\n",
    "r.text\n"
   ]
  },
  {
   "cell_type": "code",
   "execution_count": 49,
   "metadata": {},
   "outputs": [
    {
     "data": {
      "text/plain": [
       "'{\\n  \"args\": {}, \\n  \"data\": \"\", \\n  \"files\": {}, \\n  \"form\": {}, \\n  \"headers\": {\\n    \"Accept\": \"*/*\", \\n    \"Accept-Encoding\": \"gzip, deflate\", \\n    \"Host\": \"httpbin.org\", \\n    \"User-Agent\": \"python-requests/2.21.0\"\\n  }, \\n  \"json\": null, \\n  \"origin\": \"106.222.241.12, 106.222.241.12\", \\n  \"url\": \"https://httpbin.org/delete\"\\n}\\n'"
      ]
     },
     "execution_count": 49,
     "metadata": {},
     "output_type": "execute_result"
    }
   ],
   "source": [
    "r = requests.delete('https://httpbin.org/delete')\n",
    "r.text"
   ]
  },
  {
   "cell_type": "code",
   "execution_count": 50,
   "metadata": {},
   "outputs": [
    {
     "data": {
      "text/plain": [
       "''"
      ]
     },
     "execution_count": 50,
     "metadata": {},
     "output_type": "execute_result"
    }
   ],
   "source": [
    "r = requests.head('https://httpbin.org/get')\n",
    "r.text"
   ]
  },
  {
   "cell_type": "code",
   "execution_count": 51,
   "metadata": {},
   "outputs": [
    {
     "data": {
      "text/plain": [
       "''"
      ]
     },
     "execution_count": 51,
     "metadata": {},
     "output_type": "execute_result"
    }
   ],
   "source": [
    "r = requests.options('https://httpbin.org/get')\n",
    "r.text"
   ]
  },
  {
   "cell_type": "markdown",
   "metadata": {},
   "source": [
    "<h5>Passing Parameters In URLs</h5><br>We often want to send some sort of data in the URL’s query string. If we are constructing the URL by hand, this data would be given as key/value pairs in the URL after a question mark, e.g. httpbin.org/get?key=val. Requests allows us to provide these arguments as a dictionary of strings, using the params keyword argument."
   ]
  },
  {
   "cell_type": "code",
   "execution_count": 52,
   "metadata": {},
   "outputs": [
    {
     "name": "stdout",
     "output_type": "stream",
     "text": [
      "https://httpbin.org/get?key1=value1&key2=value2\n"
     ]
    }
   ],
   "source": [
    "payload = {'key1': 'value1', 'key2': 'value2'}\n",
    "r = requests.get('https://httpbin.org/get', params=payload)\n",
    "print(r.url)"
   ]
  },
  {
   "cell_type": "markdown",
   "metadata": {},
   "source": [
    "That any dictionary key whose value is null will not be added to the URL's query string and we can also pass a list of items as a value"
   ]
  },
  {
   "cell_type": "code",
   "execution_count": 53,
   "metadata": {},
   "outputs": [
    {
     "name": "stdout",
     "output_type": "stream",
     "text": [
      "https://httpbin.org/get?key1=value1&key2=value2&key2=value3\n"
     ]
    }
   ],
   "source": [
    "payload = {'key1': 'value1', 'key2': ['value2','value3'],'key3': None}\n",
    "r = requests.get('https://httpbin.org/get', params=payload)\n",
    "print(r.url)"
   ]
  },
  {
   "cell_type": "markdown",
   "metadata": {},
   "source": [
    "We can find out what encoding Requests is using, and change it, using the r.encoding property:"
   ]
  },
  {
   "cell_type": "code",
   "execution_count": 54,
   "metadata": {},
   "outputs": [
    {
     "name": "stdout",
     "output_type": "stream",
     "text": [
      "None\n",
      "ISO-8859-1\n"
     ]
    }
   ],
   "source": [
    "print(r.encoding)\n",
    "r.encoding = 'ISO-8859-1'\n",
    "print(r.encoding)"
   ]
  },
  {
   "cell_type": "markdown",
   "metadata": {},
   "source": [
    "<h5>Binary Response Content</h5>"
   ]
  },
  {
   "cell_type": "code",
   "execution_count": 55,
   "metadata": {},
   "outputs": [
    {
     "data": {
      "text/plain": [
       "b'{\\n  \"args\": {\\n    \"key1\": \"value1\", \\n    \"key2\": [\\n      \"value2\", \\n      \"value3\"\\n    ]\\n  }, \\n  \"headers\": {\\n    \"Accept\": \"*/*\", \\n    \"Accept-Encoding\": \"gzip, deflate\", \\n    \"Host\": \"httpbin.org\", \\n    \"User-Agent\": \"python-requests/2.21.0\"\\n  }, \\n  \"origin\": \"106.222.241.12, 106.222.241.12\", \\n  \"url\": \"https://httpbin.org/get?key1=value1&key2=value2&key2=value3\"\\n}\\n'"
      ]
     },
     "execution_count": 55,
     "metadata": {},
     "output_type": "execute_result"
    }
   ],
   "source": [
    "r.content"
   ]
  },
  {
   "cell_type": "markdown",
   "metadata": {},
   "source": [
    "<h5>JSON Response Content</h5>"
   ]
  },
  {
   "cell_type": "code",
   "execution_count": 56,
   "metadata": {},
   "outputs": [
    {
     "data": {
      "text/plain": [
       "[{'id': '9878243127',\n",
       "  'type': 'CreateEvent',\n",
       "  'actor': {'id': 27856297,\n",
       "   'login': 'dependabot-preview[bot]',\n",
       "   'display_login': 'dependabot-preview',\n",
       "   'gravatar_id': '',\n",
       "   'url': 'https://api.github.com/users/dependabot-preview[bot]',\n",
       "   'avatar_url': 'https://avatars.githubusercontent.com/u/27856297?'},\n",
       "  'repo': {'id': 183613479,\n",
       "   'name': 'emittr/emittr',\n",
       "   'url': 'https://api.github.com/repos/emittr/emittr'},\n",
       "  'payload': {'ref': 'dependabot/npm_and_yarn/tslint-5.18.0',\n",
       "   'ref_type': 'branch',\n",
       "   'master_branch': 'master',\n",
       "   'description': 'A framework agnostic way of building Event Dispatchers for TypeScript.',\n",
       "   'pusher_type': 'user'},\n",
       "  'public': True,\n",
       "  'created_at': '2019-06-24T07:03:09Z',\n",
       "  'org': {'id': 51016026,\n",
       "   'login': 'emittr',\n",
       "   'gravatar_id': '',\n",
       "   'url': 'https://api.github.com/orgs/emittr',\n",
       "   'avatar_url': 'https://avatars.githubusercontent.com/u/51016026?'}},\n",
       " {'id': '9878243124',\n",
       "  'type': 'CreateEvent',\n",
       "  'actor': {'id': 23121826,\n",
       "   'login': 'piotrekm7',\n",
       "   'display_login': 'piotrekm7',\n",
       "   'gravatar_id': '',\n",
       "   'url': 'https://api.github.com/users/piotrekm7',\n",
       "   'avatar_url': 'https://avatars.githubusercontent.com/u/23121826?'},\n",
       "  'repo': {'id': 193452202,\n",
       "   'name': 'piotrekm7/ObjectDetection',\n",
       "   'url': 'https://api.github.com/repos/piotrekm7/ObjectDetection'},\n",
       "  'payload': {'ref': 'master',\n",
       "   'ref_type': 'branch',\n",
       "   'master_branch': 'master',\n",
       "   'description': 'Object detection using Tensorflow',\n",
       "   'pusher_type': 'user'},\n",
       "  'public': True,\n",
       "  'created_at': '2019-06-24T07:03:09Z'},\n",
       " {'id': '9878243117',\n",
       "  'type': 'PushEvent',\n",
       "  'actor': {'id': 47909422,\n",
       "   'login': 'weioffice',\n",
       "   'display_login': 'weioffice',\n",
       "   'gravatar_id': '',\n",
       "   'url': 'https://api.github.com/users/weioffice',\n",
       "   'avatar_url': 'https://avatars.githubusercontent.com/u/47909422?'},\n",
       "  'repo': {'id': 188172099,\n",
       "   'name': 'weioffice/weioffice.github.io',\n",
       "   'url': 'https://api.github.com/repos/weioffice/weioffice.github.io'},\n",
       "  'payload': {'push_id': 3745061313,\n",
       "   'size': 1,\n",
       "   'distinct_size': 1,\n",
       "   'ref': 'refs/heads/master',\n",
       "   'head': 'a57fe1a38ae87fc9eadc825a55b8ae7ec6c3ac85',\n",
       "   'before': 'c8545f314d14e265d1e7c894920714524caed53d',\n",
       "   'commits': [{'sha': 'a57fe1a38ae87fc9eadc825a55b8ae7ec6c3ac85',\n",
       "     'author': {'email': 'fattyboobootw@gmail.com', 'name': 'CHIA-WEI Liu'},\n",
       "     'message': 'Del img_1 again',\n",
       "     'distinct': True,\n",
       "     'url': 'https://api.github.com/repos/weioffice/weioffice.github.io/commits/a57fe1a38ae87fc9eadc825a55b8ae7ec6c3ac85'}]},\n",
       "  'public': True,\n",
       "  'created_at': '2019-06-24T07:03:09Z'},\n",
       " {'id': '9878243121',\n",
       "  'type': 'CreateEvent',\n",
       "  'actor': {'id': 12092354,\n",
       "   'login': 'daraghmartin',\n",
       "   'display_login': 'daraghmartin',\n",
       "   'gravatar_id': '',\n",
       "   'url': 'https://api.github.com/users/daraghmartin',\n",
       "   'avatar_url': 'https://avatars.githubusercontent.com/u/12092354?'},\n",
       "  'repo': {'id': 193452204,\n",
       "   'name': 'machackathon/HackAppFrontEnd',\n",
       "   'url': 'https://api.github.com/repos/machackathon/HackAppFrontEnd'},\n",
       "  'payload': {'ref': None,\n",
       "   'ref_type': 'repository',\n",
       "   'master_branch': 'master',\n",
       "   'description': 'HackAppFrontEnd',\n",
       "   'pusher_type': 'user'},\n",
       "  'public': True,\n",
       "  'created_at': '2019-06-24T07:03:09Z',\n",
       "  'org': {'id': 52151871,\n",
       "   'login': 'machackathon',\n",
       "   'gravatar_id': '',\n",
       "   'url': 'https://api.github.com/orgs/machackathon',\n",
       "   'avatar_url': 'https://avatars.githubusercontent.com/u/52151871?'}},\n",
       " {'id': '9878243116',\n",
       "  'type': 'PushEvent',\n",
       "  'actor': {'id': 22076611,\n",
       "   'login': 'fahmontechcom',\n",
       "   'display_login': 'fahmontechcom',\n",
       "   'gravatar_id': '',\n",
       "   'url': 'https://api.github.com/users/fahmontechcom',\n",
       "   'avatar_url': 'https://avatars.githubusercontent.com/u/22076611?'},\n",
       "  'repo': {'id': 171849824,\n",
       "   'name': 'revelsoft/erp_bnp',\n",
       "   'url': 'https://api.github.com/repos/revelsoft/erp_bnp'},\n",
       "  'payload': {'push_id': 3745061311,\n",
       "   'size': 2,\n",
       "   'distinct_size': 2,\n",
       "   'ref': 'refs/heads/master',\n",
       "   'head': '537550d5b0919821ef6c1a44480af524703a1c22',\n",
       "   'before': '03e4283dcd86fa872f0c8d73b0864b347dee15cf',\n",
       "   'commits': [{'sha': 'fefde91cb794f306e2bdf886aea1706d851d0d16',\n",
       "     'author': {'email': 'fahmontechcom@gmail.com', 'name': 'ปัญญา ยอดกระโทก'},\n",
       "     'message': 'updata before big farmer',\n",
       "     'distinct': True,\n",
       "     'url': 'https://api.github.com/repos/revelsoft/erp_bnp/commits/fefde91cb794f306e2bdf886aea1706d851d0d16'},\n",
       "    {'sha': '537550d5b0919821ef6c1a44480af524703a1c22',\n",
       "     'author': {'email': 'fahmontechcom@gmail.com', 'name': 'ปัญญา ยอดกระโทก'},\n",
       "     'message': \"Merge branch 'master' of https://github.com/revelsoft/erp_bnp\",\n",
       "     'distinct': True,\n",
       "     'url': 'https://api.github.com/repos/revelsoft/erp_bnp/commits/537550d5b0919821ef6c1a44480af524703a1c22'}]},\n",
       "  'public': True,\n",
       "  'created_at': '2019-06-24T07:03:09Z',\n",
       "  'org': {'id': 26947183,\n",
       "   'login': 'revelsoft',\n",
       "   'gravatar_id': '',\n",
       "   'url': 'https://api.github.com/orgs/revelsoft',\n",
       "   'avatar_url': 'https://avatars.githubusercontent.com/u/26947183?'}},\n",
       " {'id': '9878243119',\n",
       "  'type': 'PullRequestEvent',\n",
       "  'actor': {'id': 26457460,\n",
       "   'login': 'colombeen',\n",
       "   'display_login': 'colombeen',\n",
       "   'gravatar_id': '',\n",
       "   'url': 'https://api.github.com/users/colombeen',\n",
       "   'avatar_url': 'https://avatars.githubusercontent.com/u/26457460?'},\n",
       "  'repo': {'id': 184258913,\n",
       "   'name': 'colombeen/PasswordState-Management',\n",
       "   'url': 'https://api.github.com/repos/colombeen/PasswordState-Management'},\n",
       "  'payload': {'action': 'closed',\n",
       "   'number': 15,\n",
       "   'pull_request': {'url': 'https://api.github.com/repos/colombeen/PasswordState-Management/pulls/15',\n",
       "    'id': 290998282,\n",
       "    'node_id': 'MDExOlB1bGxSZXF1ZXN0MjkwOTk4Mjgy',\n",
       "    'html_url': 'https://github.com/colombeen/PasswordState-Management/pull/15',\n",
       "    'diff_url': 'https://github.com/colombeen/PasswordState-Management/pull/15.diff',\n",
       "    'patch_url': 'https://github.com/colombeen/PasswordState-Management/pull/15.patch',\n",
       "    'issue_url': 'https://api.github.com/repos/colombeen/PasswordState-Management/issues/15',\n",
       "    'number': 15,\n",
       "    'state': 'closed',\n",
       "    'locked': False,\n",
       "    'title': 'Update fork',\n",
       "    'user': {'login': 'colombeen',\n",
       "     'id': 26457460,\n",
       "     'node_id': 'MDQ6VXNlcjI2NDU3NDYw',\n",
       "     'avatar_url': 'https://avatars2.githubusercontent.com/u/26457460?v=4',\n",
       "     'gravatar_id': '',\n",
       "     'url': 'https://api.github.com/users/colombeen',\n",
       "     'html_url': 'https://github.com/colombeen',\n",
       "     'followers_url': 'https://api.github.com/users/colombeen/followers',\n",
       "     'following_url': 'https://api.github.com/users/colombeen/following{/other_user}',\n",
       "     'gists_url': 'https://api.github.com/users/colombeen/gists{/gist_id}',\n",
       "     'starred_url': 'https://api.github.com/users/colombeen/starred{/owner}{/repo}',\n",
       "     'subscriptions_url': 'https://api.github.com/users/colombeen/subscriptions',\n",
       "     'organizations_url': 'https://api.github.com/users/colombeen/orgs',\n",
       "     'repos_url': 'https://api.github.com/users/colombeen/repos',\n",
       "     'events_url': 'https://api.github.com/users/colombeen/events{/privacy}',\n",
       "     'received_events_url': 'https://api.github.com/users/colombeen/received_events',\n",
       "     'type': 'User',\n",
       "     'site_admin': False},\n",
       "    'body': '',\n",
       "    'created_at': '2019-06-24T07:03:02Z',\n",
       "    'updated_at': '2019-06-24T07:03:09Z',\n",
       "    'closed_at': '2019-06-24T07:03:09Z',\n",
       "    'merged_at': '2019-06-24T07:03:09Z',\n",
       "    'merge_commit_sha': 'f0194e90e0e18ad968a611a0d8653c4f2f33514f',\n",
       "    'assignee': None,\n",
       "    'assignees': [],\n",
       "    'requested_reviewers': [],\n",
       "    'requested_teams': [],\n",
       "    'labels': [],\n",
       "    'milestone': None,\n",
       "    'commits_url': 'https://api.github.com/repos/colombeen/PasswordState-Management/pulls/15/commits',\n",
       "    'review_comments_url': 'https://api.github.com/repos/colombeen/PasswordState-Management/pulls/15/comments',\n",
       "    'review_comment_url': 'https://api.github.com/repos/colombeen/PasswordState-Management/pulls/comments{/number}',\n",
       "    'comments_url': 'https://api.github.com/repos/colombeen/PasswordState-Management/issues/15/comments',\n",
       "    'statuses_url': 'https://api.github.com/repos/colombeen/PasswordState-Management/statuses/82c111ee2ae3cd11339efa8836bb30a79655aa81',\n",
       "    'head': {'label': 'dnewsholme:master',\n",
       "     'ref': 'master',\n",
       "     'sha': '82c111ee2ae3cd11339efa8836bb30a79655aa81',\n",
       "     'user': {'login': 'dnewsholme',\n",
       "      'id': 5154065,\n",
       "      'node_id': 'MDQ6VXNlcjUxNTQwNjU=',\n",
       "      'avatar_url': 'https://avatars3.githubusercontent.com/u/5154065?v=4',\n",
       "      'gravatar_id': '',\n",
       "      'url': 'https://api.github.com/users/dnewsholme',\n",
       "      'html_url': 'https://github.com/dnewsholme',\n",
       "      'followers_url': 'https://api.github.com/users/dnewsholme/followers',\n",
       "      'following_url': 'https://api.github.com/users/dnewsholme/following{/other_user}',\n",
       "      'gists_url': 'https://api.github.com/users/dnewsholme/gists{/gist_id}',\n",
       "      'starred_url': 'https://api.github.com/users/dnewsholme/starred{/owner}{/repo}',\n",
       "      'subscriptions_url': 'https://api.github.com/users/dnewsholme/subscriptions',\n",
       "      'organizations_url': 'https://api.github.com/users/dnewsholme/orgs',\n",
       "      'repos_url': 'https://api.github.com/users/dnewsholme/repos',\n",
       "      'events_url': 'https://api.github.com/users/dnewsholme/events{/privacy}',\n",
       "      'received_events_url': 'https://api.github.com/users/dnewsholme/received_events',\n",
       "      'type': 'User',\n",
       "      'site_admin': False},\n",
       "     'repo': {'id': 141129948,\n",
       "      'node_id': 'MDEwOlJlcG9zaXRvcnkxNDExMjk5NDg=',\n",
       "      'name': 'PasswordState-Management',\n",
       "      'full_name': 'dnewsholme/PasswordState-Management',\n",
       "      'private': False,\n",
       "      'owner': {'login': 'dnewsholme',\n",
       "       'id': 5154065,\n",
       "       'node_id': 'MDQ6VXNlcjUxNTQwNjU=',\n",
       "       'avatar_url': 'https://avatars3.githubusercontent.com/u/5154065?v=4',\n",
       "       'gravatar_id': '',\n",
       "       'url': 'https://api.github.com/users/dnewsholme',\n",
       "       'html_url': 'https://github.com/dnewsholme',\n",
       "       'followers_url': 'https://api.github.com/users/dnewsholme/followers',\n",
       "       'following_url': 'https://api.github.com/users/dnewsholme/following{/other_user}',\n",
       "       'gists_url': 'https://api.github.com/users/dnewsholme/gists{/gist_id}',\n",
       "       'starred_url': 'https://api.github.com/users/dnewsholme/starred{/owner}{/repo}',\n",
       "       'subscriptions_url': 'https://api.github.com/users/dnewsholme/subscriptions',\n",
       "       'organizations_url': 'https://api.github.com/users/dnewsholme/orgs',\n",
       "       'repos_url': 'https://api.github.com/users/dnewsholme/repos',\n",
       "       'events_url': 'https://api.github.com/users/dnewsholme/events{/privacy}',\n",
       "       'received_events_url': 'https://api.github.com/users/dnewsholme/received_events',\n",
       "       'type': 'User',\n",
       "       'site_admin': False},\n",
       "      'html_url': 'https://github.com/dnewsholme/PasswordState-Management',\n",
       "      'description': 'Powershell Module For Management of Passwordstate. (Powershell Core Compatible)',\n",
       "      'fork': False,\n",
       "      'url': 'https://api.github.com/repos/dnewsholme/PasswordState-Management',\n",
       "      'forks_url': 'https://api.github.com/repos/dnewsholme/PasswordState-Management/forks',\n",
       "      'keys_url': 'https://api.github.com/repos/dnewsholme/PasswordState-Management/keys{/key_id}',\n",
       "      'collaborators_url': 'https://api.github.com/repos/dnewsholme/PasswordState-Management/collaborators{/collaborator}',\n",
       "      'teams_url': 'https://api.github.com/repos/dnewsholme/PasswordState-Management/teams',\n",
       "      'hooks_url': 'https://api.github.com/repos/dnewsholme/PasswordState-Management/hooks',\n",
       "      'issue_events_url': 'https://api.github.com/repos/dnewsholme/PasswordState-Management/issues/events{/number}',\n",
       "      'events_url': 'https://api.github.com/repos/dnewsholme/PasswordState-Management/events',\n",
       "      'assignees_url': 'https://api.github.com/repos/dnewsholme/PasswordState-Management/assignees{/user}',\n",
       "      'branches_url': 'https://api.github.com/repos/dnewsholme/PasswordState-Management/branches{/branch}',\n",
       "      'tags_url': 'https://api.github.com/repos/dnewsholme/PasswordState-Management/tags',\n",
       "      'blobs_url': 'https://api.github.com/repos/dnewsholme/PasswordState-Management/git/blobs{/sha}',\n",
       "      'git_tags_url': 'https://api.github.com/repos/dnewsholme/PasswordState-Management/git/tags{/sha}',\n",
       "      'git_refs_url': 'https://api.github.com/repos/dnewsholme/PasswordState-Management/git/refs{/sha}',\n",
       "      'trees_url': 'https://api.github.com/repos/dnewsholme/PasswordState-Management/git/trees{/sha}',\n",
       "      'statuses_url': 'https://api.github.com/repos/dnewsholme/PasswordState-Management/statuses/{sha}',\n",
       "      'languages_url': 'https://api.github.com/repos/dnewsholme/PasswordState-Management/languages',\n",
       "      'stargazers_url': 'https://api.github.com/repos/dnewsholme/PasswordState-Management/stargazers',\n",
       "      'contributors_url': 'https://api.github.com/repos/dnewsholme/PasswordState-Management/contributors',\n",
       "      'subscribers_url': 'https://api.github.com/repos/dnewsholme/PasswordState-Management/subscribers',\n",
       "      'subscription_url': 'https://api.github.com/repos/dnewsholme/PasswordState-Management/subscription',\n",
       "      'commits_url': 'https://api.github.com/repos/dnewsholme/PasswordState-Management/commits{/sha}',\n",
       "      'git_commits_url': 'https://api.github.com/repos/dnewsholme/PasswordState-Management/git/commits{/sha}',\n",
       "      'comments_url': 'https://api.github.com/repos/dnewsholme/PasswordState-Management/comments{/number}',\n",
       "      'issue_comment_url': 'https://api.github.com/repos/dnewsholme/PasswordState-Management/issues/comments{/number}',\n",
       "      'contents_url': 'https://api.github.com/repos/dnewsholme/PasswordState-Management/contents/{+path}',\n",
       "      'compare_url': 'https://api.github.com/repos/dnewsholme/PasswordState-Management/compare/{base}...{head}',\n",
       "      'merges_url': 'https://api.github.com/repos/dnewsholme/PasswordState-Management/merges',\n",
       "      'archive_url': 'https://api.github.com/repos/dnewsholme/PasswordState-Management/{archive_format}{/ref}',\n",
       "      'downloads_url': 'https://api.github.com/repos/dnewsholme/PasswordState-Management/downloads',\n",
       "      'issues_url': 'https://api.github.com/repos/dnewsholme/PasswordState-Management/issues{/number}',\n",
       "      'pulls_url': 'https://api.github.com/repos/dnewsholme/PasswordState-Management/pulls{/number}',\n",
       "      'milestones_url': 'https://api.github.com/repos/dnewsholme/PasswordState-Management/milestones{/number}',\n",
       "      'notifications_url': 'https://api.github.com/repos/dnewsholme/PasswordState-Management/notifications{?since,all,participating}',\n",
       "      'labels_url': 'https://api.github.com/repos/dnewsholme/PasswordState-Management/labels{/name}',\n",
       "      'releases_url': 'https://api.github.com/repos/dnewsholme/PasswordState-Management/releases{/id}',\n",
       "      'deployments_url': 'https://api.github.com/repos/dnewsholme/PasswordState-Management/deployments',\n",
       "      'created_at': '2018-07-16T11:32:28Z',\n",
       "      'updated_at': '2019-06-21T14:16:43Z',\n",
       "      'pushed_at': '2019-06-21T14:16:41Z',\n",
       "      'git_url': 'git://github.com/dnewsholme/PasswordState-Management.git',\n",
       "      'ssh_url': 'git@github.com:dnewsholme/PasswordState-Management.git',\n",
       "      'clone_url': 'https://github.com/dnewsholme/PasswordState-Management.git',\n",
       "      'svn_url': 'https://github.com/dnewsholme/PasswordState-Management',\n",
       "      'homepage': '',\n",
       "      'size': 265,\n",
       "      'stargazers_count': 9,\n",
       "      'watchers_count': 9,\n",
       "      'language': 'PowerShell',\n",
       "      'has_issues': True,\n",
       "      'has_projects': True,\n",
       "      'has_downloads': True,\n",
       "      'has_wiki': True,\n",
       "      'has_pages': False,\n",
       "      'forks_count': 3,\n",
       "      'mirror_url': None,\n",
       "      'archived': False,\n",
       "      'disabled': False,\n",
       "      'open_issues_count': 1,\n",
       "      'license': {'key': 'gpl-3.0',\n",
       "       'name': 'GNU General Public License v3.0',\n",
       "       'spdx_id': 'GPL-3.0',\n",
       "       'url': 'https://api.github.com/licenses/gpl-3.0',\n",
       "       'node_id': 'MDc6TGljZW5zZTk='},\n",
       "      'forks': 3,\n",
       "      'open_issues': 1,\n",
       "      'watchers': 9,\n",
       "      'default_branch': 'master'}},\n",
       "    'base': {'label': 'colombeen:master',\n",
       "     'ref': 'master',\n",
       "     'sha': '1a5f44c920104746d39a6b5f0013ad81184a31d5',\n",
       "     'user': {'login': 'colombeen',\n",
       "      'id': 26457460,\n",
       "      'node_id': 'MDQ6VXNlcjI2NDU3NDYw',\n",
       "      'avatar_url': 'https://avatars2.githubusercontent.com/u/26457460?v=4',\n",
       "      'gravatar_id': '',\n",
       "      'url': 'https://api.github.com/users/colombeen',\n",
       "      'html_url': 'https://github.com/colombeen',\n",
       "      'followers_url': 'https://api.github.com/users/colombeen/followers',\n",
       "      'following_url': 'https://api.github.com/users/colombeen/following{/other_user}',\n",
       "      'gists_url': 'https://api.github.com/users/colombeen/gists{/gist_id}',\n",
       "      'starred_url': 'https://api.github.com/users/colombeen/starred{/owner}{/repo}',\n",
       "      'subscriptions_url': 'https://api.github.com/users/colombeen/subscriptions',\n",
       "      'organizations_url': 'https://api.github.com/users/colombeen/orgs',\n",
       "      'repos_url': 'https://api.github.com/users/colombeen/repos',\n",
       "      'events_url': 'https://api.github.com/users/colombeen/events{/privacy}',\n",
       "      'received_events_url': 'https://api.github.com/users/colombeen/received_events',\n",
       "      'type': 'User',\n",
       "      'site_admin': False},\n",
       "     'repo': {'id': 184258913,\n",
       "      'node_id': 'MDEwOlJlcG9zaXRvcnkxODQyNTg5MTM=',\n",
       "      'name': 'PasswordState-Management',\n",
       "      'full_name': 'colombeen/PasswordState-Management',\n",
       "      'private': False,\n",
       "      'owner': {'login': 'colombeen',\n",
       "       'id': 26457460,\n",
       "       'node_id': 'MDQ6VXNlcjI2NDU3NDYw',\n",
       "       'avatar_url': 'https://avatars2.githubusercontent.com/u/26457460?v=4',\n",
       "       'gravatar_id': '',\n",
       "       'url': 'https://api.github.com/users/colombeen',\n",
       "       'html_url': 'https://github.com/colombeen',\n",
       "       'followers_url': 'https://api.github.com/users/colombeen/followers',\n",
       "       'following_url': 'https://api.github.com/users/colombeen/following{/other_user}',\n",
       "       'gists_url': 'https://api.github.com/users/colombeen/gists{/gist_id}',\n",
       "       'starred_url': 'https://api.github.com/users/colombeen/starred{/owner}{/repo}',\n",
       "       'subscriptions_url': 'https://api.github.com/users/colombeen/subscriptions',\n",
       "       'organizations_url': 'https://api.github.com/users/colombeen/orgs',\n",
       "       'repos_url': 'https://api.github.com/users/colombeen/repos',\n",
       "       'events_url': 'https://api.github.com/users/colombeen/events{/privacy}',\n",
       "       'received_events_url': 'https://api.github.com/users/colombeen/received_events',\n",
       "       'type': 'User',\n",
       "       'site_admin': False},\n",
       "      'html_url': 'https://github.com/colombeen/PasswordState-Management',\n",
       "      'description': 'Management of Passwordstate',\n",
       "      'fork': True,\n",
       "      'url': 'https://api.github.com/repos/colombeen/PasswordState-Management',\n",
       "      'forks_url': 'https://api.github.com/repos/colombeen/PasswordState-Management/forks',\n",
       "      'keys_url': 'https://api.github.com/repos/colombeen/PasswordState-Management/keys{/key_id}',\n",
       "      'collaborators_url': 'https://api.github.com/repos/colombeen/PasswordState-Management/collaborators{/collaborator}',\n",
       "      'teams_url': 'https://api.github.com/repos/colombeen/PasswordState-Management/teams',\n",
       "      'hooks_url': 'https://api.github.com/repos/colombeen/PasswordState-Management/hooks',\n",
       "      'issue_events_url': 'https://api.github.com/repos/colombeen/PasswordState-Management/issues/events{/number}',\n",
       "      'events_url': 'https://api.github.com/repos/colombeen/PasswordState-Management/events',\n",
       "      'assignees_url': 'https://api.github.com/repos/colombeen/PasswordState-Management/assignees{/user}',\n",
       "      'branches_url': 'https://api.github.com/repos/colombeen/PasswordState-Management/branches{/branch}',\n",
       "      'tags_url': 'https://api.github.com/repos/colombeen/PasswordState-Management/tags',\n",
       "      'blobs_url': 'https://api.github.com/repos/colombeen/PasswordState-Management/git/blobs{/sha}',\n",
       "      'git_tags_url': 'https://api.github.com/repos/colombeen/PasswordState-Management/git/tags{/sha}',\n",
       "      'git_refs_url': 'https://api.github.com/repos/colombeen/PasswordState-Management/git/refs{/sha}',\n",
       "      'trees_url': 'https://api.github.com/repos/colombeen/PasswordState-Management/git/trees{/sha}',\n",
       "      'statuses_url': 'https://api.github.com/repos/colombeen/PasswordState-Management/statuses/{sha}',\n",
       "      'languages_url': 'https://api.github.com/repos/colombeen/PasswordState-Management/languages',\n",
       "      'stargazers_url': 'https://api.github.com/repos/colombeen/PasswordState-Management/stargazers',\n",
       "      'contributors_url': 'https://api.github.com/repos/colombeen/PasswordState-Management/contributors',\n",
       "      'subscribers_url': 'https://api.github.com/repos/colombeen/PasswordState-Management/subscribers',\n",
       "      'subscription_url': 'https://api.github.com/repos/colombeen/PasswordState-Management/subscription',\n",
       "      'commits_url': 'https://api.github.com/repos/colombeen/PasswordState-Management/commits{/sha}',\n",
       "      'git_commits_url': 'https://api.github.com/repos/colombeen/PasswordState-Management/git/commits{/sha}',\n",
       "      'comments_url': 'https://api.github.com/repos/colombeen/PasswordState-Management/comments{/number}',\n",
       "      'issue_comment_url': 'https://api.github.com/repos/colombeen/PasswordState-Management/issues/comments{/number}',\n",
       "      'contents_url': 'https://api.github.com/repos/colombeen/PasswordState-Management/contents/{+path}',\n",
       "      'compare_url': 'https://api.github.com/repos/colombeen/PasswordState-Management/compare/{base}...{head}',\n",
       "      'merges_url': 'https://api.github.com/repos/colombeen/PasswordState-Management/merges',\n",
       "      'archive_url': 'https://api.github.com/repos/colombeen/PasswordState-Management/{archive_format}{/ref}',\n",
       "      'downloads_url': 'https://api.github.com/repos/colombeen/PasswordState-Management/downloads',\n",
       "      'issues_url': 'https://api.github.com/repos/colombeen/PasswordState-Management/issues{/number}',\n",
       "      'pulls_url': 'https://api.github.com/repos/colombeen/PasswordState-Management/pulls{/number}',\n",
       "      'milestones_url': 'https://api.github.com/repos/colombeen/PasswordState-Management/milestones{/number}',\n",
       "      'notifications_url': 'https://api.github.com/repos/colombeen/PasswordState-Management/notifications{?since,all,participating}',\n",
       "      'labels_url': 'https://api.github.com/repos/colombeen/PasswordState-Management/labels{/name}',\n",
       "      'releases_url': 'https://api.github.com/repos/colombeen/PasswordState-Management/releases{/id}',\n",
       "      'deployments_url': 'https://api.github.com/repos/colombeen/PasswordState-Management/deployments',\n",
       "      'created_at': '2019-04-30T12:33:56Z',\n",
       "      'updated_at': '2019-06-21T09:05:38Z',\n",
       "      'pushed_at': '2019-06-24T07:03:09Z',\n",
       "      'git_url': 'git://github.com/colombeen/PasswordState-Management.git',\n",
       "      'ssh_url': 'git@github.com:colombeen/PasswordState-Management.git',\n",
       "      'clone_url': 'https://github.com/colombeen/PasswordState-Management.git',\n",
       "      'svn_url': 'https://github.com/colombeen/PasswordState-Management',\n",
       "      'homepage': None,\n",
       "      'size': 272,\n",
       "      'stargazers_count': 0,\n",
       "      'watchers_count': 0,\n",
       "      'language': 'PowerShell',\n",
       "      'has_issues': False,\n",
       "      'has_projects': True,\n",
       "      'has_downloads': True,\n",
       "      'has_wiki': True,\n",
       "      'has_pages': False,\n",
       "      'forks_count': 0,\n",
       "      'mirror_url': None,\n",
       "      'archived': False,\n",
       "      'disabled': False,\n",
       "      'open_issues_count': 0,\n",
       "      'license': {'key': 'gpl-3.0',\n",
       "       'name': 'GNU General Public License v3.0',\n",
       "       'spdx_id': 'GPL-3.0',\n",
       "       'url': 'https://api.github.com/licenses/gpl-3.0',\n",
       "       'node_id': 'MDc6TGljZW5zZTk='},\n",
       "      'forks': 0,\n",
       "      'open_issues': 0,\n",
       "      'watchers': 0,\n",
       "      'default_branch': 'master'}},\n",
       "    '_links': {'self': {'href': 'https://api.github.com/repos/colombeen/PasswordState-Management/pulls/15'},\n",
       "     'html': {'href': 'https://github.com/colombeen/PasswordState-Management/pull/15'},\n",
       "     'issue': {'href': 'https://api.github.com/repos/colombeen/PasswordState-Management/issues/15'},\n",
       "     'comments': {'href': 'https://api.github.com/repos/colombeen/PasswordState-Management/issues/15/comments'},\n",
       "     'review_comments': {'href': 'https://api.github.com/repos/colombeen/PasswordState-Management/pulls/15/comments'},\n",
       "     'review_comment': {'href': 'https://api.github.com/repos/colombeen/PasswordState-Management/pulls/comments{/number}'},\n",
       "     'commits': {'href': 'https://api.github.com/repos/colombeen/PasswordState-Management/pulls/15/commits'},\n",
       "     'statuses': {'href': 'https://api.github.com/repos/colombeen/PasswordState-Management/statuses/82c111ee2ae3cd11339efa8836bb30a79655aa81'}},\n",
       "    'author_association': 'OWNER',\n",
       "    'merged': True,\n",
       "    'mergeable': None,\n",
       "    'rebaseable': None,\n",
       "    'mergeable_state': 'unknown',\n",
       "    'merged_by': {'login': 'colombeen',\n",
       "     'id': 26457460,\n",
       "     'node_id': 'MDQ6VXNlcjI2NDU3NDYw',\n",
       "     'avatar_url': 'https://avatars2.githubusercontent.com/u/26457460?v=4',\n",
       "     'gravatar_id': '',\n",
       "     'url': 'https://api.github.com/users/colombeen',\n",
       "     'html_url': 'https://github.com/colombeen',\n",
       "     'followers_url': 'https://api.github.com/users/colombeen/followers',\n",
       "     'following_url': 'https://api.github.com/users/colombeen/following{/other_user}',\n",
       "     'gists_url': 'https://api.github.com/users/colombeen/gists{/gist_id}',\n",
       "     'starred_url': 'https://api.github.com/users/colombeen/starred{/owner}{/repo}',\n",
       "     'subscriptions_url': 'https://api.github.com/users/colombeen/subscriptions',\n",
       "     'organizations_url': 'https://api.github.com/users/colombeen/orgs',\n",
       "     'repos_url': 'https://api.github.com/users/colombeen/repos',\n",
       "     'events_url': 'https://api.github.com/users/colombeen/events{/privacy}',\n",
       "     'received_events_url': 'https://api.github.com/users/colombeen/received_events',\n",
       "     'type': 'User',\n",
       "     'site_admin': False},\n",
       "    'comments': 0,\n",
       "    'review_comments': 0,\n",
       "    'maintainer_can_modify': False,\n",
       "    'commits': 3,\n",
       "    'additions': 44,\n",
       "    'deletions': 96,\n",
       "    'changed_files': 8}},\n",
       "  'public': True,\n",
       "  'created_at': '2019-06-24T07:03:09Z'},\n",
       " {'id': '9878243115',\n",
       "  'type': 'IssueCommentEvent',\n",
       "  'actor': {'id': 3260473,\n",
       "   'login': 'matthewrdev',\n",
       "   'display_login': 'matthewrdev',\n",
       "   'gravatar_id': '',\n",
       "   'url': 'https://api.github.com/users/matthewrdev',\n",
       "   'avatar_url': 'https://avatars.githubusercontent.com/u/3260473?'},\n",
       "  'repo': {'id': 92126443,\n",
       "   'name': 'mfractor/mfractor-feedback',\n",
       "   'url': 'https://api.github.com/repos/mfractor/mfractor-feedback'},\n",
       "  'payload': {'action': 'created',\n",
       "   'issue': {'url': 'https://api.github.com/repos/mfractor/mfractor-feedback/issues/118',\n",
       "    'repository_url': 'https://api.github.com/repos/mfractor/mfractor-feedback',\n",
       "    'labels_url': 'https://api.github.com/repos/mfractor/mfractor-feedback/issues/118/labels{/name}',\n",
       "    'comments_url': 'https://api.github.com/repos/mfractor/mfractor-feedback/issues/118/comments',\n",
       "    'events_url': 'https://api.github.com/repos/mfractor/mfractor-feedback/issues/118/events',\n",
       "    'html_url': 'https://github.com/mfractor/mfractor-feedback/issues/118',\n",
       "    'id': 458671188,\n",
       "    'node_id': 'MDU6SXNzdWU0NTg2NzExODg=',\n",
       "    'number': 118,\n",
       "    'title': 'Enhancement: Ability to trigger i18n dialog from the MFractor menu',\n",
       "    'user': {'login': 'sthewissen',\n",
       "     'id': 2419439,\n",
       "     'node_id': 'MDQ6VXNlcjI0MTk0Mzk=',\n",
       "     'avatar_url': 'https://avatars0.githubusercontent.com/u/2419439?v=4',\n",
       "     'gravatar_id': '',\n",
       "     'url': 'https://api.github.com/users/sthewissen',\n",
       "     'html_url': 'https://github.com/sthewissen',\n",
       "     'followers_url': 'https://api.github.com/users/sthewissen/followers',\n",
       "     'following_url': 'https://api.github.com/users/sthewissen/following{/other_user}',\n",
       "     'gists_url': 'https://api.github.com/users/sthewissen/gists{/gist_id}',\n",
       "     'starred_url': 'https://api.github.com/users/sthewissen/starred{/owner}{/repo}',\n",
       "     'subscriptions_url': 'https://api.github.com/users/sthewissen/subscriptions',\n",
       "     'organizations_url': 'https://api.github.com/users/sthewissen/orgs',\n",
       "     'repos_url': 'https://api.github.com/users/sthewissen/repos',\n",
       "     'events_url': 'https://api.github.com/users/sthewissen/events{/privacy}',\n",
       "     'received_events_url': 'https://api.github.com/users/sthewissen/received_events',\n",
       "     'type': 'User',\n",
       "     'site_admin': False},\n",
       "    'labels': [{'id': 908793915,\n",
       "      'node_id': 'MDU6TGFiZWw5MDg3OTM5MTU=',\n",
       "      'url': 'https://api.github.com/repos/mfractor/mfractor-feedback/labels/User%20Requested',\n",
       "      'name': 'User Requested',\n",
       "      'color': 'c1792c',\n",
       "      'default': False},\n",
       "     {'id': 611031393,\n",
       "      'node_id': 'MDU6TGFiZWw2MTEwMzEzOTM=',\n",
       "      'url': 'https://api.github.com/repos/mfractor/mfractor-feedback/labels/enhancement',\n",
       "      'name': 'enhancement',\n",
       "      'color': '84b6eb',\n",
       "      'default': True}],\n",
       "    'state': 'closed',\n",
       "    'locked': False,\n",
       "    'assignee': None,\n",
       "    'assignees': [],\n",
       "    'milestone': {'url': 'https://api.github.com/repos/mfractor/mfractor-feedback/milestones/19',\n",
       "     'html_url': 'https://github.com/mfractor/mfractor-feedback/milestone/19',\n",
       "     'labels_url': 'https://api.github.com/repos/mfractor/mfractor-feedback/milestones/19/labels',\n",
       "     'id': 4434893,\n",
       "     'node_id': 'MDk6TWlsZXN0b25lNDQzNDg5Mw==',\n",
       "     'number': 19,\n",
       "     'title': '3.8.10',\n",
       "     'description': None,\n",
       "     'creator': {'login': 'matthewrdev',\n",
       "      'id': 3260473,\n",
       "      'node_id': 'MDQ6VXNlcjMyNjA0NzM=',\n",
       "      'avatar_url': 'https://avatars2.githubusercontent.com/u/3260473?v=4',\n",
       "      'gravatar_id': '',\n",
       "      'url': 'https://api.github.com/users/matthewrdev',\n",
       "      'html_url': 'https://github.com/matthewrdev',\n",
       "      'followers_url': 'https://api.github.com/users/matthewrdev/followers',\n",
       "      'following_url': 'https://api.github.com/users/matthewrdev/following{/other_user}',\n",
       "      'gists_url': 'https://api.github.com/users/matthewrdev/gists{/gist_id}',\n",
       "      'starred_url': 'https://api.github.com/users/matthewrdev/starred{/owner}{/repo}',\n",
       "      'subscriptions_url': 'https://api.github.com/users/matthewrdev/subscriptions',\n",
       "      'organizations_url': 'https://api.github.com/users/matthewrdev/orgs',\n",
       "      'repos_url': 'https://api.github.com/users/matthewrdev/repos',\n",
       "      'events_url': 'https://api.github.com/users/matthewrdev/events{/privacy}',\n",
       "      'received_events_url': 'https://api.github.com/users/matthewrdev/received_events',\n",
       "      'type': 'User',\n",
       "      'site_admin': False},\n",
       "     'open_issues': 0,\n",
       "     'closed_issues': 2,\n",
       "     'state': 'open',\n",
       "     'created_at': '2019-06-24T06:48:28Z',\n",
       "     'updated_at': '2019-06-24T07:03:09Z',\n",
       "     'due_on': None,\n",
       "     'closed_at': None},\n",
       "    'comments': 10,\n",
       "    'created_at': '2019-06-20T13:50:57Z',\n",
       "    'updated_at': '2019-06-24T07:03:09Z',\n",
       "    'closed_at': '2019-06-24T07:03:09Z',\n",
       "    'author_association': 'NONE',\n",
       "    'body': 'Is there a way to trigger the i18n dialog from the menu? Currently, it\\'s only triggerable by right-clicking an untranslated text and hitting \"Replace with RESX lookup\" if I\\'m correct. However, I sometimes have files that are either half-translated or I just don\\'t quite see whether or not everything is already translated due to the amount of XAML in the file. Being able to trigger the i18n using the menu would be nice to quickly ensure a file is completely translated without going through the entire XAML structure.'},\n",
       "   'comment': {'url': 'https://api.github.com/repos/mfractor/mfractor-feedback/issues/comments/504885187',\n",
       "    'html_url': 'https://github.com/mfractor/mfractor-feedback/issues/118#issuecomment-504885187',\n",
       "    'issue_url': 'https://api.github.com/repos/mfractor/mfractor-feedback/issues/118',\n",
       "    'id': 504885187,\n",
       "    'node_id': 'MDEyOklzc3VlQ29tbWVudDUwNDg4NTE4Nw==',\n",
       "    'user': {'login': 'matthewrdev',\n",
       "     'id': 3260473,\n",
       "     'node_id': 'MDQ6VXNlcjMyNjA0NzM=',\n",
       "     'avatar_url': 'https://avatars2.githubusercontent.com/u/3260473?v=4',\n",
       "     'gravatar_id': '',\n",
       "     'url': 'https://api.github.com/users/matthewrdev',\n",
       "     'html_url': 'https://github.com/matthewrdev',\n",
       "     'followers_url': 'https://api.github.com/users/matthewrdev/followers',\n",
       "     'following_url': 'https://api.github.com/users/matthewrdev/following{/other_user}',\n",
       "     'gists_url': 'https://api.github.com/users/matthewrdev/gists{/gist_id}',\n",
       "     'starred_url': 'https://api.github.com/users/matthewrdev/starred{/owner}{/repo}',\n",
       "     'subscriptions_url': 'https://api.github.com/users/matthewrdev/subscriptions',\n",
       "     'organizations_url': 'https://api.github.com/users/matthewrdev/orgs',\n",
       "     'repos_url': 'https://api.github.com/users/matthewrdev/repos',\n",
       "     'events_url': 'https://api.github.com/users/matthewrdev/events{/privacy}',\n",
       "     'received_events_url': 'https://api.github.com/users/matthewrdev/received_events',\n",
       "     'type': 'User',\n",
       "     'site_admin': False},\n",
       "    'created_at': '2019-06-24T07:03:09Z',\n",
       "    'updated_at': '2019-06-24T07:03:09Z',\n",
       "    'author_association': 'CONTRIBUTOR',\n",
       "    'body': 'This has been added in MFractor 3.8.10, targeting Visual Studio Mac 8.1.1 (Build 27), and is now available.'}},\n",
       "  'public': True,\n",
       "  'created_at': '2019-06-24T07:03:09Z',\n",
       "  'org': {'id': 24817165,\n",
       "   'login': 'mfractor',\n",
       "   'gravatar_id': '',\n",
       "   'url': 'https://api.github.com/orgs/mfractor',\n",
       "   'avatar_url': 'https://avatars.githubusercontent.com/u/24817165?'}},\n",
       " {'id': '9878243110',\n",
       "  'type': 'PushEvent',\n",
       "  'actor': {'id': 1481619,\n",
       "   'login': 'olson-sean-k',\n",
       "   'display_login': 'olson-sean-k',\n",
       "   'gravatar_id': '',\n",
       "   'url': 'https://api.github.com/users/olson-sean-k',\n",
       "   'avatar_url': 'https://avatars.githubusercontent.com/u/1481619?'},\n",
       "  'repo': {'id': 98477799,\n",
       "   'name': 'olson-sean-k/plexus',\n",
       "   'url': 'https://api.github.com/repos/olson-sean-k/plexus'},\n",
       "  'payload': {'push_id': 3745061308,\n",
       "   'size': 1,\n",
       "   'distinct_size': 1,\n",
       "   'ref': 'refs/heads/master',\n",
       "   'head': '793fbce19a898b9363e96a56aa1f01e7cf956614',\n",
       "   'before': 'beddb7071c89a6bcc97e7ec603f7c753cb05148a',\n",
       "   'commits': [{'sha': '793fbce19a898b9363e96a56aa1f01e7cf956614',\n",
       "     'author': {'email': 'olson.sean.k@gmail.com', 'name': 'Sean Olson'},\n",
       "     'message': 'Render the Newell teapot in the viewer example.',\n",
       "     'distinct': True,\n",
       "     'url': 'https://api.github.com/repos/olson-sean-k/plexus/commits/793fbce19a898b9363e96a56aa1f01e7cf956614'}]},\n",
       "  'public': True,\n",
       "  'created_at': '2019-06-24T07:03:09Z'},\n",
       " {'id': '9878243106',\n",
       "  'type': 'PushEvent',\n",
       "  'actor': {'id': 5612422,\n",
       "   'login': 'cyrilzhao',\n",
       "   'display_login': 'cyrilzhao',\n",
       "   'gravatar_id': '',\n",
       "   'url': 'https://api.github.com/users/cyrilzhao',\n",
       "   'avatar_url': 'https://avatars.githubusercontent.com/u/5612422?'},\n",
       "  'repo': {'id': 192900436,\n",
       "   'name': 'bihu-frontend-components/BaseOrder',\n",
       "   'url': 'https://api.github.com/repos/bihu-frontend-components/BaseOrder'},\n",
       "  'payload': {'push_id': 3745061299,\n",
       "   'size': 2,\n",
       "   'distinct_size': 2,\n",
       "   'ref': 'refs/heads/master',\n",
       "   'head': '3fef4578fd8b8ad9b3e0674646d30c7b2ed94fd0',\n",
       "   'before': '04c165c873fc763070efc3aaf721f0d351d34cd7',\n",
       "   'commits': [{'sha': '7a20c7cb645f35f6504698da3231d65afc6e8f29',\n",
       "     'author': {'email': 'cyrilzhao@qq.com', 'name': 'cyrilzhao'},\n",
       "     'message': '将draft_order_id字段修改为order_id',\n",
       "     'distinct': True,\n",
       "     'url': 'https://api.github.com/repos/bihu-frontend-components/BaseOrder/commits/7a20c7cb645f35f6504698da3231d65afc6e8f29'},\n",
       "    {'sha': '3fef4578fd8b8ad9b3e0674646d30c7b2ed94fd0',\n",
       "     'author': {'email': 'cyrilzhao@qq.com', 'name': 'cyrilzhao'},\n",
       "     'message': \"Merge branch 'master' of https://github.com/bihu-frontend-components/BaseOrder\",\n",
       "     'distinct': True,\n",
       "     'url': 'https://api.github.com/repos/bihu-frontend-components/BaseOrder/commits/3fef4578fd8b8ad9b3e0674646d30c7b2ed94fd0'}]},\n",
       "  'public': True,\n",
       "  'created_at': '2019-06-24T07:03:09Z',\n",
       "  'org': {'id': 51395927,\n",
       "   'login': 'bihu-frontend-components',\n",
       "   'gravatar_id': '',\n",
       "   'url': 'https://api.github.com/orgs/bihu-frontend-components',\n",
       "   'avatar_url': 'https://avatars.githubusercontent.com/u/51395927?'}},\n",
       " {'id': '9878243103',\n",
       "  'type': 'PushEvent',\n",
       "  'actor': {'id': 5699831,\n",
       "   'login': 'm-Py',\n",
       "   'display_login': 'm-Py',\n",
       "   'gravatar_id': '',\n",
       "   'url': 'https://api.github.com/users/m-Py',\n",
       "   'avatar_url': 'https://avatars.githubusercontent.com/u/5699831?'},\n",
       "  'repo': {'id': 154145585,\n",
       "   'name': 'm-Py/anticlust',\n",
       "   'url': 'https://api.github.com/repos/m-Py/anticlust'},\n",
       "  'payload': {'push_id': 3745061304,\n",
       "   'size': 1,\n",
       "   'distinct_size': 1,\n",
       "   'ref': 'refs/heads/devel',\n",
       "   'head': '5276778f6e8c066c6a7966d49fce5f911ee057fd',\n",
       "   'before': '2783ab84741d16bac7d3a7551cda2e41c0798072',\n",
       "   'commits': [{'sha': '5276778f6e8c066c6a7966d49fce5f911ee057fd',\n",
       "     'author': {'email': 'martin.papenberg@hhu.de',\n",
       "      'name': 'Martin Papenberg'},\n",
       "     'message': 'distances should only be computed if objective == \"distance\"',\n",
       "     'distinct': True,\n",
       "     'url': 'https://api.github.com/repos/m-Py/anticlust/commits/5276778f6e8c066c6a7966d49fce5f911ee057fd'}]},\n",
       "  'public': True,\n",
       "  'created_at': '2019-06-24T07:03:09Z'},\n",
       " {'id': '9878243101',\n",
       "  'type': 'CreateEvent',\n",
       "  'actor': {'id': 27856297,\n",
       "   'login': 'dependabot-preview[bot]',\n",
       "   'display_login': 'dependabot-preview',\n",
       "   'gravatar_id': '',\n",
       "   'url': 'https://api.github.com/users/dependabot-preview[bot]',\n",
       "   'avatar_url': 'https://avatars.githubusercontent.com/u/27856297?'},\n",
       "  'repo': {'id': 104743934,\n",
       "   'name': 'devotox/ember-cli-roboto-fontface',\n",
       "   'url': 'https://api.github.com/repos/devotox/ember-cli-roboto-fontface'},\n",
       "  'payload': {'ref': 'dependabot/npm_and_yarn/caniuse-lite-1.0.30000976',\n",
       "   'ref_type': 'branch',\n",
       "   'master_branch': 'master',\n",
       "   'description': None,\n",
       "   'pusher_type': 'user'},\n",
       "  'public': True,\n",
       "  'created_at': '2019-06-24T07:03:09Z'},\n",
       " {'id': '9878243092',\n",
       "  'type': 'PushEvent',\n",
       "  'actor': {'id': 8517910,\n",
       "   'login': 'LombiqBot',\n",
       "   'display_login': 'LombiqBot',\n",
       "   'gravatar_id': '',\n",
       "   'url': 'https://api.github.com/users/LombiqBot',\n",
       "   'avatar_url': 'https://avatars.githubusercontent.com/u/8517910?'},\n",
       "  'repo': {'id': 46594444,\n",
       "   'name': 'Lombiq/Associativy-Tag-Nodes',\n",
       "   'url': 'https://api.github.com/repos/Lombiq/Associativy-Tag-Nodes'},\n",
       "  'payload': {'push_id': 3745061297,\n",
       "   'size': 0,\n",
       "   'distinct_size': 0,\n",
       "   'ref': 'refs/heads/orchard-upgrade-1.10',\n",
       "   'head': 'aadc8c47ea69c1c56083038508e61c93699f2a74',\n",
       "   'before': 'aadc8c47ea69c1c56083038508e61c93699f2a74',\n",
       "   'commits': []},\n",
       "  'public': True,\n",
       "  'created_at': '2019-06-24T07:03:09Z',\n",
       "  'org': {'id': 8158177,\n",
       "   'login': 'Lombiq',\n",
       "   'gravatar_id': '',\n",
       "   'url': 'https://api.github.com/orgs/Lombiq',\n",
       "   'avatar_url': 'https://avatars.githubusercontent.com/u/8158177?'}},\n",
       " {'id': '9878243083',\n",
       "  'type': 'PushEvent',\n",
       "  'actor': {'id': 25794008,\n",
       "   'login': 'JungHyun-Hwang',\n",
       "   'display_login': 'JungHyun-Hwang',\n",
       "   'gravatar_id': '',\n",
       "   'url': 'https://api.github.com/users/JungHyun-Hwang',\n",
       "   'avatar_url': 'https://avatars.githubusercontent.com/u/25794008?'},\n",
       "  'repo': {'id': 193439443,\n",
       "   'name': 'JungHyun-Hwang/3rd_webproj',\n",
       "   'url': 'https://api.github.com/repos/JungHyun-Hwang/3rd_webproj'},\n",
       "  'payload': {'push_id': 3745061294,\n",
       "   'size': 1,\n",
       "   'distinct_size': 1,\n",
       "   'ref': 'refs/heads/master',\n",
       "   'head': 'b7cf1b69e578e437863d4d7b9b6d98dd713433ac',\n",
       "   'before': 'a404a4c4496fd45cbfc886c25d07a2a7da193946',\n",
       "   'commits': [{'sha': 'b7cf1b69e578e437863d4d7b9b6d98dd713433ac',\n",
       "     'author': {'email': 'ghkd01212@gmail.com', 'name': 'JeoungHyun-Hwang'},\n",
       "     'message': 'add_body-parser',\n",
       "     'distinct': True,\n",
       "     'url': 'https://api.github.com/repos/JungHyun-Hwang/3rd_webproj/commits/b7cf1b69e578e437863d4d7b9b6d98dd713433ac'}]},\n",
       "  'public': True,\n",
       "  'created_at': '2019-06-24T07:03:09Z'},\n",
       " {'id': '9878243080',\n",
       "  'type': 'PushEvent',\n",
       "  'actor': {'id': 16349113,\n",
       "   'login': 'kkufova',\n",
       "   'display_login': 'kkufova',\n",
       "   'gravatar_id': '',\n",
       "   'url': 'https://api.github.com/users/kkufova',\n",
       "   'avatar_url': 'https://avatars.githubusercontent.com/u/16349113?'},\n",
       "  'repo': {'id': 117651168,\n",
       "   'name': 'kkufova/drools-wb',\n",
       "   'url': 'https://api.github.com/repos/kkufova/drools-wb'},\n",
       "  'payload': {'push_id': 3745061287,\n",
       "   'size': 42,\n",
       "   'distinct_size': 42,\n",
       "   'ref': 'refs/heads/master',\n",
       "   'head': 'dfe012b0d2dd4529f703208dd127abbb20c6a7ae',\n",
       "   'before': '14da5952d9cb13ad72d3608079803d64cb4eaf8f',\n",
       "   'commits': [{'sha': 'fb2609206749a0e921e72ca1bd1dfb68686577dd',\n",
       "     'author': {'email': 'yamer@redhat.com', 'name': 'Yeser Amer'},\n",
       "     'message': '[Drools-3951][Drools-3931] Right Panel reset (#1130)\\n\\n* [DROOLS-3951] Issue fixed.\\r\\n\\r\\n* [DROOLS-3951] Comment fixed\\r\\n\\r\\n* [DROOLS-3951] Reset method added to all docks views.',\n",
       "     'distinct': True,\n",
       "     'url': 'https://api.github.com/repos/kkufova/drools-wb/commits/fb2609206749a0e921e72ca1bd1dfb68686577dd'},\n",
       "    {'sha': '2688ba2448ef7c98e43ce0e03c3e9f210baf6cef',\n",
       "     'author': {'email': 'kiereleaseuser@users.noreply.github.com',\n",
       "      'name': 'kiereleaseuser'},\n",
       "     'message': 'upgraded src/main/config/zanata.xml to link to new project 7.22.0 on https://vendors.zanata.redhat.com/ (#1133)',\n",
       "     'distinct': True,\n",
       "     'url': 'https://api.github.com/repos/kkufova/drools-wb/commits/2688ba2448ef7c98e43ce0e03c3e9f210baf6cef'},\n",
       "    {'sha': '4e9dfa3f137d62bd765b819bce59dd14090608bf',\n",
       "     'author': {'email': 'dzonca@redhat.com', 'name': 'Daniele Zonca'},\n",
       "     'message': '[DROOLS-3742] Implement Test scenario coverage report for DMN (#1126)\\n\\n* [DROOLS-3742] Created ScenarioWithIndex to replace scenarioMap, partial implementation\\r\\n\\r\\n* [DROOLS-3742] WIP\\r\\n\\r\\n* [DROOLS-3742] Added coverage report dock and some KPIS\\r\\n\\r\\n* [DROOLS-3742] WIP\\r\\n\\r\\n* [DROOLS-3742] WIP\\r\\n\\r\\n* [DROOLS-3742] Added donut chart\\r\\n\\r\\n* [DROOLS-3742] Added donut chart\\r\\n\\r\\n* [DROOLS-3742] Fix merge and tests\\r\\n\\r\\n* [DROOLS-3742] Fix merge and tests\\r\\n\\r\\n* [DROOLS-3742] Added last coverage section and fixes\\r\\n\\r\\n* [DROOLS-3742] Fix tests\\r\\n\\r\\n* [DROOLS-3742] Fix tests, added empty status\\r\\n\\r\\n* [DROOLS-3742] Fix checkstyle\\r\\n\\r\\n* [DROOLS-3742] Updated labels\\r\\n\\r\\n* [DROOLS-3742] Removed space\\r\\n\\r\\n* [DROOLS-3742] Fix test\\r\\n\\r\\n* [DROOLS-3742] Small CSS fix\\r\\n\\r\\n* [DROOLS-3742] Small CSS fix\\r\\n\\r\\n* [DROOLS-3742] Implemented reset methods',\n",
       "     'distinct': True,\n",
       "     'url': 'https://api.github.com/repos/kkufova/drools-wb/commits/4e9dfa3f137d62bd765b819bce59dd14090608bf'},\n",
       "    {'sha': 'aa73d49cb42a2ace760eede4bcd516ebc9763c65',\n",
       "     'author': {'email': 'dzonca@redhat.com', 'name': 'Daniele Zonca'},\n",
       "     'message': '[DROOLS-3389] Created scenario simulation runtime modules (#1132)\\n\\n* [DROOLS-3742] Created ScenarioWithIndex to replace scenarioMap, partial implementation\\r\\n\\r\\n* [DROOLS-3742] WIP\\r\\n\\r\\n* [DROOLS-3742] Added coverage report dock and some KPIS\\r\\n\\r\\n* [DROOLS-3742] WIP\\r\\n\\r\\n* [DROOLS-3742] WIP\\r\\n\\r\\n* [DROOLS-3742] Added donut chart\\r\\n\\r\\n* [DROOLS-3742] Added donut chart\\r\\n\\r\\n* [DROOLS-3742] Fix merge and tests\\r\\n\\r\\n* [DROOLS-3742] Fix merge and tests\\r\\n\\r\\n* [DROOLS-3742] Added last coverage section and fixes\\r\\n\\r\\n* [DROOLS-3742] Fix tests\\r\\n\\r\\n* [DROOLS-3742] Fix tests, added empty status\\r\\n\\r\\n* [DROOLS-3742] Fix checkstyle\\r\\n\\r\\n* [DROOLS-3742] Updated labels\\r\\n\\r\\n* [DROOLS-3742] Removed space\\r\\n\\r\\n* [DROOLS-3742] Fix test\\r\\n\\r\\n* [DROOLS-3389] Moved runner to a separate module\\r\\n\\r\\n* [DROOLS-3742] Small CSS fix\\r\\n\\r\\n* [DROOLS-3742] Small CSS fix\\r\\n\\r\\n* [DROOLS-3742] Implemented reset methods\\r\\n\\r\\n* [DROOLS-3389] Fix post merge',\n",
       "     'distinct': True,\n",
       "     'url': 'https://api.github.com/repos/kkufova/drools-wb/commits/aa73d49cb42a2ace760eede4bcd516ebc9763c65'},\n",
       "    {'sha': 'e8796d4e05335be1607149001e1df6f525a88888',\n",
       "     'author': {'email': 'toni@rikkola.net', 'name': 'Toni Rikkola'},\n",
       "     'message': 'DROOLS-3958 Unexpected Conflicting rows on rules analysis using date-effective and date-expires on Guided Decision Tables (#1131)\\n\\n* DROOLS-3958 Unexpected Conflicting rows on rules analysis using date-effective and date-expires on Guided Decision Tables\\r\\n\\r\\n* PR changes\\r\\n\\r\\n* Remove UpdateException',\n",
       "     'distinct': True,\n",
       "     'url': 'https://api.github.com/repos/kkufova/drools-wb/commits/e8796d4e05335be1607149001e1df6f525a88888'},\n",
       "    {'sha': '5099f3c0e63685d8e4a330d6eb53f76518d26827',\n",
       "     'author': {'email': 'toni@rikkola.net', 'name': 'Toni Rikkola'},\n",
       "     'message': 'DROOLS-3918 : The error reporting should contain information about the corresponding test scenario asset (#1135)',\n",
       "     'distinct': True,\n",
       "     'url': 'https://api.github.com/repos/kkufova/drools-wb/commits/5099f3c0e63685d8e4a330d6eb53f76518d26827'},\n",
       "    {'sha': 'bf19ae1377d7c6c8150a3b4d305ae0a5a011aa1d',\n",
       "     'author': {'email': 'wsiqueir@redhat.com',\n",
       "      'name': 'William Antônio Siqueira'},\n",
       "     'message': 'AF-1774: Removing GChartsRenderer (Google Charts) (#1101)',\n",
       "     'distinct': True,\n",
       "     'url': 'https://api.github.com/repos/kkufova/drools-wb/commits/bf19ae1377d7c6c8150a3b4d305ae0a5a011aa1d'},\n",
       "    {'sha': 'b84164a4004a8977d5007b9e426ed9fd9835d464',\n",
       "     'author': {'email': 'yamer@redhat.com', 'name': 'Yeser Amer'},\n",
       "     'message': \"[Drools-3838] Improve error reporting in scenario result (#1125)\\n\\n* [DROOLS-3838] Add expected/retrieved information inside ResultWrapper/FactMappingValue\\r\\n\\r\\n* [DROOLS-3838] Trying to reuse existing popover code\\r\\n\\r\\n* [DROOLS-3838] Add to DOM\\r\\n\\r\\n* [DROOLS-3838] Fixed popover structure\\r\\n\\r\\n* [DROOLS-3838] Binding popover to onmousemove event.\\r\\n\\r\\n* [DROOLS-3838] Popover position fixed.\\r\\n\\r\\n* [DROOLS-3838] Popover position fixed.\\r\\n\\r\\n* [DROOLS-3838] Minor issue fixed.\\r\\n\\r\\n* [DROOLS-3838] Compilation fixed + tests added.\\r\\n\\r\\n* [DROOLS-3838] Code cleaning\\r\\n\\r\\n* [DROOLS-3838] Code cleaning\\r\\n\\r\\n* [DROOLS-3838] Logic completed\\r\\n\\r\\n* [DROOLS-3838] Logic completed\\r\\n\\r\\n* [DROOLS-3838] Existing tests fixed.\\r\\n\\r\\n* [DROOLS-3838] CommonOnMoveHandlerTest addded\\r\\n\\r\\n* [DROOLS-3838] Reverted changes on Scenario.simulationDescription deprecated variable. TO be managed in a different ticket.\\r\\n\\r\\n* [DROOLS-3838] Minor changes\\r\\n\\r\\n* [DROOLS-3838] Minor changes + restored changes on Scenario in order to remove simulationDescription parameter\\r\\n\\r\\n* [DROOLS-3838] Minor changes\\r\\n\\r\\n* [DROOLS-3838] Scrollpanel managed\\r\\n\\r\\n* [DROOLS-3838] Scrollpanel managed\\r\\n\\r\\n* [DROOLS-3838] Handling null values for expected and error fields + minor change on CSS\\r\\n\\r\\n* [DROOLS-3838] Handling null values for expected and error fields\\r\\n\\r\\n* [DROOLS-3838] Handling exception on error cells.\\r\\n\\r\\n* [DROOLS-3838] Minor changes.\\r\\n\\r\\n* [DROOLS-3838] Typo fixed.\\r\\n\\r\\n* [DROOLS-3838] Null handling fixed.\\r\\n\\r\\n* [DROOLS-3838] Improved CommonOnMoveHandler + fixes of reported issues\\r\\n\\r\\n* [DROOLS-3838] Tests added + comments\\r\\n\\r\\n* Merge remote-tracking branch 'origin/master' into DROOLS-3838\\r\\n\\r\\n* Fixed reported review issues.\\r\\n\\r\\n* Reverted part of the previous commit\",\n",
       "     'distinct': True,\n",
       "     'url': 'https://api.github.com/repos/kkufova/drools-wb/commits/b84164a4004a8977d5007b9e426ed9fd9835d464'},\n",
       "    {'sha': '5bee797e138c8b8fdfd6d92ccde43e6a838793d1',\n",
       "     'author': {'email': 'mbiarnes@redhat.com',\n",
       "      'name': 'Michael Biarnes Kiefer'},\n",
       "     'message': 'upgraded to next SNAPSHOT',\n",
       "     'distinct': True,\n",
       "     'url': 'https://api.github.com/repos/kkufova/drools-wb/commits/5bee797e138c8b8fdfd6d92ccde43e6a838793d1'},\n",
       "    {'sha': 'ec423c890e65afc46a8e50783ba816a3badb6ffc',\n",
       "     'author': {'email': 'yamer@redhat.com', 'name': 'Yeser Amer'},\n",
       "     'message': '[DROOLS-4034] Add an Instance to a Scenario Column leads to an exception (#1139)\\n\\n* DROOLS-4034\\r\\n\\r\\n* DROOLS-4034 Fixed checkstyle violation',\n",
       "     'distinct': True,\n",
       "     'url': 'https://api.github.com/repos/kkufova/drools-wb/commits/ec423c890e65afc46a8e50783ba816a3badb6ffc'},\n",
       "    {'sha': '3dac6e97176bba8acae384e071ab8a51af50e1e3',\n",
       "     'author': {'email': 'kiereleaseuser@users.noreply.github.com',\n",
       "      'name': 'kiereleaseuser'},\n",
       "     'message': 'upgraded src/main/config/zanata.xml to link to new project 7.23.0 on https://vendors.zanata.redhat.com/ (#1143)',\n",
       "     'distinct': True,\n",
       "     'url': 'https://api.github.com/repos/kkufova/drools-wb/commits/3dac6e97176bba8acae384e071ab8a51af50e1e3'},\n",
       "    {'sha': 'f67d4462d4421139cf70056727577d84691d531f',\n",
       "     'author': {'email': 'dzonca@redhat.com', 'name': 'Daniele Zonca'},\n",
       "     'message': '[DROOLS-3840] Extend test scenario runner to support additional parameters (#1137)\\n\\n* [DROOLS-3840] Initial commit\\r\\n\\r\\n* [DROOLS-3840] WIP\\r\\n\\r\\n* [DROOLS-3840] WIP\\r\\n\\r\\n* [DROOLS-3840] Minor fixes + fix for coverage report\\r\\n\\r\\n* [DROOLS-3840] Minor fix\\r\\n\\r\\n* [DROOLS-3840] Included PR feedback',\n",
       "     'distinct': True,\n",
       "     'url': 'https://api.github.com/repos/kkufova/drools-wb/commits/f67d4462d4421139cf70056727577d84691d531f'},\n",
       "    {'sha': 'a99334a7f98dd76e266e13c811b8d88471833af7',\n",
       "     'author': {'email': 'yamer@redhat.com', 'name': 'Yeser Amer'},\n",
       "     'message': '[DROOLS-4000] Highlight of cells with issue is lost when one cell is fixed (#1140)\\n\\n* DROOLS-4000 Issue fixed + tests\\r\\n\\r\\n* DROOLS-4000 Typo fixed\\r\\n\\r\\n* DROOLS-4000 Applied required changes from code review',\n",
       "     'distinct': True,\n",
       "     'url': 'https://api.github.com/repos/kkufova/drools-wb/commits/a99334a7f98dd76e266e13c811b8d88471833af7'},\n",
       "    {'sha': '161e809beabd27302ff1d976e86526b22c05128f',\n",
       "     'author': {'email': 'yamer@redhat.com', 'name': 'Yeser Amer'},\n",
       "     'message': '[DROOLS-3842] Error after undo of invalid instance mapping (#1136)\\n\\n* DROOLS-3842 First draft of fixes.\\r\\n\\r\\n* DROOLS-3842 First draft of fixes.\\r\\n\\r\\n* DROOLS-3842 Set InstanceName fixed\\r\\n\\r\\n* DROOLS-3842 Partially Reverted\\r\\n\\r\\n* DROOLS-3842 Completed\\r\\n\\r\\n* DROOLS-3842 Tests added.\\r\\n\\r\\n* DROOLS-3842 Reported points during review\\r\\n\\r\\n* DROOLS-3842 Reported points during review\\r\\n\\r\\n* DROOLS-3842 Fixed issue with searchbox, micro refactor and tests addded.',\n",
       "     'distinct': True,\n",
       "     'url': 'https://api.github.com/repos/kkufova/drools-wb/commits/161e809beabd27302ff1d976e86526b22c05128f'},\n",
       "    {'sha': '4bddc6c2630791e5977d80b1e6ecf96bcc7e1fa1',\n",
       "     'author': {'email': 'manstis@users.noreply.github.com',\n",
       "      'name': 'Michael Anstis'},\n",
       "     'message': 'DROOLS-4049: PMML files are not listed in Library only in Project Explorer (#1144)',\n",
       "     'distinct': True,\n",
       "     'url': 'https://api.github.com/repos/kkufova/drools-wb/commits/4bddc6c2630791e5977d80b1e6ecf96bcc7e1fa1'},\n",
       "    {'sha': '42ac647057ec2607900dbec6591316c333530a71',\n",
       "     'author': {'email': 'wsiqueir@redhat.com', 'name': 'William Siqueira'},\n",
       "     'message': 'AF-1933: AssetQueryService takes some time before return last created assets',\n",
       "     'distinct': True,\n",
       "     'url': 'https://api.github.com/repos/kkufova/drools-wb/commits/42ac647057ec2607900dbec6591316c333530a71'},\n",
       "    {'sha': '820faf57c2c523d99c43bdbfdde0496069247814',\n",
       "     'author': {'email': 'wsiqueir@redhat.com', 'name': 'William Siqueira'},\n",
       "     'message': 'AF-1933: Verifying method call on startup and on clearStatus',\n",
       "     'distinct': True,\n",
       "     'url': 'https://api.github.com/repos/kkufova/drools-wb/commits/820faf57c2c523d99c43bdbfdde0496069247814'},\n",
       "    {'sha': 'a7f6ccf3cd6489d869f3084cab440ee7f2529057',\n",
       "     'author': {'email': 'yamer@redhat.com', 'name': 'Yeser Amer'},\n",
       "     'message': 'DROOLS-3745 (#1145)',\n",
       "     'distinct': True,\n",
       "     'url': 'https://api.github.com/repos/kkufova/drools-wb/commits/a7f6ccf3cd6489d869f3084cab440ee7f2529057'},\n",
       "    {'sha': 'd9f1cef2c2aaa12e1d39336132a7d56b9fccf686',\n",
       "     'author': {'email': 'yamer@redhat.com', 'name': 'Yeser Amer'},\n",
       "     'message': '[DROOLS-3855] Unsupported DMN asset shows each item two times (#1149)\\n\\n* DROOLS-3855: Replace list with set to avoid duplicates.\\r\\n\\r\\n* DROOLS-3855: Test fixed\\r\\n\\r\\n* DROOLS-3855: Changes applied after review\\r\\n\\r\\n* DROOLS-3855: checkTypeSupport and visitCompositeType merged',\n",
       "     'distinct': True,\n",
       "     'url': 'https://api.github.com/repos/kkufova/drools-wb/commits/d9f1cef2c2aaa12e1d39336132a7d56b9fccf686'},\n",
       "    {'sha': '0f15a6f1e06cd868995b306ff6d1c814f5c849cd',\n",
       "     'author': {'email': 'daniele.zonca@gmail.com', 'name': 'Daniele Zonca'},\n",
       "     'message': '[DROOLS-4018] Add support for LocalDate in Rule based test scenarios (#1148)\\n\\n* [DROOLS-4018] Refactored SIMPLE_CLASSES_MAP to support LocalDate as simple type\\r\\n\\r\\n* [DROOLS-4018] Refactored placeholder\\r\\n\\r\\n* [DROOLS-4018] Minor changes\\r\\n\\r\\n* [DROOLS-4018] Removed commented code\\r\\n\\r\\n* [DROOLS-4018] Aligned to FEEL ISO date format',\n",
       "     'distinct': True,\n",
       "     'url': 'https://api.github.com/repos/kkufova/drools-wb/commits/0f15a6f1e06cd868995b306ff6d1c814f5c849cd'}]},\n",
       "  'public': True,\n",
       "  'created_at': '2019-06-24T07:03:09Z'},\n",
       " {'id': '9878243078',\n",
       "  'type': 'WatchEvent',\n",
       "  'actor': {'id': 12299307,\n",
       "   'login': 'Gum-Joe',\n",
       "   'display_login': 'Gum-Joe',\n",
       "   'gravatar_id': '',\n",
       "   'url': 'https://api.github.com/users/Gum-Joe',\n",
       "   'avatar_url': 'https://avatars.githubusercontent.com/u/12299307?'},\n",
       "  'repo': {'id': 190864373,\n",
       "   'name': 'SimpleBoilerplates/SwiftUI-Cheat-Sheet',\n",
       "   'url': 'https://api.github.com/repos/SimpleBoilerplates/SwiftUI-Cheat-Sheet'},\n",
       "  'payload': {'action': 'started'},\n",
       "  'public': True,\n",
       "  'created_at': '2019-06-24T07:03:09Z',\n",
       "  'org': {'id': 47558590,\n",
       "   'login': 'SimpleBoilerplates',\n",
       "   'gravatar_id': '',\n",
       "   'url': 'https://api.github.com/orgs/SimpleBoilerplates',\n",
       "   'avatar_url': 'https://avatars.githubusercontent.com/u/47558590?'}},\n",
       " {'id': '9878243072',\n",
       "  'type': 'PushEvent',\n",
       "  'actor': {'id': 7566209,\n",
       "   'login': 'symfony-splitter',\n",
       "   'display_login': 'symfony-splitter',\n",
       "   'gravatar_id': '',\n",
       "   'url': 'https://api.github.com/users/symfony-splitter',\n",
       "   'avatar_url': 'https://avatars.githubusercontent.com/u/7566209?'},\n",
       "  'repo': {'id': 33308809,\n",
       "   'name': 'blackfireio/php-sdk',\n",
       "   'url': 'https://api.github.com/repos/blackfireio/php-sdk'},\n",
       "  'payload': {'push_id': 3745061285,\n",
       "   'size': 1,\n",
       "   'distinct_size': 1,\n",
       "   'ref': 'refs/heads/master',\n",
       "   'head': 'a4fd8aaf3d92fa6f3eaecedb6cdd708ec34faa93',\n",
       "   'before': '84ae6881c026ca31ac1b4c3c813bd9609ae0d5da',\n",
       "   'commits': [{'sha': 'a4fd8aaf3d92fa6f3eaecedb6cdd708ec34faa93',\n",
       "     'author': {'email': 'marc@weistroff.net', 'name': 'Marc Weistroff'},\n",
       "     'message': 'Fix php-sdk php5.3 compat. Closes blackfireio/php-sdk#41.',\n",
       "     'distinct': True,\n",
       "     'url': 'https://api.github.com/repos/blackfireio/php-sdk/commits/a4fd8aaf3d92fa6f3eaecedb6cdd708ec34faa93'}]},\n",
       "  'public': True,\n",
       "  'created_at': '2019-06-24T07:03:09Z',\n",
       "  'org': {'id': 8961067,\n",
       "   'login': 'blackfireio',\n",
       "   'gravatar_id': '',\n",
       "   'url': 'https://api.github.com/orgs/blackfireio',\n",
       "   'avatar_url': 'https://avatars.githubusercontent.com/u/8961067?'}},\n",
       " {'id': '9878243070',\n",
       "  'type': 'IssuesEvent',\n",
       "  'actor': {'id': 49367372,\n",
       "   'login': 'KillingJoke42',\n",
       "   'display_login': 'KillingJoke42',\n",
       "   'gravatar_id': '',\n",
       "   'url': 'https://api.github.com/users/KillingJoke42',\n",
       "   'avatar_url': 'https://avatars.githubusercontent.com/u/49367372?'},\n",
       "  'repo': {'id': 158582419,\n",
       "   'name': 'cs50/v4-issues',\n",
       "   'url': 'https://api.github.com/repos/cs50/v4-issues'},\n",
       "  'payload': {'action': 'opened',\n",
       "   'issue': {'url': 'https://api.github.com/repos/cs50/v4-issues/issues/39',\n",
       "    'repository_url': 'https://api.github.com/repos/cs50/v4-issues',\n",
       "    'labels_url': 'https://api.github.com/repos/cs50/v4-issues/issues/39/labels{/name}',\n",
       "    'comments_url': 'https://api.github.com/repos/cs50/v4-issues/issues/39/comments',\n",
       "    'events_url': 'https://api.github.com/repos/cs50/v4-issues/issues/39/events',\n",
       "    'html_url': 'https://github.com/cs50/v4-issues/issues/39',\n",
       "    'id': 459723515,\n",
       "    'node_id': 'MDU6SXNzdWU0NTk3MjM1MTU=',\n",
       "    'number': 39,\n",
       "    'title': 'cs50 ide not moving ',\n",
       "    'user': {'login': 'KillingJoke42',\n",
       "     'id': 49367372,\n",
       "     'node_id': 'MDQ6VXNlcjQ5MzY3Mzcy',\n",
       "     'avatar_url': 'https://avatars3.githubusercontent.com/u/49367372?v=4',\n",
       "     'gravatar_id': '',\n",
       "     'url': 'https://api.github.com/users/KillingJoke42',\n",
       "     'html_url': 'https://github.com/KillingJoke42',\n",
       "     'followers_url': 'https://api.github.com/users/KillingJoke42/followers',\n",
       "     'following_url': 'https://api.github.com/users/KillingJoke42/following{/other_user}',\n",
       "     'gists_url': 'https://api.github.com/users/KillingJoke42/gists{/gist_id}',\n",
       "     'starred_url': 'https://api.github.com/users/KillingJoke42/starred{/owner}{/repo}',\n",
       "     'subscriptions_url': 'https://api.github.com/users/KillingJoke42/subscriptions',\n",
       "     'organizations_url': 'https://api.github.com/users/KillingJoke42/orgs',\n",
       "     'repos_url': 'https://api.github.com/users/KillingJoke42/repos',\n",
       "     'events_url': 'https://api.github.com/users/KillingJoke42/events{/privacy}',\n",
       "     'received_events_url': 'https://api.github.com/users/KillingJoke42/received_events',\n",
       "     'type': 'User',\n",
       "     'site_admin': False},\n",
       "    'labels': [],\n",
       "    'state': 'open',\n",
       "    'locked': False,\n",
       "    'assignee': None,\n",
       "    'assignees': [],\n",
       "    'milestone': None,\n",
       "    'comments': 0,\n",
       "    'created_at': '2019-06-24T07:03:09Z',\n",
       "    'updated_at': '2019-06-24T07:03:09Z',\n",
       "    'closed_at': None,\n",
       "    'author_association': 'NONE',\n",
       "    'body': '#### What symptom did you see (attaching screenshots as necessary)?\\r\\ncs50 ide not moving past \"preparing your environment\"\\r\\n\\r\\n![cs50ide](https://user-images.githubusercontent.com/49367372/59997554-02956600-967b-11e9-8323-ec8325f66525.png)\\r\\n\\r\\n\\r\\n#### When date and time (UTC) did the problem happen?\\r\\n6.55 am Monday UTC\\r\\n#### What steps did you follow to reproduce the problem?\\r\\n1. step 1 visit ide.cs50.io\\r\\n1. step 2 sign in with GitHub\\r\\n1. step 3 wait 2-3minutes\\r\\n1. step 4 tried reloading to no avail\\r\\n1. step 5 tried another browser to no avail\\r\\n1. step 6 tried clearing browser cache to no avail\\r\\n\\r\\n#### Which web browser did you use (including version number)?\\r\\nGoogle Chrome Version 75.0.3770.100 (Official Build) (64-bit), Microsoft Edge, Google Chrome Mobile\\r\\n#### Which operating system did you use (including version number)?\\r\\nWindows 10 version 1809 (OS build 17763.557)\\r\\n#### Did you log in to CS50 IDE using the same GitHub account you used to create this issue?\\r\\nYes'}},\n",
       "  'public': True,\n",
       "  'created_at': '2019-06-24T07:03:09Z',\n",
       "  'org': {'id': 788676,\n",
       "   'login': 'cs50',\n",
       "   'gravatar_id': '',\n",
       "   'url': 'https://api.github.com/orgs/cs50',\n",
       "   'avatar_url': 'https://avatars.githubusercontent.com/u/788676?'}},\n",
       " {'id': '9878243063',\n",
       "  'type': 'PushEvent',\n",
       "  'actor': {'id': 24545006,\n",
       "   'login': 'alexandrdrvn',\n",
       "   'display_login': 'alexandrdrvn',\n",
       "   'gravatar_id': '',\n",
       "   'url': 'https://api.github.com/users/alexandrdrvn',\n",
       "   'avatar_url': 'https://avatars.githubusercontent.com/u/24545006?'},\n",
       "  'repo': {'id': 191949411,\n",
       "   'name': 'vuefront/magento',\n",
       "   'url': 'https://api.github.com/repos/vuefront/magento'},\n",
       "  'payload': {'push_id': 3745061278,\n",
       "   'size': 1,\n",
       "   'distinct_size': 1,\n",
       "   'ref': 'refs/heads/master',\n",
       "   'head': '9043225d6e4b9b3639df9a19b2c1900d5b5999c0',\n",
       "   'before': 'db42261a8c2a0be9c97bfffebda542eea70f29bf',\n",
       "   'commits': [{'sha': '9043225d6e4b9b3639df9a19b2c1900d5b5999c0',\n",
       "     'author': {'email': 'php4.drvn@gmail.com', 'name': 'Alexandrvn'},\n",
       "     'message': 'Added blog for API',\n",
       "     'distinct': True,\n",
       "     'url': 'https://api.github.com/repos/vuefront/magento/commits/9043225d6e4b9b3639df9a19b2c1900d5b5999c0'}]},\n",
       "  'public': True,\n",
       "  'created_at': '2019-06-24T07:03:09Z',\n",
       "  'org': {'id': 48723923,\n",
       "   'login': 'vuefront',\n",
       "   'gravatar_id': '',\n",
       "   'url': 'https://api.github.com/orgs/vuefront',\n",
       "   'avatar_url': 'https://avatars.githubusercontent.com/u/48723923?'}},\n",
       " {'id': '9878243062',\n",
       "  'type': 'PushEvent',\n",
       "  'actor': {'id': 13954225,\n",
       "   'login': 'latermonk',\n",
       "   'display_login': 'latermonk',\n",
       "   'gravatar_id': '',\n",
       "   'url': 'https://api.github.com/users/latermonk',\n",
       "   'avatar_url': 'https://avatars.githubusercontent.com/u/13954225?'},\n",
       "  'repo': {'id': 193054796,\n",
       "   'name': 'latermonk/face-Capture-Service',\n",
       "   'url': 'https://api.github.com/repos/latermonk/face-Capture-Service'},\n",
       "  'payload': {'push_id': 3745061276,\n",
       "   'size': 1,\n",
       "   'distinct_size': 1,\n",
       "   'ref': 'refs/heads/master',\n",
       "   'head': '027f9c1d6d2de9a01a45df9bd01bb68758802b39',\n",
       "   'before': '14c2331adf68691c6ff387d5cec6d66fe1654c15',\n",
       "   'commits': [{'sha': '027f9c1d6d2de9a01a45df9bd01bb68758802b39',\n",
       "     'author': {'email': '1405984387@qq.com', 'name': '1405984387'},\n",
       "     'message': 'Update README.md',\n",
       "     'distinct': True,\n",
       "     'url': 'https://api.github.com/repos/latermonk/face-Capture-Service/commits/027f9c1d6d2de9a01a45df9bd01bb68758802b39'}]},\n",
       "  'public': True,\n",
       "  'created_at': '2019-06-24T07:03:09Z'},\n",
       " {'id': '9878243060',\n",
       "  'type': 'PushEvent',\n",
       "  'actor': {'id': 4970,\n",
       "   'login': 'gugod',\n",
       "   'display_login': 'gugod',\n",
       "   'gravatar_id': '',\n",
       "   'url': 'https://api.github.com/users/gugod',\n",
       "   'avatar_url': 'https://avatars.githubusercontent.com/u/4970?'},\n",
       "  'repo': {'id': 115630585,\n",
       "   'name': 'g0v-data/mirror-minutely',\n",
       "   'url': 'https://api.github.com/repos/g0v-data/mirror-minutely'},\n",
       "  'payload': {'push_id': 3745061275,\n",
       "   'size': 1,\n",
       "   'distinct_size': 1,\n",
       "   'ref': 'refs/heads/master',\n",
       "   'head': '0215cf866a5b81a6402bde887334907fba9a5a38',\n",
       "   'before': 'e429888030cabb510c7a27e93318e4a764b983e7',\n",
       "   'commits': [{'sha': '0215cf866a5b81a6402bde887334907fba9a5a38',\n",
       "     'author': {'email': 'nobody@nowhere', 'name': 'nobody'},\n",
       "     'message': '',\n",
       "     'distinct': True,\n",
       "     'url': 'https://api.github.com/repos/g0v-data/mirror-minutely/commits/0215cf866a5b81a6402bde887334907fba9a5a38'}]},\n",
       "  'public': True,\n",
       "  'created_at': '2019-06-24T07:03:09Z',\n",
       "  'org': {'id': 5207509,\n",
       "   'login': 'g0v-data',\n",
       "   'gravatar_id': '',\n",
       "   'url': 'https://api.github.com/orgs/g0v-data',\n",
       "   'avatar_url': 'https://avatars.githubusercontent.com/u/5207509?'}},\n",
       " {'id': '9878243051',\n",
       "  'type': 'PushEvent',\n",
       "  'actor': {'id': 623157,\n",
       "   'login': 'acidsound',\n",
       "   'display_login': 'acidsound',\n",
       "   'gravatar_id': '',\n",
       "   'url': 'https://api.github.com/users/acidsound',\n",
       "   'avatar_url': 'https://avatars.githubusercontent.com/u/623157?'},\n",
       "  'repo': {'id': 192887768,\n",
       "   'name': 'deconlabs/docker-efk',\n",
       "   'url': 'https://api.github.com/repos/deconlabs/docker-efk'},\n",
       "  'payload': {'push_id': 3745061272,\n",
       "   'size': 3,\n",
       "   'distinct_size': 3,\n",
       "   'ref': 'refs/heads/EFK',\n",
       "   'head': '616689d40f4d20e7e826267dd3f5c0a394a0c355',\n",
       "   'before': 'ac10470f309b710e92ecbc56bc460a6f65d8eec4',\n",
       "   'commits': [{'sha': '963980edd618168c5feb6f48740291b61febf3bd',\n",
       "     'author': {'email': 'jsrimr@naver.com', 'name': 'jsrimr'},\n",
       "     'message': 'trash',\n",
       "     'distinct': True,\n",
       "     'url': 'https://api.github.com/repos/deconlabs/docker-efk/commits/963980edd618168c5feb6f48740291b61febf3bd'},\n",
       "    {'sha': '51b0a885b5bd5e69ed009708ecee8d7cdfce3061',\n",
       "     'author': {'email': 'jsrimr@naver.com', 'name': 'jsrimr'},\n",
       "     'message': 'trash',\n",
       "     'distinct': True,\n",
       "     'url': 'https://api.github.com/repos/deconlabs/docker-efk/commits/51b0a885b5bd5e69ed009708ecee8d7cdfce3061'},\n",
       "    {'sha': '616689d40f4d20e7e826267dd3f5c0a394a0c355',\n",
       "     'author': {'email': 'jsrimr@naver.com', 'name': 'jsrimr'},\n",
       "     'message': 'merge',\n",
       "     'distinct': True,\n",
       "     'url': 'https://api.github.com/repos/deconlabs/docker-efk/commits/616689d40f4d20e7e826267dd3f5c0a394a0c355'}]},\n",
       "  'public': True,\n",
       "  'created_at': '2019-06-24T07:03:09Z',\n",
       "  'org': {'id': 45866793,\n",
       "   'login': 'deconlabs',\n",
       "   'gravatar_id': '',\n",
       "   'url': 'https://api.github.com/orgs/deconlabs',\n",
       "   'avatar_url': 'https://avatars.githubusercontent.com/u/45866793?'}},\n",
       " {'id': '9878243050',\n",
       "  'type': 'PushEvent',\n",
       "  'actor': {'id': 51952534,\n",
       "   'login': 'bonny1996',\n",
       "   'display_login': 'bonny1996',\n",
       "   'gravatar_id': '',\n",
       "   'url': 'https://api.github.com/users/bonny1996',\n",
       "   'avatar_url': 'https://avatars.githubusercontent.com/u/51952534?'},\n",
       "  'repo': {'id': 192516280,\n",
       "   'name': 'bonny1996/Playground',\n",
       "   'url': 'https://api.github.com/repos/bonny1996/Playground'},\n",
       "  'payload': {'push_id': 3745061270,\n",
       "   'size': 1,\n",
       "   'distinct_size': 1,\n",
       "   'ref': 'refs/heads/master',\n",
       "   'head': '5a754526d767e23865c2151ecd6bd2633eb224b2',\n",
       "   'before': '73c8859bf87b2df82889e3236f0753afbdf7d9de',\n",
       "   'commits': [{'sha': '5a754526d767e23865c2151ecd6bd2633eb224b2',\n",
       "     'author': {'email': '51952534+bonny1996@users.noreply.github.com',\n",
       "      'name': 'bonny1996'},\n",
       "     'message': 'Test code pushed to repository.',\n",
       "     'distinct': True,\n",
       "     'url': 'https://api.github.com/repos/bonny1996/Playground/commits/5a754526d767e23865c2151ecd6bd2633eb224b2'}]},\n",
       "  'public': True,\n",
       "  'created_at': '2019-06-24T07:03:09Z'},\n",
       " {'id': '9878243046',\n",
       "  'type': 'WatchEvent',\n",
       "  'actor': {'id': 30074208,\n",
       "   'login': 'GoodbyeV',\n",
       "   'display_login': 'GoodbyeV',\n",
       "   'gravatar_id': '',\n",
       "   'url': 'https://api.github.com/users/GoodbyeV',\n",
       "   'avatar_url': 'https://avatars.githubusercontent.com/u/30074208?'},\n",
       "  'repo': {'id': 140802085,\n",
       "   'name': 'maiwenchang/ArtPlayer',\n",
       "   'url': 'https://api.github.com/repos/maiwenchang/ArtPlayer'},\n",
       "  'payload': {'action': 'started'},\n",
       "  'public': True,\n",
       "  'created_at': '2019-06-24T07:03:09Z'},\n",
       " {'id': '9878243034',\n",
       "  'type': 'CreateEvent',\n",
       "  'actor': {'id': 15212670,\n",
       "   'login': 'kameshjoshi',\n",
       "   'display_login': 'kameshjoshi',\n",
       "   'gravatar_id': '',\n",
       "   'url': 'https://api.github.com/users/kameshjoshi',\n",
       "   'avatar_url': 'https://avatars.githubusercontent.com/u/15212670?'},\n",
       "  'repo': {'id': 193444784,\n",
       "   'name': 'kameshjoshi/customer_content',\n",
       "   'url': 'https://api.github.com/repos/kameshjoshi/customer_content'},\n",
       "  'payload': {'ref': 'pagination-update',\n",
       "   'ref_type': 'branch',\n",
       "   'master_branch': 'gh-pages',\n",
       "   'description': 'Repo to host customer provided content',\n",
       "   'pusher_type': 'user'},\n",
       "  'public': True,\n",
       "  'created_at': '2019-06-24T07:03:09Z'},\n",
       " {'id': '9878243032',\n",
       "  'type': 'ForkEvent',\n",
       "  'actor': {'id': 7799657,\n",
       "   'login': 'viraj99',\n",
       "   'display_login': 'viraj99',\n",
       "   'gravatar_id': '',\n",
       "   'url': 'https://api.github.com/users/viraj99',\n",
       "   'avatar_url': 'https://avatars.githubusercontent.com/u/7799657?'},\n",
       "  'repo': {'id': 17575379,\n",
       "   'name': 'Erudika/para',\n",
       "   'url': 'https://api.github.com/repos/Erudika/para'},\n",
       "  'payload': {'forkee': {'id': 193452203,\n",
       "    'node_id': 'MDEwOlJlcG9zaXRvcnkxOTM0NTIyMDM=',\n",
       "    'name': 'para',\n",
       "    'full_name': 'viraj99/para',\n",
       "    'private': False,\n",
       "    'owner': {'login': 'viraj99',\n",
       "     'id': 7799657,\n",
       "     'node_id': 'MDQ6VXNlcjc3OTk2NTc=',\n",
       "     'avatar_url': 'https://avatars0.githubusercontent.com/u/7799657?v=4',\n",
       "     'gravatar_id': '',\n",
       "     'url': 'https://api.github.com/users/viraj99',\n",
       "     'html_url': 'https://github.com/viraj99',\n",
       "     'followers_url': 'https://api.github.com/users/viraj99/followers',\n",
       "     'following_url': 'https://api.github.com/users/viraj99/following{/other_user}',\n",
       "     'gists_url': 'https://api.github.com/users/viraj99/gists{/gist_id}',\n",
       "     'starred_url': 'https://api.github.com/users/viraj99/starred{/owner}{/repo}',\n",
       "     'subscriptions_url': 'https://api.github.com/users/viraj99/subscriptions',\n",
       "     'organizations_url': 'https://api.github.com/users/viraj99/orgs',\n",
       "     'repos_url': 'https://api.github.com/users/viraj99/repos',\n",
       "     'events_url': 'https://api.github.com/users/viraj99/events{/privacy}',\n",
       "     'received_events_url': 'https://api.github.com/users/viraj99/received_events',\n",
       "     'type': 'User',\n",
       "     'site_admin': False},\n",
       "    'html_url': 'https://github.com/viraj99/para',\n",
       "    'description': 'Open source back-end server for web, mobile and IoT. The backend for busy developers. (self-hosted or hosted)',\n",
       "    'fork': True,\n",
       "    'url': 'https://api.github.com/repos/viraj99/para',\n",
       "    'forks_url': 'https://api.github.com/repos/viraj99/para/forks',\n",
       "    'keys_url': 'https://api.github.com/repos/viraj99/para/keys{/key_id}',\n",
       "    'collaborators_url': 'https://api.github.com/repos/viraj99/para/collaborators{/collaborator}',\n",
       "    'teams_url': 'https://api.github.com/repos/viraj99/para/teams',\n",
       "    'hooks_url': 'https://api.github.com/repos/viraj99/para/hooks',\n",
       "    'issue_events_url': 'https://api.github.com/repos/viraj99/para/issues/events{/number}',\n",
       "    'events_url': 'https://api.github.com/repos/viraj99/para/events',\n",
       "    'assignees_url': 'https://api.github.com/repos/viraj99/para/assignees{/user}',\n",
       "    'branches_url': 'https://api.github.com/repos/viraj99/para/branches{/branch}',\n",
       "    'tags_url': 'https://api.github.com/repos/viraj99/para/tags',\n",
       "    'blobs_url': 'https://api.github.com/repos/viraj99/para/git/blobs{/sha}',\n",
       "    'git_tags_url': 'https://api.github.com/repos/viraj99/para/git/tags{/sha}',\n",
       "    'git_refs_url': 'https://api.github.com/repos/viraj99/para/git/refs{/sha}',\n",
       "    'trees_url': 'https://api.github.com/repos/viraj99/para/git/trees{/sha}',\n",
       "    'statuses_url': 'https://api.github.com/repos/viraj99/para/statuses/{sha}',\n",
       "    'languages_url': 'https://api.github.com/repos/viraj99/para/languages',\n",
       "    'stargazers_url': 'https://api.github.com/repos/viraj99/para/stargazers',\n",
       "    'contributors_url': 'https://api.github.com/repos/viraj99/para/contributors',\n",
       "    'subscribers_url': 'https://api.github.com/repos/viraj99/para/subscribers',\n",
       "    'subscription_url': 'https://api.github.com/repos/viraj99/para/subscription',\n",
       "    'commits_url': 'https://api.github.com/repos/viraj99/para/commits{/sha}',\n",
       "    'git_commits_url': 'https://api.github.com/repos/viraj99/para/git/commits{/sha}',\n",
       "    'comments_url': 'https://api.github.com/repos/viraj99/para/comments{/number}',\n",
       "    'issue_comment_url': 'https://api.github.com/repos/viraj99/para/issues/comments{/number}',\n",
       "    'contents_url': 'https://api.github.com/repos/viraj99/para/contents/{+path}',\n",
       "    'compare_url': 'https://api.github.com/repos/viraj99/para/compare/{base}...{head}',\n",
       "    'merges_url': 'https://api.github.com/repos/viraj99/para/merges',\n",
       "    'archive_url': 'https://api.github.com/repos/viraj99/para/{archive_format}{/ref}',\n",
       "    'downloads_url': 'https://api.github.com/repos/viraj99/para/downloads',\n",
       "    'issues_url': 'https://api.github.com/repos/viraj99/para/issues{/number}',\n",
       "    'pulls_url': 'https://api.github.com/repos/viraj99/para/pulls{/number}',\n",
       "    'milestones_url': 'https://api.github.com/repos/viraj99/para/milestones{/number}',\n",
       "    'notifications_url': 'https://api.github.com/repos/viraj99/para/notifications{?since,all,participating}',\n",
       "    'labels_url': 'https://api.github.com/repos/viraj99/para/labels{/name}',\n",
       "    'releases_url': 'https://api.github.com/repos/viraj99/para/releases{/id}',\n",
       "    'deployments_url': 'https://api.github.com/repos/viraj99/para/deployments',\n",
       "    'created_at': '2019-06-24T07:03:08Z',\n",
       "    'updated_at': '2019-06-22T13:47:28Z',\n",
       "    'pushed_at': '2019-06-22T13:47:26Z',\n",
       "    'git_url': 'git://github.com/viraj99/para.git',\n",
       "    'ssh_url': 'git@github.com:viraj99/para.git',\n",
       "    'clone_url': 'https://github.com/viraj99/para.git',\n",
       "    'svn_url': 'https://github.com/viraj99/para',\n",
       "    'homepage': 'https://paraio.org',\n",
       "    'size': 3857,\n",
       "    'stargazers_count': 0,\n",
       "    'watchers_count': 0,\n",
       "    'language': None,\n",
       "    'has_issues': False,\n",
       "    'has_projects': True,\n",
       "    'has_downloads': True,\n",
       "    'has_wiki': False,\n",
       "    'has_pages': False,\n",
       "    'forks_count': 0,\n",
       "    'mirror_url': None,\n",
       "    'archived': False,\n",
       "    'disabled': False,\n",
       "    'open_issues_count': 0,\n",
       "    'license': None,\n",
       "    'forks': 0,\n",
       "    'open_issues': 0,\n",
       "    'watchers': 0,\n",
       "    'default_branch': 'master',\n",
       "    'public': True}},\n",
       "  'public': True,\n",
       "  'created_at': '2019-06-24T07:03:08Z',\n",
       "  'org': {'id': 2795299,\n",
       "   'login': 'Erudika',\n",
       "   'gravatar_id': '',\n",
       "   'url': 'https://api.github.com/orgs/Erudika',\n",
       "   'avatar_url': 'https://avatars.githubusercontent.com/u/2795299?'}},\n",
       " {'id': '9878243031',\n",
       "  'type': 'WatchEvent',\n",
       "  'actor': {'id': 23051055,\n",
       "   'login': 'shilinliu',\n",
       "   'display_login': 'shilinliu',\n",
       "   'gravatar_id': '',\n",
       "   'url': 'https://api.github.com/users/shilinliu',\n",
       "   'avatar_url': 'https://avatars.githubusercontent.com/u/23051055?'},\n",
       "  'repo': {'id': 163507326,\n",
       "   'name': 'hijkzzz/alpha-zero-gomoku',\n",
       "   'url': 'https://api.github.com/repos/hijkzzz/alpha-zero-gomoku'},\n",
       "  'payload': {'action': 'started'},\n",
       "  'public': True,\n",
       "  'created_at': '2019-06-24T07:03:08Z'},\n",
       " {'id': '9878243020',\n",
       "  'type': 'IssuesEvent',\n",
       "  'actor': {'id': 8186664,\n",
       "   'login': 'chenshuai2144',\n",
       "   'display_login': 'chenshuai2144',\n",
       "   'gravatar_id': '',\n",
       "   'url': 'https://api.github.com/users/chenshuai2144',\n",
       "   'avatar_url': 'https://avatars.githubusercontent.com/u/8186664?'},\n",
       "  'repo': {'id': 101394335,\n",
       "   'name': 'ant-design/ant-design-pro',\n",
       "   'url': 'https://api.github.com/repos/ant-design/ant-design-pro'},\n",
       "  'payload': {'action': 'closed',\n",
       "   'issue': {'url': 'https://api.github.com/repos/ant-design/ant-design-pro/issues/4211',\n",
       "    'repository_url': 'https://api.github.com/repos/ant-design/ant-design-pro',\n",
       "    'labels_url': 'https://api.github.com/repos/ant-design/ant-design-pro/issues/4211/labels{/name}',\n",
       "    'comments_url': 'https://api.github.com/repos/ant-design/ant-design-pro/issues/4211/comments',\n",
       "    'events_url': 'https://api.github.com/repos/ant-design/ant-design-pro/issues/4211/events',\n",
       "    'html_url': 'https://github.com/ant-design/ant-design-pro/issues/4211',\n",
       "    'id': 445238000,\n",
       "    'node_id': 'MDU6SXNzdWU0NDUyMzgwMDA=',\n",
       "    'number': 4211,\n",
       "    'title': '如果CSS模块遇到冲突，在哪里单独配置css-loader?',\n",
       "    'user': {'login': 'wangchong19940101',\n",
       "     'id': 30942709,\n",
       "     'node_id': 'MDQ6VXNlcjMwOTQyNzA5',\n",
       "     'avatar_url': 'https://avatars0.githubusercontent.com/u/30942709?v=4',\n",
       "     'gravatar_id': '',\n",
       "     'url': 'https://api.github.com/users/wangchong19940101',\n",
       "     'html_url': 'https://github.com/wangchong19940101',\n",
       "     'followers_url': 'https://api.github.com/users/wangchong19940101/followers',\n",
       "     'following_url': 'https://api.github.com/users/wangchong19940101/following{/other_user}',\n",
       "     'gists_url': 'https://api.github.com/users/wangchong19940101/gists{/gist_id}',\n",
       "     'starred_url': 'https://api.github.com/users/wangchong19940101/starred{/owner}{/repo}',\n",
       "     'subscriptions_url': 'https://api.github.com/users/wangchong19940101/subscriptions',\n",
       "     'organizations_url': 'https://api.github.com/users/wangchong19940101/orgs',\n",
       "     'repos_url': 'https://api.github.com/users/wangchong19940101/repos',\n",
       "     'events_url': 'https://api.github.com/users/wangchong19940101/events{/privacy}',\n",
       "     'received_events_url': 'https://api.github.com/users/wangchong19940101/received_events',\n",
       "     'type': 'User',\n",
       "     'site_admin': False},\n",
       "    'labels': [{'id': 953938491,\n",
       "      'node_id': 'MDU6TGFiZWw5NTM5Mzg0OTE=',\n",
       "      'url': 'https://api.github.com/repos/ant-design/ant-design-pro/labels/Inactive',\n",
       "      'name': 'Inactive',\n",
       "      'color': 'ededed',\n",
       "      'default': False}],\n",
       "    'state': 'closed',\n",
       "    'locked': False,\n",
       "    'assignee': None,\n",
       "    'assignees': [],\n",
       "    'milestone': None,\n",
       "    'comments': 17,\n",
       "    'created_at': '2019-05-17T02:35:03Z',\n",
       "    'updated_at': '2019-06-24T07:03:08Z',\n",
       "    'closed_at': '2019-06-24T07:03:08Z',\n",
       "    'author_association': 'NONE',\n",
       "    'body': '比如说安装了react-monaco-editor，样式冲突了，如下图\\r\\n\\r\\n![image](https://user-images.githubusercontent.com/30942709/57899367-54361e00-788f-11e9-8ab7-c91114a87416.png)\\r\\n'}},\n",
       "  'public': True,\n",
       "  'created_at': '2019-06-24T07:03:08Z',\n",
       "  'org': {'id': 12101536,\n",
       "   'login': 'ant-design',\n",
       "   'gravatar_id': '',\n",
       "   'url': 'https://api.github.com/orgs/ant-design',\n",
       "   'avatar_url': 'https://avatars.githubusercontent.com/u/12101536?'}},\n",
       " {'id': '9878243017',\n",
       "  'type': 'WatchEvent',\n",
       "  'actor': {'id': 29880901,\n",
       "   'login': 'abhi-infrrd',\n",
       "   'display_login': 'abhi-infrrd',\n",
       "   'gravatar_id': '',\n",
       "   'url': 'https://api.github.com/users/abhi-infrrd',\n",
       "   'avatar_url': 'https://avatars.githubusercontent.com/u/29880901?'},\n",
       "  'repo': {'id': 51181211,\n",
       "   'name': 'gibsjose/cpp-cheat-sheet',\n",
       "   'url': 'https://api.github.com/repos/gibsjose/cpp-cheat-sheet'},\n",
       "  'payload': {'action': 'started'},\n",
       "  'public': True,\n",
       "  'created_at': '2019-06-24T07:03:08Z'},\n",
       " {'id': '9878243014',\n",
       "  'type': 'PushEvent',\n",
       "  'actor': {'id': 46935889,\n",
       "   'login': 'triforcecoin-slave-0',\n",
       "   'display_login': 'triforcecoin-slave-0',\n",
       "   'gravatar_id': '',\n",
       "   'url': 'https://api.github.com/users/triforcecoin-slave-0',\n",
       "   'avatar_url': 'https://avatars.githubusercontent.com/u/46935889?'},\n",
       "  'repo': {'id': 157304730,\n",
       "   'name': 'triforcecoin/triforcecoin',\n",
       "   'url': 'https://api.github.com/repos/triforcecoin/triforcecoin'},\n",
       "  'payload': {'push_id': 3745061242,\n",
       "   'size': 1,\n",
       "   'distinct_size': 1,\n",
       "   'ref': 'refs/heads/master',\n",
       "   'head': 'fc113724025fd7db650d434e6c3ec1f8443159c5',\n",
       "   'before': '3ece1f6d69eea204c78b25dc18426a7d16ef3204',\n",
       "   'commits': [{'sha': 'fc113724025fd7db650d434e6c3ec1f8443159c5',\n",
       "     'author': {'email': '46935889+triforcecoin-slave-0@users.noreply.github.com',\n",
       "      'name': 'triforcecoin-slave-0'},\n",
       "     'message': 'update coinInfo values',\n",
       "     'distinct': True,\n",
       "     'url': 'https://api.github.com/repos/triforcecoin/triforcecoin/commits/fc113724025fd7db650d434e6c3ec1f8443159c5'}]},\n",
       "  'public': True,\n",
       "  'created_at': '2019-06-24T07:03:08Z'},\n",
       " {'id': '9878243008',\n",
       "  'type': 'PushEvent',\n",
       "  'actor': {'id': 34388743,\n",
       "   'login': 'paulkatsoulakis',\n",
       "   'display_login': 'paulkatsoulakis',\n",
       "   'gravatar_id': '',\n",
       "   'url': 'https://api.github.com/users/paulkatsoulakis',\n",
       "   'avatar_url': 'https://avatars.githubusercontent.com/u/34388743?'},\n",
       "  'repo': {'id': 172727570,\n",
       "   'name': 'paulkatsoulakis/netdata',\n",
       "   'url': 'https://api.github.com/repos/paulkatsoulakis/netdata'},\n",
       "  'payload': {'push_id': 3745061244,\n",
       "   'size': 1,\n",
       "   'distinct_size': 1,\n",
       "   'ref': 'refs/heads/binary-packages-specfile-cleanup',\n",
       "   'head': 'cb7ef7279a0329cf250d35d9f11cdd983ae9c803',\n",
       "   'before': '618d45be1e5e5f39e85ac056dcbb3338a3111c9d',\n",
       "   'commits': [{'sha': 'cb7ef7279a0329cf250d35d9f11cdd983ae9c803',\n",
       "     'author': {'email': 'paul@netdata.rocks',\n",
       "      'name': 'Paul Emm. Katsoulakis'},\n",
       "     'message': 'netdata/packaging: [ci skip] Set up rpm version string depending on whether we are on latest or not',\n",
       "     'distinct': True,\n",
       "     'url': 'https://api.github.com/repos/paulkatsoulakis/netdata/commits/cb7ef7279a0329cf250d35d9f11cdd983ae9c803'}]},\n",
       "  'public': True,\n",
       "  'created_at': '2019-06-24T07:03:08Z'}]"
      ]
     },
     "execution_count": 56,
     "metadata": {},
     "output_type": "execute_result"
    }
   ],
   "source": [
    "r = requests.get('https://api.github.com/events')\n",
    "r.json()"
   ]
  },
  {
   "cell_type": "markdown",
   "metadata": {},
   "source": [
    "It should be noted that the success of the call to r.json() does not indicate the success of the response. Some servers may return a JSON object in a failed response (e.g. error details with HTTP 500). Such JSON will be decoded and returned. To check that a request is successful, use r.raise_for_status() or check r.status_code is what you expect."
   ]
  },
  {
   "cell_type": "code",
   "execution_count": 57,
   "metadata": {},
   "outputs": [
    {
     "data": {
      "text/plain": [
       "200"
      ]
     },
     "execution_count": 57,
     "metadata": {},
     "output_type": "execute_result"
    }
   ],
   "source": [
    "r.status_code"
   ]
  },
  {
   "cell_type": "markdown",
   "metadata": {},
   "source": [
    "<h5>Raw Response Content</h5>"
   ]
  },
  {
   "cell_type": "code",
   "execution_count": 58,
   "metadata": {},
   "outputs": [
    {
     "data": {
      "text/plain": [
       "b'\\x1f\\x8b\\x08\\x00\\x00\\x00\\x00\\x00\\x00\\x03'"
      ]
     },
     "execution_count": 58,
     "metadata": {},
     "output_type": "execute_result"
    }
   ],
   "source": [
    "r = requests.get('https://api.github.com/events', stream=True)\n",
    "r.raw\n",
    "r.raw.read(10)"
   ]
  },
  {
   "cell_type": "markdown",
   "metadata": {},
   "source": [
    "Using Response.iter_content will handle a lot of what that we would otherwise have to handle when using Response.raw directly. When streaming a download, the above is the preferred and recommended way to retrieve the content.<strong> Response.iter_content will automatically decode the gzip and deflate transfer-encodings. Response.raw is a raw stream of bytes – it does not transform the response content. If you really need access to the bytes as they were returned, use Response.raw.</strong>"
   ]
  },
  {
   "cell_type": "code",
   "execution_count": 59,
   "metadata": {},
   "outputs": [],
   "source": [
    "# with open(filename, 'wb') as fd:\n",
    "#     for chunk in r.iter_content(chunk_size=128):\n",
    "#         fd.write(chunk)"
   ]
  },
  {
   "cell_type": "markdown",
   "metadata": {},
   "source": [
    "<h5>Custom Headers"
   ]
  },
  {
   "cell_type": "code",
   "execution_count": 60,
   "metadata": {},
   "outputs": [
    {
     "data": {
      "text/plain": [
       "<urllib3.response.HTTPResponse at 0x1ca57671c88>"
      ]
     },
     "execution_count": 60,
     "metadata": {},
     "output_type": "execute_result"
    }
   ],
   "source": [
    "url = 'https://api.github.com/some/endpoint'\n",
    "headers = {'user-agent': 'my-app/0.0.1'}\n",
    "r = requests.get(url, headers=headers,stream = True)\n",
    "r.raw"
   ]
  },
  {
   "cell_type": "markdown",
   "metadata": {},
   "source": [
    "<h5>More complicated POST requests</h5>\n",
    "Typically, we want to send some form-encoded data — much like an HTML form. To do this, simply pass a dictionary to the data argument. Your dictionary of data will automatically be form-encoded when the request is made:"
   ]
  },
  {
   "cell_type": "code",
   "execution_count": 61,
   "metadata": {},
   "outputs": [
    {
     "name": "stdout",
     "output_type": "stream",
     "text": [
      "{\n",
      "  \"args\": {}, \n",
      "  \"data\": \"\", \n",
      "  \"files\": {}, \n",
      "  \"form\": {\n",
      "    \"key1\": \"value1\", \n",
      "    \"key2\": \"value2\"\n",
      "  }, \n",
      "  \"headers\": {\n",
      "    \"Accept\": \"*/*\", \n",
      "    \"Accept-Encoding\": \"gzip, deflate\", \n",
      "    \"Content-Length\": \"23\", \n",
      "    \"Content-Type\": \"application/x-www-form-urlencoded\", \n",
      "    \"Host\": \"httpbin.org\", \n",
      "    \"User-Agent\": \"python-requests/2.21.0\"\n",
      "  }, \n",
      "  \"json\": null, \n",
      "  \"origin\": \"106.222.241.12, 106.222.241.12\", \n",
      "  \"url\": \"https://httpbin.org/post\"\n",
      "}\n",
      "\n",
      "https://httpbin.org/post\n"
     ]
    }
   ],
   "source": [
    "payload = {'key1': 'value1', 'key2': 'value2'}\n",
    "r = requests.post(\"https://httpbin.org/post\", data=payload)\n",
    "print(r.text)\n",
    "print(r.url)"
   ]
  },
  {
   "cell_type": "markdown",
   "metadata": {},
   "source": [
    "The data argument can also have multiple values for each key. This can be done by making data either a list of tuples or a dictionary with lists as values. This is particularly useful when the form has multiple elements that use the same key:"
   ]
  },
  {
   "cell_type": "code",
   "execution_count": 68,
   "metadata": {},
   "outputs": [
    {
     "name": "stdout",
     "output_type": "stream",
     "text": [
      "{\n",
      "  \"args\": {}, \n",
      "  \"data\": \"\", \n",
      "  \"files\": {}, \n",
      "  \"form\": {\n",
      "    \"key1\": [\n",
      "      \"value1\", \n",
      "      \"value2\"\n",
      "    ]\n",
      "  }, \n",
      "  \"headers\": {\n",
      "    \"Accept\": \"*/*\", \n",
      "    \"Accept-Encoding\": \"gzip, deflate\", \n",
      "    \"Content-Length\": \"23\", \n",
      "    \"Content-Type\": \"application/x-www-form-urlencoded\", \n",
      "    \"Host\": \"httpbin.org\", \n",
      "    \"User-Agent\": \"python-requests/2.21.0\"\n",
      "  }, \n",
      "  \"json\": null, \n",
      "  \"origin\": \"106.222.139.194, 106.222.139.194\", \n",
      "  \"url\": \"https://httpbin.org/post\"\n",
      "}\n",
      "\n"
     ]
    }
   ],
   "source": [
    "payload_tuples = [('key1', 'value1'), ('key1', 'value2')]\n",
    "r1 = requests.post('https://httpbin.org/post', data=payload_tuples)\n",
    "payload_dict = {'key1': ['value1', 'value2']}\n",
    "r2 = requests.post('https://httpbin.org/post', data=payload_dict)\n",
    "print(r2.text)"
   ]
  },
  {
   "cell_type": "markdown",
   "metadata": {},
   "source": [
    "<h5>POST a Multipart-Encoded File</h5>We can do in this way"
   ]
  },
  {
   "cell_type": "code",
   "execution_count": 69,
   "metadata": {},
   "outputs": [],
   "source": [
    "# url = 'https://httpbin.org/post'\n",
    "# files = {'file': open('report.xls', 'rb')}\n",
    "# r = requests.post(url, files=files)\n",
    "# r.text"
   ]
  },
  {
   "cell_type": "markdown",
   "metadata": {},
   "source": [
    "We can set the filename,content_type and headers explicitly"
   ]
  },
  {
   "cell_type": "code",
   "execution_count": 70,
   "metadata": {},
   "outputs": [],
   "source": [
    "# url = 'https://httpbin.org/post'\n",
    "# files = {'file': ('report.xls', open('report.xls', 'rb'), 'application/vnd.ms-excel', {'Expires': '0'})}\n",
    "# r = requests.post(url, files=files)\n",
    "# r.text"
   ]
  },
  {
   "cell_type": "markdown",
   "metadata": {},
   "source": [
    "We can also send strings to be received as files\n"
   ]
  },
  {
   "cell_type": "code",
   "execution_count": 71,
   "metadata": {},
   "outputs": [
    {
     "data": {
      "text/plain": [
       "'{\\n  \"args\": {}, \\n  \"data\": \"\", \\n  \"files\": {\\n    \"file\": \"some,data,to,send\\\\nanother,row,to,send\\\\n\"\\n  }, \\n  \"form\": {}, \\n  \"headers\": {\\n    \"Accept\": \"*/*\", \\n    \"Accept-Encoding\": \"gzip, deflate\", \\n    \"Content-Length\": \"184\", \\n    \"Content-Type\": \"multipart/form-data; boundary=69f245642dac47c1e1572dcc861f6406\", \\n    \"Host\": \"httpbin.org\", \\n    \"User-Agent\": \"python-requests/2.21.0\"\\n  }, \\n  \"json\": null, \\n  \"origin\": \"106.222.202.242, 106.222.202.242\", \\n  \"url\": \"https://httpbin.org/post\"\\n}\\n'"
      ]
     },
     "execution_count": 71,
     "metadata": {},
     "output_type": "execute_result"
    }
   ],
   "source": [
    "url = 'https://httpbin.org/post'\n",
    "files = {'file': ('report.csv', 'some,data,to,send\\nanother,row,to,send\\n')}\n",
    "r = requests.post(url, files=files)\n",
    "r.text"
   ]
  },
  {
   "cell_type": "markdown",
   "metadata": {},
   "source": [
    "<h5>Response Headers</h5>"
   ]
  },
  {
   "cell_type": "code",
   "execution_count": 72,
   "metadata": {},
   "outputs": [
    {
     "data": {
      "text/plain": [
       "{'Access-Control-Allow-Credentials': 'true', 'Access-Control-Allow-Origin': '*', 'Content-Encoding': 'gzip', 'Content-Type': 'application/json', 'Date': 'Mon, 24 Jun 2019 07:15:39 GMT', 'Referrer-Policy': 'no-referrer-when-downgrade', 'Server': 'nginx', 'X-Content-Type-Options': 'nosniff', 'X-Frame-Options': 'DENY', 'X-XSS-Protection': '1; mode=block', 'Content-Length': '306', 'Connection': 'keep-alive'}"
      ]
     },
     "execution_count": 72,
     "metadata": {},
     "output_type": "execute_result"
    }
   ],
   "source": [
    "r.headers"
   ]
  },
  {
   "cell_type": "markdown",
   "metadata": {},
   "source": [
    "HTTP Header names are case-insensitive.So, we can access the headers using any capitalization we want:"
   ]
  },
  {
   "cell_type": "code",
   "execution_count": 73,
   "metadata": {},
   "outputs": [
    {
     "data": {
      "text/plain": [
       "'application/json'"
      ]
     },
     "execution_count": 73,
     "metadata": {},
     "output_type": "execute_result"
    }
   ],
   "source": [
    " r.headers['Content-Type']"
   ]
  },
  {
   "cell_type": "code",
   "execution_count": 74,
   "metadata": {},
   "outputs": [
    {
     "data": {
      "text/plain": [
       "'application/json'"
      ]
     },
     "execution_count": 74,
     "metadata": {},
     "output_type": "execute_result"
    }
   ],
   "source": [
    "r.headers.get('content-type')"
   ]
  },
  {
   "cell_type": "markdown",
   "metadata": {},
   "source": [
    "<h5>Cookies: </h5>If a response contains some Cookies, you can quickly access them:"
   ]
  },
  {
   "cell_type": "code",
   "execution_count": 75,
   "metadata": {},
   "outputs": [
    {
     "data": {
      "text/plain": [
       "<RequestsCookieJar[]>"
      ]
     },
     "execution_count": 75,
     "metadata": {},
     "output_type": "execute_result"
    }
   ],
   "source": [
    "url = 'http://example.com/some/cookie/setting/url'\n",
    "r = requests.get(url)\n",
    "r.cookies"
   ]
  },
  {
   "cell_type": "markdown",
   "metadata": {},
   "source": [
    "To send your own cookies to the server, you can use the cookies parameter:"
   ]
  },
  {
   "cell_type": "code",
   "execution_count": 76,
   "metadata": {},
   "outputs": [
    {
     "data": {
      "text/plain": [
       "'{\\n  \"cookies\": {\\n    \"cookies_are\": \"working\"\\n  }\\n}\\n'"
      ]
     },
     "execution_count": 76,
     "metadata": {},
     "output_type": "execute_result"
    }
   ],
   "source": [
    "url = 'https://httpbin.org/cookies'\n",
    "cookies = dict(cookies_are='working')\n",
    "r = requests.get(url, cookies=cookies)\n",
    "r.text"
   ]
  },
  {
   "cell_type": "markdown",
   "metadata": {},
   "source": [
    "Cookies are returned in a RequestsCookieJar, which acts like a dict but also offers a more complete interface, suitable for use over multiple domains or paths. Cookie jars can also be passed in to requests:"
   ]
  },
  {
   "cell_type": "code",
   "execution_count": 77,
   "metadata": {},
   "outputs": [
    {
     "data": {
      "text/plain": [
       "'{\\n  \"cookies\": {\\n    \"tasty_cookie\": \"yum\"\\n  }\\n}\\n'"
      ]
     },
     "execution_count": 77,
     "metadata": {},
     "output_type": "execute_result"
    }
   ],
   "source": [
    "jar = requests.cookies.RequestsCookieJar()\n",
    "jar.set('tasty_cookie', 'yum', domain='httpbin.org', path='/cookies')\n",
    "jar.set('gross_cookie', 'blech', domain='httpbin.org', path='/elsewhere')\n",
    "url = 'https://httpbin.org/cookies'\n",
    "r = requests.get(url, cookies=jar)\n",
    "r.text"
   ]
  },
  {
   "cell_type": "code",
   "execution_count": 78,
   "metadata": {},
   "outputs": [
    {
     "data": {
      "text/plain": [
       "[]"
      ]
     },
     "execution_count": 78,
     "metadata": {},
     "output_type": "execute_result"
    }
   ],
   "source": [
    "r.history"
   ]
  },
  {
   "cell_type": "markdown",
   "metadata": {},
   "source": [
    "<h3>Beautiful soup</h3>Beautiful Soup is a Python library for pulling data out of HTML and XML files. It works with our favorite parser to provide idiomatic ways of navigating, searching, and modifying the parse tree. It commonly saves programmers hours or days of work.<br><br> I’ll be using as an example throughout this document."
   ]
  },
  {
   "cell_type": "markdown",
   "metadata": {},
   "source": [
    "html_doc = \"\"\"\n",
    "<html><head><title>The Dormouse's story</title></head>\n",
    "<body>\n",
    "<p class=\"title\"><b>The Dormouse's story</b></p>\n",
    "\n",
    "<p class=\"story\">Once upon a time there were three little sisters; and their names were\n",
    "<a href=\"http://example.com/elsie\" class=\"sister\" id=\"link1\">Elsie</a>,\n",
    "<a href=\"http://example.com/lacie\" class=\"sister\" id=\"link2\">Lacie</a> and\n",
    "<a href=\"http://example.com/tillie\" class=\"sister\" id=\"link3\">Tillie</a>;\n",
    "and they lived at the bottom of a well.</p>\n",
    "\n",
    "<p class=\"story\">...</p>\n",
    "\"\"\""
   ]
  },
  {
   "cell_type": "code",
   "execution_count": 92,
   "metadata": {},
   "outputs": [
    {
     "name": "stdout",
     "output_type": "stream",
     "text": [
      "html_doc = \"\"\"\n",
      "<html>\n",
      " <head>\n",
      "  <title>\n",
      "   The Dormouse's story\n",
      "  </title>\n",
      " </head>\n",
      " <body>\n",
      "  <p class=\"title\">\n",
      "   <b>\n",
      "    The Dormouse's story\n",
      "   </b>\n",
      "  </p>\n",
      "  <p class=\"story\">\n",
      "   Once upon a time there were three little sisters; and their names were\n",
      "   <a class=\"sister\" href=\"http://example.com/elsie\" id=\"link1\">\n",
      "    Elsie\n",
      "   </a>\n",
      "   ,\n",
      "   <a class=\"sister\" href=\"http://example.com/lacie\" id=\"link2\">\n",
      "    Lacie\n",
      "   </a>\n",
      "   and\n",
      "   <a class=\"sister\" href=\"http://example.com/tillie\" id=\"link3\">\n",
      "    Tillie\n",
      "   </a>\n",
      "   ;\n",
      "and they lived at the bottom of a well.\n",
      "  </p>\n",
      "  <p class=\"story\">\n",
      "   ...\n",
      "  </p>\n",
      "  \"\"\"\n",
      " </body>\n",
      "</html>\n"
     ]
    }
   ],
   "source": [
    "from bs4 import BeautifulSoup\n",
    "html_report_part1 = open('html_doc.txt','r').read()\n",
    "soup = BeautifulSoup(html_report_part1, \"html.parser\")\n",
    "print(soup.prettify())\n"
   ]
  },
  {
   "cell_type": "code",
   "execution_count": 94,
   "metadata": {},
   "outputs": [
    {
     "data": {
      "text/plain": [
       "<p class=\"title\"><b>The Dormouse's story</b></p>"
      ]
     },
     "execution_count": 94,
     "metadata": {},
     "output_type": "execute_result"
    }
   ],
   "source": [
    "soup.p\n"
   ]
  },
  {
   "cell_type": "code",
   "execution_count": 95,
   "metadata": {},
   "outputs": [
    {
     "data": {
      "text/plain": [
       "<a class=\"sister\" href=\"http://example.com/elsie\" id=\"link1\">Elsie</a>"
      ]
     },
     "execution_count": 95,
     "metadata": {},
     "output_type": "execute_result"
    }
   ],
   "source": [
    "soup.a\n"
   ]
  },
  {
   "cell_type": "code",
   "execution_count": 96,
   "metadata": {},
   "outputs": [
    {
     "data": {
      "text/plain": [
       "[<a class=\"sister\" href=\"http://example.com/elsie\" id=\"link1\">Elsie</a>,\n",
       " <a class=\"sister\" href=\"http://example.com/lacie\" id=\"link2\">Lacie</a>,\n",
       " <a class=\"sister\" href=\"http://example.com/tillie\" id=\"link3\">Tillie</a>]"
      ]
     },
     "execution_count": 96,
     "metadata": {},
     "output_type": "execute_result"
    }
   ],
   "source": [
    "soup.find_all('a')\n"
   ]
  },
  {
   "cell_type": "code",
   "execution_count": 97,
   "metadata": {},
   "outputs": [
    {
     "name": "stdout",
     "output_type": "stream",
     "text": [
      "http://example.com/elsie\n",
      "http://example.com/lacie\n",
      "http://example.com/tillie\n"
     ]
    }
   ],
   "source": [
    "for link in soup.find_all('a'):\n",
    "    print(link.get('href'))"
   ]
  },
  {
   "cell_type": "code",
   "execution_count": 98,
   "metadata": {},
   "outputs": [
    {
     "name": "stdout",
     "output_type": "stream",
     "text": [
      "html_doc = \"\"\"\n",
      "The Dormouse's story\n",
      "\n",
      "The Dormouse's story\n",
      "Once upon a time there were three little sisters; and their names were\n",
      "Elsie,\n",
      "Lacie and\n",
      "Tillie;\n",
      "and they lived at the bottom of a well.\n",
      "...\n",
      "\"\"\"\n"
     ]
    }
   ],
   "source": [
    "print(soup.get\n",
    "      _text())"
   ]
  },
  {
   "cell_type": "markdown",
   "metadata": {},
   "source": [
    "<h4>Making the soup</h4>"
   ]
  },
  {
   "cell_type": "code",
   "execution_count": 101,
   "metadata": {},
   "outputs": [
    {
     "data": {
      "text/plain": [
       "<html><body><p>data</p></body></html>"
      ]
     },
     "execution_count": 101,
     "metadata": {},
     "output_type": "execute_result"
    }
   ],
   "source": [
    "from bs4 import BeautifulSoup\n",
    "\n",
    "with open(\"index.html\") as fp:\n",
    "    soup = BeautifulSoup(fp)\n",
    "\n",
    "soup = BeautifulSoup(\"<html>data</html>\")\n",
    "soup"
   ]
  },
  {
   "cell_type": "markdown",
   "metadata": {},
   "source": [
    "First, the document is converted to Unicode, and HTML entities are converted to unicode characters:"
   ]
  },
  {
   "cell_type": "code",
   "execution_count": 103,
   "metadata": {},
   "outputs": [
    {
     "data": {
      "text/plain": [
       "<html><body><p>Sacré bleu!</p></body></html>"
      ]
     },
     "execution_count": 103,
     "metadata": {},
     "output_type": "execute_result"
    }
   ],
   "source": [
    "BeautifulSoup(\"Sacr&eacute; bleu!\")"
   ]
  },
  {
   "cell_type": "markdown",
   "metadata": {},
   "source": [
    "Beautiful Soup then parses the document using the best available parser. It will use an HTML parser unless you specifically tell it to use an XML parser."
   ]
  },
  {
   "cell_type": "markdown",
   "metadata": {},
   "source": [
    "<h3>Kinds of object</h3>Beautiful Soup transforms a complex HTML document into a complex tree of Python objects. But you’ll only ever have to deal with about four kinds of objects:<br> 1: Tag<br> 2: NavigableString<br>3: BeautifulSoup<br>4:Comment."
   ]
  },
  {
   "cell_type": "markdown",
   "metadata": {},
   "source": [
    "<h4>Tag</h4>A Tag object corresponds to an XML or HTML tag in the original document:"
   ]
  },
  {
   "cell_type": "code",
   "execution_count": 104,
   "metadata": {},
   "outputs": [
    {
     "data": {
      "text/plain": [
       "bs4.element.Tag"
      ]
     },
     "execution_count": 104,
     "metadata": {},
     "output_type": "execute_result"
    }
   ],
   "source": [
    "soup = BeautifulSoup('<b class=\"boldest\">Extremely bold</b>')\n",
    "tag = soup.b\n",
    "type(tag)"
   ]
  },
  {
   "cell_type": "markdown",
   "metadata": {},
   "source": [
    " The most important features of a tag are its <strong>name</strong> and <strong>attributes</strong>."
   ]
  },
  {
   "cell_type": "markdown",
   "metadata": {},
   "source": [
    "<h4>Name</h4> Every tag has a name, accessible as .name:\n",
    "\n"
   ]
  },
  {
   "cell_type": "code",
   "execution_count": 105,
   "metadata": {},
   "outputs": [
    {
     "data": {
      "text/plain": [
       "'b'"
      ]
     },
     "execution_count": 105,
     "metadata": {},
     "output_type": "execute_result"
    }
   ],
   "source": [
    "tag.name"
   ]
  },
  {
   "cell_type": "markdown",
   "metadata": {},
   "source": [
    "If you change a tag’s name, the change will be reflected in any HTML markup generated by Beautiful Soup:"
   ]
  },
  {
   "cell_type": "code",
   "execution_count": 107,
   "metadata": {},
   "outputs": [
    {
     "data": {
      "text/plain": [
       "<blockquote class=\"boldest\">Extremely bold</blockquote>"
      ]
     },
     "execution_count": 107,
     "metadata": {},
     "output_type": "execute_result"
    }
   ],
   "source": [
    "tag.name = \"blockquote\"\n",
    "tag"
   ]
  },
  {
   "cell_type": "markdown",
   "metadata": {},
   "source": [
    "<h4>Atrribute</h4>A tag may have any number of attributes. The tag <b id=\"boldest\"> has an attribute “id” whose value is “boldest”. "
   ]
  },
  {
   "cell_type": "code",
   "execution_count": 111,
   "metadata": {},
   "outputs": [
    {
     "data": {
      "text/plain": [
       "{'class': ['boldest']}"
      ]
     },
     "execution_count": 111,
     "metadata": {},
     "output_type": "execute_result"
    }
   ],
   "source": [
    "tag.attrs"
   ]
  },
  {
   "cell_type": "markdown",
   "metadata": {},
   "source": [
    "We can add, remove, and modify a tag’s attributes.This is done by treating the tag as a dictionary:"
   ]
  },
  {
   "cell_type": "code",
   "execution_count": 112,
   "metadata": {},
   "outputs": [
    {
     "data": {
      "text/plain": [
       "<blockquote another-attribute=\"1\" class=\"boldest\" id=\"verybold\">Extremely bold</blockquote>"
      ]
     },
     "execution_count": 112,
     "metadata": {},
     "output_type": "execute_result"
    }
   ],
   "source": [
    "tag['id'] = 'verybold'\n",
    "tag['another-attribute'] = 1\n",
    "tag"
   ]
  },
  {
   "cell_type": "code",
   "execution_count": 113,
   "metadata": {},
   "outputs": [
    {
     "data": {
      "text/plain": [
       "<blockquote class=\"boldest\">Extremely bold</blockquote>"
      ]
     },
     "execution_count": 113,
     "metadata": {},
     "output_type": "execute_result"
    }
   ],
   "source": [
    "del tag['id']\n",
    "del tag['another-attribute']\n",
    "tag"
   ]
  },
  {
   "cell_type": "markdown",
   "metadata": {},
   "source": [
    "<h4>Multi-valued attributes</h4>HTML 4 defines a few attributes that can have multiple values. HTML 5 removes a couple of them, but defines a few more. The most common multi-valued attribute is class (that is, a tag can have more than one CSS class). Others include rel, rev, accept-charset, headers, and accesskey. Beautiful Soup presents the value(s) of a multi-valued attribute as a list:"
   ]
  },
  {
   "cell_type": "code",
   "execution_count": 115,
   "metadata": {},
   "outputs": [
    {
     "data": {
      "text/plain": [
       "['body']"
      ]
     },
     "execution_count": 115,
     "metadata": {},
     "output_type": "execute_result"
    }
   ],
   "source": [
    "css_soup = BeautifulSoup('<p class=\"body\"></p>')\n",
    "css_soup.p['class']"
   ]
  },
  {
   "cell_type": "markdown",
   "metadata": {},
   "source": [
    "When you turn a tag back into a string, multiple attribute values are consolidated:"
   ]
  },
  {
   "cell_type": "code",
   "execution_count": 117,
   "metadata": {},
   "outputs": [
    {
     "name": "stdout",
     "output_type": "stream",
     "text": [
      "['index']\n",
      "<p>Back to the <a rel=\"index contents\">homepage</a></p>\n"
     ]
    }
   ],
   "source": [
    "rel_soup = BeautifulSoup('<p>Back to the <a rel=\"index\">homepage</a></p>')\n",
    "print(rel_soup.a['rel'])\n",
    "rel_soup.a['rel'] = ['index', 'contents']\n",
    "print(rel_soup.p)"
   ]
  },
  {
   "cell_type": "markdown",
   "metadata": {},
   "source": [
    "<h4>Navigable string</h4>A string corresponds to a bit of text within a tag. Beautiful Soup uses the NavigableString class to contain these bits of text:"
   ]
  },
  {
   "cell_type": "code",
   "execution_count": 119,
   "metadata": {},
   "outputs": [
    {
     "data": {
      "text/plain": [
       "'Extremely bold'"
      ]
     },
     "execution_count": 119,
     "metadata": {},
     "output_type": "execute_result"
    }
   ],
   "source": [
    "tag.string"
   ]
  },
  {
   "cell_type": "code",
   "execution_count": 120,
   "metadata": {},
   "outputs": [
    {
     "data": {
      "text/plain": [
       "bs4.element.NavigableString"
      ]
     },
     "execution_count": 120,
     "metadata": {},
     "output_type": "execute_result"
    }
   ],
   "source": [
    "type(tag.string)"
   ]
  },
  {
   "cell_type": "markdown",
   "metadata": {},
   "source": [
    "We can’t edit a string in place, but we can replace one string with another, using replace_with():"
   ]
  },
  {
   "cell_type": "code",
   "execution_count": 126,
   "metadata": {},
   "outputs": [
    {
     "data": {
      "text/plain": [
       "<blockquote class=\"boldest\">No longer bold</blockquote>"
      ]
     },
     "execution_count": 126,
     "metadata": {},
     "output_type": "execute_result"
    }
   ],
   "source": [
    "tag.string.replace_with(\"No longer bold\")\n",
    "tag"
   ]
  },
  {
   "cell_type": "markdown",
   "metadata": {},
   "source": [
    "<b>If we want to use a NavigableString outside of Beautiful Soup, we should call unicode() on it to turn it into a normal Python Unicode string. If we don’t, our string will carry around a reference to the entire Beautiful Soup parse tree, even when we’re done using Beautiful Soup. This is a big waste of memory.</b>"
   ]
  },
  {
   "cell_type": "markdown",
   "metadata": {},
   "source": [
    "<h4>BeautifulSoup</h4>Since the BeautifulSoup object doesn’t correspond to an actual HTML or XML tag, it has no name and no attributes. But sometimes it’s useful to look at its .name, so it’s been given the special .name"
   ]
  },
  {
   "cell_type": "code",
   "execution_count": 127,
   "metadata": {},
   "outputs": [
    {
     "data": {
      "text/plain": [
       "'[document]'"
      ]
     },
     "execution_count": 127,
     "metadata": {},
     "output_type": "execute_result"
    }
   ],
   "source": [
    "soup.name"
   ]
  },
  {
   "cell_type": "markdown",
   "metadata": {},
   "source": [
    "<h4>Comments and other special strings</h4>"
   ]
  },
  {
   "cell_type": "code",
   "execution_count": 133,
   "metadata": {},
   "outputs": [
    {
     "name": "stdout",
     "output_type": "stream",
     "text": [
      "<html><body><b><!--Hey, buddy. Want to buy a used parser?--></b></body></html>\n",
      "Hey, buddy. Want to buy a used parser?\n",
      "<b>\n",
      " <!--Hey, buddy. Want to buy a used parser?-->\n",
      "</b>\n"
     ]
    }
   ],
   "source": [
    "markup = \"<b><!--Hey, buddy. Want to buy a used parser?--></b>\"\n",
    "soup = BeautifulSoup(markup)\n",
    "print(soup)\n",
    "comment = soup.b.string\n",
    "print(comment)\n",
    "type(comment)\n",
    "print(soup.b.prettify())"
   ]
  },
  {
   "cell_type": "code",
   "execution_count": 134,
   "metadata": {},
   "outputs": [
    {
     "name": "stdout",
     "output_type": "stream",
     "text": [
      "<b>\n",
      " <![CDATA[A CDATA block]]>\n",
      "</b>\n"
     ]
    }
   ],
   "source": [
    "from bs4 import CData\n",
    "cdata = CData(\"A CDATA block\")\n",
    "comment.replace_with(cdata)\n",
    "\n",
    "print(soup.b.prettify())"
   ]
  },
  {
   "cell_type": "markdown",
   "metadata": {},
   "source": [
    "<h3>Selenium</h3>Unlike Requests/Beautiful Soup, Selenium opens a visible browser window when we run the code. It can be used to simulate mouse clicks and key presses, as well as select elements of the page. One of the main use cases for this library is testing a website during development."
   ]
  },
  {
   "cell_type": "markdown",
   "metadata": {},
   "source": [
    "<b>The selenium.webdriver module provides all the WebDriver implementations. Currently supported WebDriver implementations are Firefox, Chrome, IE and Remote. The Keys class provide keys in the keyboard like RETURN, F1, ALT etc.</b>"
   ]
  },
  {
   "cell_type": "code",
   "execution_count": 60,
   "metadata": {},
   "outputs": [],
   "source": [
    "from selenium import webdriver\n",
    "from selenium.webdriver.common.keys import Keys"
   ]
  },
  {
   "cell_type": "markdown",
   "metadata": {},
   "source": [
    "Next, the instance of Firefox WebDriver is created."
   ]
  },
  {
   "cell_type": "code",
   "execution_count": 61,
   "metadata": {},
   "outputs": [],
   "source": [
    "driver = webdriver.Chrome()"
   ]
  },
  {
   "cell_type": "markdown",
   "metadata": {},
   "source": [
    "The driver.get method will navigate to a page given by the URL. WebDriver will wait until the page has fully loaded before returning control to script. "
   ]
  },
  {
   "cell_type": "code",
   "execution_count": 62,
   "metadata": {},
   "outputs": [],
   "source": [
    "driver.get(\"http://www.python.org\")"
   ]
  },
  {
   "cell_type": "markdown",
   "metadata": {},
   "source": [
    "The next line is an assertion to confirm that title has “Python” word in it:"
   ]
  },
  {
   "cell_type": "code",
   "execution_count": 63,
   "metadata": {},
   "outputs": [],
   "source": [
    "assert \"Python\" in driver.title"
   ]
  },
  {
   "cell_type": "markdown",
   "metadata": {},
   "source": [
    "WebDriver offers a number of ways to find elements using one of the find_element_by_* methods."
   ]
  },
  {
   "cell_type": "code",
   "execution_count": 64,
   "metadata": {},
   "outputs": [],
   "source": [
    "elem = driver.find_element_by_name(\"q\")"
   ]
  },
  {
   "cell_type": "markdown",
   "metadata": {},
   "source": [
    "Next, we are sending keys, this is similar to entering keys using our keyboard. Special keys can be sent using Keys class imported from selenium.webdriver.common.keys. "
   ]
  },
  {
   "cell_type": "code",
   "execution_count": 65,
   "metadata": {},
   "outputs": [],
   "source": [
    "elem.clear()\n",
    "elem.send_keys(\"pycon\")\n",
    "elem.send_keys(Keys.RETURN)"
   ]
  },
  {
   "cell_type": "markdown",
   "metadata": {},
   "source": [
    "After submission of the page, you should get the result if there is any. To ensure that some results are found, make an assertion:"
   ]
  },
  {
   "cell_type": "code",
   "execution_count": 66,
   "metadata": {},
   "outputs": [],
   "source": [
    "assert \"No results found.\" not in driver.page_source"
   ]
  },
  {
   "cell_type": "markdown",
   "metadata": {},
   "source": [
    "Finally, the browser window is closed. You can also call quit method instead of close. The quit will exit entire browser whereas close` will close one tab, but if just one tab was open, by default most browser will exit entirely.:"
   ]
  },
  {
   "cell_type": "code",
   "execution_count": 56,
   "metadata": {},
   "outputs": [],
   "source": [
    "driver.close()"
   ]
  },
  {
   "cell_type": "markdown",
   "metadata": {},
   "source": [
    "<h4>Using Selenium to write tests</h4>"
   ]
  },
  {
   "cell_type": "code",
   "execution_count": 67,
   "metadata": {},
   "outputs": [],
   "source": [
    "import unittest\n",
    "from selenium import webdriver\n",
    "from selenium.webdriver.common.keys import Keys"
   ]
  },
  {
   "cell_type": "markdown",
   "metadata": {},
   "source": [
    "The test case class is inherited from unittest.TestCase. Inheriting from TestCase class is the way to tell unittest module that this is a test case:"
   ]
  },
  {
   "cell_type": "code",
   "execution_count": 68,
   "metadata": {},
   "outputs": [],
   "source": [
    "class PythonOrgSearch(unittest.TestCase):\n",
    "#  The setUp is part of initialization, this method will get called before every test function which you are going to write in this test case class.   \n",
    "    def setUp(self):\n",
    "        self.driver = webdriver.Chrome()\n",
    "# This is the test case method. The test case method should always start with characters test. The first line inside this method create a local reference to the driver object created in setUp method.\n",
    "    def test_search_in_python_org(self):\n",
    "        driver = self.driver\n",
    "        driver.get(\"http://www.python.org\")\n",
    "        self.assertIn(\"Python\", driver.title)\n",
    "        elem = driver.find_element_by_name(\"q\")\n",
    "        elem.send_keys(\"pycon\")\n",
    "        elem.send_keys(Keys.RETURN)\n",
    "        assert \"No results found.\" not in driver.page_source\n",
    "# The tearDown method will get called after every test method. This is a place to do all cleanup actions. In the current method, the browser window is closed. \n",
    "    def tearDown(self):\n",
    "        self.driver.close()"
   ]
  },
  {
   "cell_type": "code",
   "execution_count": 59,
   "metadata": {},
   "outputs": [
    {
     "name": "stderr",
     "output_type": "stream",
     "text": [
      "E\n",
      "======================================================================\n",
      "ERROR: C:\\Users\\ACER\\AppData\\Roaming\\jupyter\\runtime\\kernel-54174dad-2939-44b5-9943-bfab6b6dc0e2 (unittest.loader._FailedTest)\n",
      "----------------------------------------------------------------------\n",
      "AttributeError: module '__main__' has no attribute 'C:\\Users\\ACER\\AppData\\Roaming\\jupyter\\runtime\\kernel-54174dad-2939-44b5-9943-bfab6b6dc0e2'\n",
      "\n",
      "----------------------------------------------------------------------\n",
      "Ran 1 test in 0.001s\n",
      "\n",
      "FAILED (errors=1)\n"
     ]
    },
    {
     "ename": "SystemExit",
     "evalue": "True",
     "output_type": "error",
     "traceback": [
      "An exception has occurred, use %tb to see the full traceback.\n",
      "\u001b[1;31mSystemExit\u001b[0m\u001b[1;31m:\u001b[0m True\n"
     ]
    },
    {
     "name": "stderr",
     "output_type": "stream",
     "text": [
      "c:\\users\\acer\\appdata\\local\\programs\\python\\python36\\lib\\site-packages\\IPython\\core\\interactiveshell.py:3275: UserWarning: To exit: use 'exit', 'quit', or Ctrl-D.\n",
      "  warn(\"To exit: use 'exit', 'quit', or Ctrl-D.\", stacklevel=1)\n"
     ]
    }
   ],
   "source": [
    "if __name__ == \"__main__\":\n",
    "    unittest.main()"
   ]
  }
 ],
 "metadata": {
  "kernelspec": {
   "display_name": "Python 3",
   "language": "python",
   "name": "python3"
  },
  "language_info": {
   "codemirror_mode": {
    "name": "ipython",
    "version": 3
   },
   "file_extension": ".py",
   "mimetype": "text/x-python",
   "name": "python",
   "nbconvert_exporter": "python",
   "pygments_lexer": "ipython3",
   "version": "3.6.8"
  }
 },
 "nbformat": 4,
 "nbformat_minor": 2
}
