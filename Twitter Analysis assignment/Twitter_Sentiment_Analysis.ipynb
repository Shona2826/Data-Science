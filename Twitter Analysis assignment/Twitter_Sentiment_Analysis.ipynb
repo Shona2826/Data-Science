{
 "cells": [
  {
   "cell_type": "code",
   "execution_count": 7,
   "metadata": {},
   "outputs": [],
   "source": [
    "import tweepy\n",
    "import pandas as pd\n",
    "from nltk.sentiment.vader import SentimentIntensityAnalyzer"
   ]
  },
  {
   "cell_type": "code",
   "execution_count": 8,
   "metadata": {},
   "outputs": [],
   "source": [
    "consumer_key = ''\n",
    "consumer_secret = ''\n",
    "access_token = ''\n",
    "access_token_secret = ''"
   ]
  },
  {
   "cell_type": "code",
   "execution_count": 10,
   "metadata": {},
   "outputs": [
    {
     "data": {
      "text/html": [
       "<div>\n",
       "<style scoped>\n",
       "    .dataframe tbody tr th:only-of-type {\n",
       "        vertical-align: middle;\n",
       "    }\n",
       "\n",
       "    .dataframe tbody tr th {\n",
       "        vertical-align: top;\n",
       "    }\n",
       "\n",
       "    .dataframe thead th {\n",
       "        text-align: right;\n",
       "    }\n",
       "</style>\n",
       "<table border=\"1\" class=\"dataframe\">\n",
       "  <thead>\n",
       "    <tr style=\"text-align: right;\">\n",
       "      <th></th>\n",
       "      <th>Tweets</th>\n",
       "    </tr>\n",
       "  </thead>\n",
       "  <tbody>\n",
       "    <tr>\n",
       "      <th>0</th>\n",
       "      <td>RT @callin_bull: “For the last few years, star...</td>\n",
       "    </tr>\n",
       "    <tr>\n",
       "      <th>1</th>\n",
       "      <td>RT @RichardEudes: The Machine Learning Project...</td>\n",
       "    </tr>\n",
       "    <tr>\n",
       "      <th>2</th>\n",
       "      <td>@johncatsjr Omar is blind but vociferous ... s...</td>\n",
       "    </tr>\n",
       "    <tr>\n",
       "      <th>3</th>\n",
       "      <td>RT @Talend: [Blog] @Talend and @qubole Serverl...</td>\n",
       "    </tr>\n",
       "    <tr>\n",
       "      <th>4</th>\n",
       "      <td>RT @techreview: Frankly, the process of machin...</td>\n",
       "    </tr>\n",
       "    <tr>\n",
       "      <th>5</th>\n",
       "      <td>RT @investing_city: 16/ Top Coursera courses\\n...</td>\n",
       "    </tr>\n",
       "    <tr>\n",
       "      <th>6</th>\n",
       "      <td>RT @machine_ml: RT @SantchiWeb: RT @MartyCaise...</td>\n",
       "    </tr>\n",
       "    <tr>\n",
       "      <th>7</th>\n",
       "      <td>RT @_KarenHao: Now some of the biggest names i...</td>\n",
       "    </tr>\n",
       "    <tr>\n",
       "      <th>8</th>\n",
       "      <td>RT @NoelSharkey: \"startups have shamelessly re...</td>\n",
       "    </tr>\n",
       "    <tr>\n",
       "      <th>9</th>\n",
       "      <td>RT @NoelSharkey: \"startups have shamelessly re...</td>\n",
       "    </tr>\n",
       "  </tbody>\n",
       "</table>\n",
       "</div>"
      ],
      "text/plain": [
       "                                              Tweets\n",
       "0  RT @callin_bull: “For the last few years, star...\n",
       "1  RT @RichardEudes: The Machine Learning Project...\n",
       "2  @johncatsjr Omar is blind but vociferous ... s...\n",
       "3  RT @Talend: [Blog] @Talend and @qubole Serverl...\n",
       "4  RT @techreview: Frankly, the process of machin...\n",
       "5  RT @investing_city: 16/ Top Coursera courses\\n...\n",
       "6  RT @machine_ml: RT @SantchiWeb: RT @MartyCaise...\n",
       "7  RT @_KarenHao: Now some of the biggest names i...\n",
       "8  RT @NoelSharkey: \"startups have shamelessly re...\n",
       "9  RT @NoelSharkey: \"startups have shamelessly re..."
      ]
     },
     "metadata": {},
     "output_type": "display_data"
    },
    {
     "name": "stdout",
     "output_type": "stream",
     "text": [
      "2019-06-23 11:35:14\n"
     ]
    }
   ],
   "source": [
    "\n",
    "auth = tweepy.OAuthHandler(consumer_key, consumer_secret)\n",
    "auth.set_access_token(access_token, access_token_secret)\n",
    "\n",
    "api = tweepy.API(auth)\n",
    "\n",
    "tweets = api.search('Machine Learning',count=500)\n",
    "\n",
    "\n",
    "data = pd.DataFrame(data=[tweet.text for tweet in tweets], columns=['Tweets'])\n",
    "\n",
    "display(data.head(10))\n",
    "\n",
    "\n",
    "print(tweets[0].created_at)"
   ]
  },
  {
   "cell_type": "code",
   "execution_count": 11,
   "metadata": {},
   "outputs": [
    {
     "name": "stderr",
     "output_type": "stream",
     "text": [
      "[nltk_data] Downloading package vader_lexicon to\n",
      "[nltk_data]     C:\\Users\\ACER\\AppData\\Roaming\\nltk_data...\n",
      "[nltk_data]   Package vader_lexicon is already up-to-date!\n"
     ]
    },
    {
     "data": {
      "text/plain": [
       "True"
      ]
     },
     "execution_count": 11,
     "metadata": {},
     "output_type": "execute_result"
    }
   ],
   "source": [
    "import nltk\n",
    "nltk.download('vader_lexicon')"
   ]
  },
  {
   "cell_type": "code",
   "execution_count": 14,
   "metadata": {},
   "outputs": [
    {
     "data": {
      "text/html": [
       "<div>\n",
       "<style scoped>\n",
       "    .dataframe tbody tr th:only-of-type {\n",
       "        vertical-align: middle;\n",
       "    }\n",
       "\n",
       "    .dataframe tbody tr th {\n",
       "        vertical-align: top;\n",
       "    }\n",
       "\n",
       "    .dataframe thead th {\n",
       "        text-align: right;\n",
       "    }\n",
       "</style>\n",
       "<table border=\"1\" class=\"dataframe\">\n",
       "  <thead>\n",
       "    <tr style=\"text-align: right;\">\n",
       "      <th></th>\n",
       "      <th>Tweets</th>\n",
       "      <th>polarity</th>\n",
       "    </tr>\n",
       "  </thead>\n",
       "  <tbody>\n",
       "    <tr>\n",
       "      <th>0</th>\n",
       "      <td>RT @callin_bull: “For the last few years, star...</td>\n",
       "      <td>{'neg': 0.112, 'neu': 0.888, 'pos': 0.0, 'comp...</td>\n",
       "    </tr>\n",
       "    <tr>\n",
       "      <th>1</th>\n",
       "      <td>RT @RichardEudes: The Machine Learning Project...</td>\n",
       "      <td>{'neg': 0.0, 'neu': 1.0, 'pos': 0.0, 'compound...</td>\n",
       "    </tr>\n",
       "    <tr>\n",
       "      <th>2</th>\n",
       "      <td>@johncatsjr Omar is blind but vociferous ... s...</td>\n",
       "      <td>{'neg': 0.313, 'neu': 0.687, 'pos': 0.0, 'comp...</td>\n",
       "    </tr>\n",
       "    <tr>\n",
       "      <th>3</th>\n",
       "      <td>RT @Talend: [Blog] @Talend and @qubole Serverl...</td>\n",
       "      <td>{'neg': 0.0, 'neu': 1.0, 'pos': 0.0, 'compound...</td>\n",
       "    </tr>\n",
       "    <tr>\n",
       "      <th>4</th>\n",
       "      <td>RT @techreview: Frankly, the process of machin...</td>\n",
       "      <td>{'neg': 0.0, 'neu': 0.849, 'pos': 0.151, 'comp...</td>\n",
       "    </tr>\n",
       "    <tr>\n",
       "      <th>5</th>\n",
       "      <td>RT @investing_city: 16/ Top Coursera courses\\n...</td>\n",
       "      <td>{'neg': 0.0, 'neu': 0.909, 'pos': 0.091, 'comp...</td>\n",
       "    </tr>\n",
       "    <tr>\n",
       "      <th>6</th>\n",
       "      <td>RT @machine_ml: RT @SantchiWeb: RT @MartyCaise...</td>\n",
       "      <td>{'neg': 0.0, 'neu': 1.0, 'pos': 0.0, 'compound...</td>\n",
       "    </tr>\n",
       "    <tr>\n",
       "      <th>7</th>\n",
       "      <td>RT @_KarenHao: Now some of the biggest names i...</td>\n",
       "      <td>{'neg': 0.0, 'neu': 1.0, 'pos': 0.0, 'compound...</td>\n",
       "    </tr>\n",
       "    <tr>\n",
       "      <th>8</th>\n",
       "      <td>RT @NoelSharkey: \"startups have shamelessly re...</td>\n",
       "      <td>{'neg': 0.118, 'neu': 0.735, 'pos': 0.147, 'co...</td>\n",
       "    </tr>\n",
       "    <tr>\n",
       "      <th>9</th>\n",
       "      <td>RT @NoelSharkey: \"startups have shamelessly re...</td>\n",
       "      <td>{'neg': 0.118, 'neu': 0.735, 'pos': 0.147, 'co...</td>\n",
       "    </tr>\n",
       "  </tbody>\n",
       "</table>\n",
       "</div>"
      ],
      "text/plain": [
       "                                              Tweets  \\\n",
       "0  RT @callin_bull: “For the last few years, star...   \n",
       "1  RT @RichardEudes: The Machine Learning Project...   \n",
       "2  @johncatsjr Omar is blind but vociferous ... s...   \n",
       "3  RT @Talend: [Blog] @Talend and @qubole Serverl...   \n",
       "4  RT @techreview: Frankly, the process of machin...   \n",
       "5  RT @investing_city: 16/ Top Coursera courses\\n...   \n",
       "6  RT @machine_ml: RT @SantchiWeb: RT @MartyCaise...   \n",
       "7  RT @_KarenHao: Now some of the biggest names i...   \n",
       "8  RT @NoelSharkey: \"startups have shamelessly re...   \n",
       "9  RT @NoelSharkey: \"startups have shamelessly re...   \n",
       "\n",
       "                                            polarity  \n",
       "0  {'neg': 0.112, 'neu': 0.888, 'pos': 0.0, 'comp...  \n",
       "1  {'neg': 0.0, 'neu': 1.0, 'pos': 0.0, 'compound...  \n",
       "2  {'neg': 0.313, 'neu': 0.687, 'pos': 0.0, 'comp...  \n",
       "3  {'neg': 0.0, 'neu': 1.0, 'pos': 0.0, 'compound...  \n",
       "4  {'neg': 0.0, 'neu': 0.849, 'pos': 0.151, 'comp...  \n",
       "5  {'neg': 0.0, 'neu': 0.909, 'pos': 0.091, 'comp...  \n",
       "6  {'neg': 0.0, 'neu': 1.0, 'pos': 0.0, 'compound...  \n",
       "7  {'neg': 0.0, 'neu': 1.0, 'pos': 0.0, 'compound...  \n",
       "8  {'neg': 0.118, 'neu': 0.735, 'pos': 0.147, 'co...  \n",
       "9  {'neg': 0.118, 'neu': 0.735, 'pos': 0.147, 'co...  "
      ]
     },
     "metadata": {},
     "output_type": "display_data"
    }
   ],
   "source": [
    "sid = SentimentIntensityAnalyzer()\n",
    "\n",
    "\n",
    "listy = []\n",
    "\n",
    "for index, row in data.iterrows():\n",
    "    ss = sid.polarity_scores(row[\"Tweets\"])\n",
    "    listy.append(ss)\n",
    "se = pd.Series(listy)\n",
    "data['polarity'] = se.values\n",
    "\n",
    "display(data.head(10))"
   ]
  }
 ],
 "metadata": {
  "kernelspec": {
   "display_name": "Python 3",
   "language": "python",
   "name": "python3"
  },
  "language_info": {
   "codemirror_mode": {
    "name": "ipython",
    "version": 3
   },
   "file_extension": ".py",
   "mimetype": "text/x-python",
   "name": "python",
   "nbconvert_exporter": "python",
   "pygments_lexer": "ipython3",
   "version": "3.6.8"
  }
 },
 "nbformat": 4,
 "nbformat_minor": 2
}
